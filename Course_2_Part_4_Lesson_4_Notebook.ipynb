{
  "nbformat": 4,
  "nbformat_minor": 0,
  "metadata": {
    "accelerator": "GPU",
    "colab": {
      "name": "Course 2 - Part 4 - Lesson 4 - Notebook.ipynb",
      "provenance": [],
      "collapsed_sections": [],
      "toc_visible": true
    },
    "kernelspec": {
      "display_name": "Python 3",
      "name": "python3"
    }
  },
  "cells": [
    {
      "cell_type": "markdown",
      "metadata": {
        "colab_type": "text",
        "id": "rX8mhOLljYeM"
      },
      "source": [
        "##### Copyright 2019 The TensorFlow Authors."
      ]
    },
    {
      "cell_type": "code",
      "metadata": {
        "cellView": "form",
        "colab_type": "code",
        "id": "BZSlp3DAjdYf",
        "colab": {}
      },
      "source": [
        "#@title Licensed under the Apache License, Version 2.0 (the \"License\");\n",
        "# you may not use this file except in compliance with the License.\n",
        "# You may obtain a copy of the License at\n",
        "#\n",
        "# https://www.apache.org/licenses/LICENSE-2.0\n",
        "#\n",
        "# Unless required by applicable law or agreed to in writing, software\n",
        "# distributed under the License is distributed on an \"AS IS\" BASIS,\n",
        "# WITHOUT WARRANTIES OR CONDITIONS OF ANY KIND, either express or implied.\n",
        "# See the License for the specific language governing permissions and\n",
        "# limitations under the License."
      ],
      "execution_count": null,
      "outputs": []
    },
    {
      "cell_type": "code",
      "metadata": {
        "colab_type": "code",
        "id": "RXZT2UsyIVe_",
        "colab": {
          "base_uri": "https://localhost:8080/",
          "height": 391
        },
        "outputId": "b3bf6e13-ca4f-4cdb-f9d0-887196267094"
      },
      "source": [
        "!wget --no-check-certificate \\\n",
        "    https://storage.googleapis.com/laurencemoroney-blog.appspot.com/horse-or-human.zip \\\n",
        "    -O /tmp/horse-or-human.zip\n",
        "\n",
        "!wget --no-check-certificate \\\n",
        "    https://storage.googleapis.com/laurencemoroney-blog.appspot.com/validation-horse-or-human.zip \\\n",
        "    -O /tmp/validation-horse-or-human.zip\n",
        "  \n",
        "import os\n",
        "import zipfile\n",
        "\n",
        "local_zip = '/tmp/horse-or-human.zip'\n",
        "zip_ref = zipfile.ZipFile(local_zip, 'r')\n",
        "zip_ref.extractall('/tmp/horse-or-human')\n",
        "local_zip = '/tmp/validation-horse-or-human.zip'\n",
        "zip_ref = zipfile.ZipFile(local_zip, 'r')\n",
        "zip_ref.extractall('/tmp/validation-horse-or-human')\n",
        "zip_ref.close()\n",
        "# Directory with our training horse pictures\n",
        "train_horse_dir = os.path.join('/tmp/horse-or-human/horses')\n",
        "\n",
        "# Directory with our training human pictures\n",
        "train_human_dir = os.path.join('/tmp/horse-or-human/humans')\n",
        "\n",
        "# Directory with our training horse pictures\n",
        "validation_horse_dir = os.path.join('/tmp/validation-horse-or-human/horses')\n",
        "\n",
        "# Directory with our training human pictures\n",
        "validation_human_dir = os.path.join('/tmp/validation-horse-or-human/humans')"
      ],
      "execution_count": 1,
      "outputs": [
        {
          "output_type": "stream",
          "text": [
            "--2020-08-20 09:56:12--  https://storage.googleapis.com/laurencemoroney-blog.appspot.com/horse-or-human.zip\n",
            "Resolving storage.googleapis.com (storage.googleapis.com)... 74.125.206.128, 64.233.167.128, 64.233.166.128, ...\n",
            "Connecting to storage.googleapis.com (storage.googleapis.com)|74.125.206.128|:443... connected.\n",
            "HTTP request sent, awaiting response... 200 OK\n",
            "Length: 149574867 (143M) [application/zip]\n",
            "Saving to: ‘/tmp/horse-or-human.zip’\n",
            "\n",
            "/tmp/horse-or-human 100%[===================>] 142.65M   143MB/s    in 1.0s    \n",
            "\n",
            "2020-08-20 09:56:14 (143 MB/s) - ‘/tmp/horse-or-human.zip’ saved [149574867/149574867]\n",
            "\n",
            "--2020-08-20 09:56:16--  https://storage.googleapis.com/laurencemoroney-blog.appspot.com/validation-horse-or-human.zip\n",
            "Resolving storage.googleapis.com (storage.googleapis.com)... 66.102.1.128, 74.125.206.128, 64.233.167.128, ...\n",
            "Connecting to storage.googleapis.com (storage.googleapis.com)|66.102.1.128|:443... connected.\n",
            "HTTP request sent, awaiting response... 200 OK\n",
            "Length: 11480187 (11M) [application/zip]\n",
            "Saving to: ‘/tmp/validation-horse-or-human.zip’\n",
            "\n",
            "/tmp/validation-hor 100%[===================>]  10.95M  48.5MB/s    in 0.2s    \n",
            "\n",
            "2020-08-20 09:56:17 (48.5 MB/s) - ‘/tmp/validation-horse-or-human.zip’ saved [11480187/11480187]\n",
            "\n"
          ],
          "name": "stdout"
        }
      ]
    },
    {
      "cell_type": "markdown",
      "metadata": {
        "colab_type": "text",
        "id": "5oqBkNBJmtUv"
      },
      "source": [
        "## Building a Small Model from Scratch\n",
        "\n",
        "But before we continue, let's start defining the model:\n",
        "\n",
        "Step 1 will be to import tensorflow."
      ]
    },
    {
      "cell_type": "code",
      "metadata": {
        "colab_type": "code",
        "id": "qvfZg3LQbD-5",
        "colab": {}
      },
      "source": [
        "import tensorflow as tf"
      ],
      "execution_count": 5,
      "outputs": []
    },
    {
      "cell_type": "markdown",
      "metadata": {
        "colab_type": "text",
        "id": "BnhYCP4tdqjC"
      },
      "source": [
        "We then add convolutional layers as in the previous example, and flatten the final result to feed into the densely connected layers."
      ]
    },
    {
      "cell_type": "markdown",
      "metadata": {
        "colab_type": "text",
        "id": "gokG5HKpdtzm"
      },
      "source": [
        "Finally we add the densely connected layers. \n",
        "\n",
        "Note that because we are facing a two-class classification problem, i.e. a *binary classification problem*, we will end our network with a [*sigmoid* activation](https://wikipedia.org/wiki/Sigmoid_function), so that the output of our network will be a single scalar between 0 and 1, encoding the probability that the current image is class 1 (as opposed to class 0)."
      ]
    },
    {
      "cell_type": "code",
      "metadata": {
        "colab_type": "code",
        "id": "PixZ2s5QbYQ3",
        "colab": {}
      },
      "source": [
        "model = tf.keras.models.Sequential([\n",
        "    # Note the input shape is the desired size of the image 300x300 with 3 bytes color\n",
        "    # This is the first convolution\n",
        "    tf.keras.layers.Conv2D(16, (3,3), activation='relu', input_shape=(300, 300, 3)),\n",
        "    tf.keras.layers.MaxPooling2D(2, 2),\n",
        "    # The second convolution\n",
        "    tf.keras.layers.Conv2D(32, (3,3), activation='relu'),\n",
        "    tf.keras.layers.MaxPooling2D(2,2),\n",
        "    # The third convolution\n",
        "    tf.keras.layers.Conv2D(64, (3,3), activation='relu'),\n",
        "    tf.keras.layers.MaxPooling2D(2,2),\n",
        "    # The fourth convolution\n",
        "    tf.keras.layers.Conv2D(64, (3,3), activation='relu'),\n",
        "    tf.keras.layers.MaxPooling2D(2,2),\n",
        "    # The fifth convolution\n",
        "    tf.keras.layers.Conv2D(64, (3,3), activation='relu'),\n",
        "    tf.keras.layers.MaxPooling2D(2,2),\n",
        "    # Flatten the results to feed into a DNN\n",
        "    tf.keras.layers.Flatten(),\n",
        "    # 512 neuron hidden layer\n",
        "    tf.keras.layers.Dense(512, activation='relu'),\n",
        "    # Only 1 output neuron. It will contain a value from 0-1 where 0 for 1 class ('horses') and 1 for the other ('humans')\n",
        "    tf.keras.layers.Dense(1, activation='sigmoid')\n",
        "])"
      ],
      "execution_count": 6,
      "outputs": []
    },
    {
      "cell_type": "code",
      "metadata": {
        "colab_type": "code",
        "id": "8DHWhFP_uhq3",
        "colab": {}
      },
      "source": [
        "from tensorflow.keras.optimizers import RMSprop\n",
        "\n",
        "model.compile(loss='binary_crossentropy',\n",
        "              optimizer=RMSprop(lr=1e-4),\n",
        "              metrics=['accuracy'])"
      ],
      "execution_count": 7,
      "outputs": []
    },
    {
      "cell_type": "code",
      "metadata": {
        "colab_type": "code",
        "id": "ClebU9NJg99G",
        "colab": {
          "base_uri": "https://localhost:8080/",
          "height": 51
        },
        "outputId": "7246d51f-6dfd-4c9c-8a9c-3322c4cd1db6"
      },
      "source": [
        "from tensorflow.keras.preprocessing.image import ImageDataGenerator\n",
        "\n",
        "# All images will be rescaled by 1./255\n",
        "train_datagen = ImageDataGenerator(\n",
        "      rescale=1./255,\n",
        "      rotation_range=40,\n",
        "      width_shift_range=0.2,\n",
        "      height_shift_range=0.2,\n",
        "      shear_range=0.2,\n",
        "      zoom_range=0.2,\n",
        "      horizontal_flip=True,\n",
        "      fill_mode='nearest')\n",
        "\n",
        "validation_datagen = ImageDataGenerator(rescale=1/255)\n",
        "\n",
        "# Flow training images in batches of 128 using train_datagen generator\n",
        "train_generator = train_datagen.flow_from_directory(\n",
        "        '/tmp/horse-or-human/',  # This is the source directory for training images\n",
        "        target_size=(300, 300),  # All images will be resized to 150x150\n",
        "        batch_size=128,\n",
        "        # Since we use binary_crossentropy loss, we need binary labels\n",
        "        class_mode='binary')\n",
        "\n",
        "# Flow training images in batches of 128 using train_datagen generator\n",
        "validation_generator = validation_datagen.flow_from_directory(\n",
        "        '/tmp/validation-horse-or-human/',  # This is the source directory for training images\n",
        "        target_size=(300, 300),  # All images will be resized to 150x150\n",
        "        batch_size=32,\n",
        "        # Since we use binary_crossentropy loss, we need binary labels\n",
        "        class_mode='binary')"
      ],
      "execution_count": 8,
      "outputs": [
        {
          "output_type": "stream",
          "text": [
            "Found 1027 images belonging to 2 classes.\n",
            "Found 256 images belonging to 2 classes.\n"
          ],
          "name": "stdout"
        }
      ]
    },
    {
      "cell_type": "code",
      "metadata": {
        "colab_type": "code",
        "id": "Fb1_lgobv81m",
        "colab": {
          "base_uri": "https://localhost:8080/",
          "height": 1000
        },
        "outputId": "548a3865-0dd7-4f92-99ea-8564c0318e43"
      },
      "source": [
        "history = model.fit(\n",
        "      train_generator,\n",
        "      steps_per_epoch=8,  \n",
        "      epochs=100,\n",
        "      verbose=1,\n",
        "      validation_data = validation_generator,\n",
        "      validation_steps=8)"
      ],
      "execution_count": 9,
      "outputs": [
        {
          "output_type": "stream",
          "text": [
            "Epoch 1/100\n",
            "8/8 [==============================] - 24s 3s/step - loss: 0.6865 - accuracy: 0.5428 - val_loss: 0.6514 - val_accuracy: 0.9297\n",
            "Epoch 2/100\n",
            "8/8 [==============================] - 22s 3s/step - loss: 0.6746 - accuracy: 0.5851 - val_loss: 0.6502 - val_accuracy: 0.5039\n",
            "Epoch 3/100\n",
            "8/8 [==============================] - 22s 3s/step - loss: 0.6666 - accuracy: 0.6073 - val_loss: 0.6702 - val_accuracy: 0.5000\n",
            "Epoch 4/100\n",
            "8/8 [==============================] - 22s 3s/step - loss: 0.6475 - accuracy: 0.6385 - val_loss: 0.5870 - val_accuracy: 0.6211\n",
            "Epoch 5/100\n",
            "8/8 [==============================] - 22s 3s/step - loss: 0.6099 - accuracy: 0.7152 - val_loss: 0.5179 - val_accuracy: 0.7422\n",
            "Epoch 6/100\n",
            "8/8 [==============================] - 22s 3s/step - loss: 0.5886 - accuracy: 0.7186 - val_loss: 0.4512 - val_accuracy: 0.9336\n",
            "Epoch 7/100\n",
            "8/8 [==============================] - 22s 3s/step - loss: 0.5859 - accuracy: 0.7030 - val_loss: 0.5565 - val_accuracy: 0.6445\n",
            "Epoch 8/100\n",
            "8/8 [==============================] - 22s 3s/step - loss: 0.5506 - accuracy: 0.7408 - val_loss: 0.4955 - val_accuracy: 0.6992\n",
            "Epoch 9/100\n",
            "8/8 [==============================] - 22s 3s/step - loss: 0.5385 - accuracy: 0.7508 - val_loss: 0.5764 - val_accuracy: 0.6289\n",
            "Epoch 10/100\n",
            "8/8 [==============================] - 22s 3s/step - loss: 0.5134 - accuracy: 0.7620 - val_loss: 0.5983 - val_accuracy: 0.6406\n",
            "Epoch 11/100\n",
            "8/8 [==============================] - 22s 3s/step - loss: 0.4914 - accuracy: 0.7675 - val_loss: 0.5494 - val_accuracy: 0.6758\n",
            "Epoch 12/100\n",
            "8/8 [==============================] - 22s 3s/step - loss: 0.5358 - accuracy: 0.7542 - val_loss: 0.5570 - val_accuracy: 0.6875\n",
            "Epoch 13/100\n",
            "8/8 [==============================] - 24s 3s/step - loss: 0.4357 - accuracy: 0.8154 - val_loss: 0.7889 - val_accuracy: 0.6328\n",
            "Epoch 14/100\n",
            "8/8 [==============================] - 22s 3s/step - loss: 0.5076 - accuracy: 0.7653 - val_loss: 0.5953 - val_accuracy: 0.6914\n",
            "Epoch 15/100\n",
            "8/8 [==============================] - 22s 3s/step - loss: 0.4540 - accuracy: 0.8087 - val_loss: 0.5699 - val_accuracy: 0.7227\n",
            "Epoch 16/100\n",
            "8/8 [==============================] - 22s 3s/step - loss: 0.5100 - accuracy: 0.7709 - val_loss: 0.7106 - val_accuracy: 0.6523\n",
            "Epoch 17/100\n",
            "8/8 [==============================] - 22s 3s/step - loss: 0.4256 - accuracy: 0.8098 - val_loss: 0.7338 - val_accuracy: 0.6836\n",
            "Epoch 18/100\n",
            "8/8 [==============================] - 22s 3s/step - loss: 0.4411 - accuracy: 0.7875 - val_loss: 0.8371 - val_accuracy: 0.6562\n",
            "Epoch 19/100\n",
            "8/8 [==============================] - 22s 3s/step - loss: 0.4384 - accuracy: 0.8053 - val_loss: 0.8725 - val_accuracy: 0.6562\n",
            "Epoch 20/100\n",
            "8/8 [==============================] - 22s 3s/step - loss: 0.4134 - accuracy: 0.8154 - val_loss: 0.8679 - val_accuracy: 0.6719\n",
            "Epoch 21/100\n",
            "8/8 [==============================] - 22s 3s/step - loss: 0.3849 - accuracy: 0.8420 - val_loss: 0.5596 - val_accuracy: 0.7969\n",
            "Epoch 22/100\n",
            "8/8 [==============================] - 22s 3s/step - loss: 0.3838 - accuracy: 0.8331 - val_loss: 0.8870 - val_accuracy: 0.6719\n",
            "Epoch 23/100\n",
            "8/8 [==============================] - 22s 3s/step - loss: 0.4283 - accuracy: 0.8020 - val_loss: 0.9661 - val_accuracy: 0.6445\n",
            "Epoch 24/100\n",
            "8/8 [==============================] - 25s 3s/step - loss: 0.3800 - accuracy: 0.8242 - val_loss: 1.4561 - val_accuracy: 0.5586\n",
            "Epoch 25/100\n",
            "8/8 [==============================] - 22s 3s/step - loss: 0.4083 - accuracy: 0.8053 - val_loss: 1.0228 - val_accuracy: 0.6328\n",
            "Epoch 26/100\n",
            "8/8 [==============================] - 22s 3s/step - loss: 0.3528 - accuracy: 0.8454 - val_loss: 0.9605 - val_accuracy: 0.6484\n",
            "Epoch 27/100\n",
            "8/8 [==============================] - 22s 3s/step - loss: 0.3715 - accuracy: 0.8165 - val_loss: 2.0346 - val_accuracy: 0.5156\n",
            "Epoch 28/100\n",
            "8/8 [==============================] - 25s 3s/step - loss: 0.3425 - accuracy: 0.8420 - val_loss: 1.2417 - val_accuracy: 0.6094\n",
            "Epoch 29/100\n",
            "8/8 [==============================] - 22s 3s/step - loss: 0.3799 - accuracy: 0.8376 - val_loss: 1.2245 - val_accuracy: 0.6094\n",
            "Epoch 30/100\n",
            "8/8 [==============================] - 22s 3s/step - loss: 0.4112 - accuracy: 0.8220 - val_loss: 1.1370 - val_accuracy: 0.6250\n",
            "Epoch 31/100\n",
            "8/8 [==============================] - 22s 3s/step - loss: 0.3557 - accuracy: 0.8365 - val_loss: 1.4274 - val_accuracy: 0.5859\n",
            "Epoch 32/100\n",
            "8/8 [==============================] - 22s 3s/step - loss: 0.3074 - accuracy: 0.8710 - val_loss: 1.4270 - val_accuracy: 0.5898\n",
            "Epoch 33/100\n",
            "8/8 [==============================] - 22s 3s/step - loss: 0.3117 - accuracy: 0.8810 - val_loss: 1.6771 - val_accuracy: 0.5664\n",
            "Epoch 34/100\n",
            "8/8 [==============================] - 22s 3s/step - loss: 0.3006 - accuracy: 0.8665 - val_loss: 1.0974 - val_accuracy: 0.6836\n",
            "Epoch 35/100\n",
            "8/8 [==============================] - 22s 3s/step - loss: 0.2746 - accuracy: 0.8899 - val_loss: 1.2248 - val_accuracy: 0.6680\n",
            "Epoch 36/100\n",
            "8/8 [==============================] - 22s 3s/step - loss: 0.3451 - accuracy: 0.8521 - val_loss: 1.0754 - val_accuracy: 0.6484\n",
            "Epoch 37/100\n",
            "8/8 [==============================] - 22s 3s/step - loss: 0.2599 - accuracy: 0.8943 - val_loss: 1.3747 - val_accuracy: 0.6172\n",
            "Epoch 38/100\n",
            "8/8 [==============================] - 22s 3s/step - loss: 0.2952 - accuracy: 0.8710 - val_loss: 1.2651 - val_accuracy: 0.6484\n",
            "Epoch 39/100\n",
            "8/8 [==============================] - 22s 3s/step - loss: 0.2449 - accuracy: 0.9077 - val_loss: 1.8102 - val_accuracy: 0.5820\n",
            "Epoch 40/100\n",
            "8/8 [==============================] - 22s 3s/step - loss: 0.2992 - accuracy: 0.8687 - val_loss: 1.6509 - val_accuracy: 0.5977\n",
            "Epoch 41/100\n",
            "8/8 [==============================] - 22s 3s/step - loss: 0.2879 - accuracy: 0.8799 - val_loss: 1.4831 - val_accuracy: 0.6172\n",
            "Epoch 42/100\n",
            "8/8 [==============================] - 22s 3s/step - loss: 0.2394 - accuracy: 0.9043 - val_loss: 1.6299 - val_accuracy: 0.6172\n",
            "Epoch 43/100\n",
            "8/8 [==============================] - 22s 3s/step - loss: 0.3305 - accuracy: 0.8699 - val_loss: 1.1181 - val_accuracy: 0.6562\n",
            "Epoch 44/100\n",
            "8/8 [==============================] - 22s 3s/step - loss: 0.2230 - accuracy: 0.9210 - val_loss: 2.6014 - val_accuracy: 0.5195\n",
            "Epoch 45/100\n",
            "8/8 [==============================] - 25s 3s/step - loss: 0.2542 - accuracy: 0.8975 - val_loss: 2.1413 - val_accuracy: 0.5430\n",
            "Epoch 46/100\n",
            "8/8 [==============================] - 22s 3s/step - loss: 0.2319 - accuracy: 0.9021 - val_loss: 1.8238 - val_accuracy: 0.6016\n",
            "Epoch 47/100\n",
            "8/8 [==============================] - 22s 3s/step - loss: 0.2917 - accuracy: 0.8665 - val_loss: 2.2431 - val_accuracy: 0.5742\n",
            "Epoch 48/100\n",
            "8/8 [==============================] - 22s 3s/step - loss: 0.2149 - accuracy: 0.9110 - val_loss: 2.1992 - val_accuracy: 0.5820\n",
            "Epoch 49/100\n",
            "8/8 [==============================] - 22s 3s/step - loss: 0.2293 - accuracy: 0.9032 - val_loss: 2.4636 - val_accuracy: 0.5234\n",
            "Epoch 50/100\n",
            "8/8 [==============================] - 22s 3s/step - loss: 0.2244 - accuracy: 0.9032 - val_loss: 2.1869 - val_accuracy: 0.5625\n",
            "Epoch 51/100\n",
            "8/8 [==============================] - 22s 3s/step - loss: 0.3045 - accuracy: 0.8699 - val_loss: 1.8368 - val_accuracy: 0.6055\n",
            "Epoch 52/100\n",
            "8/8 [==============================] - 25s 3s/step - loss: 0.2334 - accuracy: 0.9099 - val_loss: 2.2942 - val_accuracy: 0.5781\n",
            "Epoch 53/100\n",
            "8/8 [==============================] - 22s 3s/step - loss: 0.2496 - accuracy: 0.8954 - val_loss: 1.5389 - val_accuracy: 0.6133\n",
            "Epoch 54/100\n",
            "8/8 [==============================] - 25s 3s/step - loss: 0.1979 - accuracy: 0.9316 - val_loss: 1.7660 - val_accuracy: 0.6094\n",
            "Epoch 55/100\n",
            "8/8 [==============================] - 22s 3s/step - loss: 0.2019 - accuracy: 0.9221 - val_loss: 1.4949 - val_accuracy: 0.6719\n",
            "Epoch 56/100\n",
            "8/8 [==============================] - 22s 3s/step - loss: 0.2565 - accuracy: 0.8888 - val_loss: 1.8008 - val_accuracy: 0.6211\n",
            "Epoch 57/100\n",
            "8/8 [==============================] - 24s 3s/step - loss: 0.1842 - accuracy: 0.9346 - val_loss: 1.6629 - val_accuracy: 0.6367\n",
            "Epoch 58/100\n",
            "8/8 [==============================] - 22s 3s/step - loss: 0.2395 - accuracy: 0.9121 - val_loss: 2.4573 - val_accuracy: 0.5742\n",
            "Epoch 59/100\n",
            "8/8 [==============================] - 25s 3s/step - loss: 0.2183 - accuracy: 0.8994 - val_loss: 2.6003 - val_accuracy: 0.5547\n",
            "Epoch 60/100\n",
            "8/8 [==============================] - 25s 3s/step - loss: 0.2014 - accuracy: 0.9232 - val_loss: 2.5342 - val_accuracy: 0.5781\n",
            "Epoch 61/100\n",
            "8/8 [==============================] - 22s 3s/step - loss: 0.2051 - accuracy: 0.9132 - val_loss: 2.5898 - val_accuracy: 0.5703\n",
            "Epoch 62/100\n",
            "8/8 [==============================] - 22s 3s/step - loss: 0.2267 - accuracy: 0.9055 - val_loss: 2.7071 - val_accuracy: 0.5547\n",
            "Epoch 63/100\n",
            "8/8 [==============================] - 22s 3s/step - loss: 0.1964 - accuracy: 0.9177 - val_loss: 1.8665 - val_accuracy: 0.6133\n",
            "Epoch 64/100\n",
            "8/8 [==============================] - 22s 3s/step - loss: 0.1876 - accuracy: 0.9277 - val_loss: 2.1739 - val_accuracy: 0.5977\n",
            "Epoch 65/100\n",
            "8/8 [==============================] - 22s 3s/step - loss: 0.1362 - accuracy: 0.9544 - val_loss: 2.2733 - val_accuracy: 0.5938\n",
            "Epoch 66/100\n",
            "8/8 [==============================] - 22s 3s/step - loss: 0.2800 - accuracy: 0.8865 - val_loss: 2.5513 - val_accuracy: 0.5781\n",
            "Epoch 67/100\n",
            "8/8 [==============================] - 22s 3s/step - loss: 0.1343 - accuracy: 0.9511 - val_loss: 2.9314 - val_accuracy: 0.5703\n",
            "Epoch 68/100\n",
            "8/8 [==============================] - 22s 3s/step - loss: 0.1921 - accuracy: 0.9244 - val_loss: 3.1059 - val_accuracy: 0.5625\n",
            "Epoch 69/100\n",
            "8/8 [==============================] - 22s 3s/step - loss: 0.3218 - accuracy: 0.9010 - val_loss: 2.1920 - val_accuracy: 0.6016\n",
            "Epoch 70/100\n",
            "8/8 [==============================] - 22s 3s/step - loss: 0.1256 - accuracy: 0.9622 - val_loss: 3.2138 - val_accuracy: 0.5508\n",
            "Epoch 71/100\n",
            "8/8 [==============================] - 22s 3s/step - loss: 0.2324 - accuracy: 0.9099 - val_loss: 2.1901 - val_accuracy: 0.6016\n",
            "Epoch 72/100\n",
            "8/8 [==============================] - 23s 3s/step - loss: 0.1362 - accuracy: 0.9499 - val_loss: 2.3037 - val_accuracy: 0.6094\n",
            "Epoch 73/100\n",
            "8/8 [==============================] - 22s 3s/step - loss: 0.1472 - accuracy: 0.9355 - val_loss: 3.4756 - val_accuracy: 0.5312\n",
            "Epoch 74/100\n",
            "8/8 [==============================] - 22s 3s/step - loss: 0.1373 - accuracy: 0.9511 - val_loss: 3.7028 - val_accuracy: 0.5117\n",
            "Epoch 75/100\n",
            "8/8 [==============================] - 22s 3s/step - loss: 0.1891 - accuracy: 0.9166 - val_loss: 4.1745 - val_accuracy: 0.5234\n",
            "Epoch 76/100\n",
            "8/8 [==============================] - 22s 3s/step - loss: 0.1848 - accuracy: 0.9255 - val_loss: 2.2409 - val_accuracy: 0.5977\n",
            "Epoch 77/100\n",
            "8/8 [==============================] - 22s 3s/step - loss: 0.1543 - accuracy: 0.9399 - val_loss: 2.6556 - val_accuracy: 0.5820\n",
            "Epoch 78/100\n",
            "8/8 [==============================] - 22s 3s/step - loss: 0.1338 - accuracy: 0.9544 - val_loss: 3.8158 - val_accuracy: 0.5391\n",
            "Epoch 79/100\n",
            "8/8 [==============================] - 25s 3s/step - loss: 0.2117 - accuracy: 0.9143 - val_loss: 2.5940 - val_accuracy: 0.5938\n",
            "Epoch 80/100\n",
            "8/8 [==============================] - 22s 3s/step - loss: 0.1143 - accuracy: 0.9722 - val_loss: 3.7291 - val_accuracy: 0.5508\n",
            "Epoch 81/100\n",
            "8/8 [==============================] - 22s 3s/step - loss: 0.1659 - accuracy: 0.9388 - val_loss: 1.9491 - val_accuracy: 0.6484\n",
            "Epoch 82/100\n",
            "8/8 [==============================] - 22s 3s/step - loss: 0.1475 - accuracy: 0.9410 - val_loss: 4.0662 - val_accuracy: 0.5312\n",
            "Epoch 83/100\n",
            "8/8 [==============================] - 22s 3s/step - loss: 0.1782 - accuracy: 0.9333 - val_loss: 2.3369 - val_accuracy: 0.6133\n",
            "Epoch 84/100\n",
            "8/8 [==============================] - 22s 3s/step - loss: 0.2048 - accuracy: 0.9132 - val_loss: 1.2175 - val_accuracy: 0.7266\n",
            "Epoch 85/100\n",
            "8/8 [==============================] - 22s 3s/step - loss: 0.1183 - accuracy: 0.9566 - val_loss: 2.2398 - val_accuracy: 0.6328\n",
            "Epoch 86/100\n",
            "8/8 [==============================] - 22s 3s/step - loss: 0.1611 - accuracy: 0.9344 - val_loss: 4.0423 - val_accuracy: 0.5234\n",
            "Epoch 87/100\n",
            "8/8 [==============================] - 25s 3s/step - loss: 0.1123 - accuracy: 0.9566 - val_loss: 3.3020 - val_accuracy: 0.5859\n",
            "Epoch 88/100\n",
            "8/8 [==============================] - 22s 3s/step - loss: 0.1585 - accuracy: 0.9266 - val_loss: 3.7728 - val_accuracy: 0.5352\n",
            "Epoch 89/100\n",
            "8/8 [==============================] - 22s 3s/step - loss: 0.1202 - accuracy: 0.9488 - val_loss: 3.1089 - val_accuracy: 0.5820\n",
            "Epoch 90/100\n",
            "8/8 [==============================] - 22s 3s/step - loss: 0.4045 - accuracy: 0.8843 - val_loss: 2.1976 - val_accuracy: 0.6172\n",
            "Epoch 91/100\n",
            "8/8 [==============================] - 22s 3s/step - loss: 0.1219 - accuracy: 0.9555 - val_loss: 2.8941 - val_accuracy: 0.5898\n",
            "Epoch 92/100\n",
            "8/8 [==============================] - 25s 3s/step - loss: 0.1079 - accuracy: 0.9609 - val_loss: 3.9369 - val_accuracy: 0.5547\n",
            "Epoch 93/100\n",
            "8/8 [==============================] - 22s 3s/step - loss: 0.1196 - accuracy: 0.9533 - val_loss: 2.3254 - val_accuracy: 0.6523\n",
            "Epoch 94/100\n",
            "8/8 [==============================] - 22s 3s/step - loss: 0.1327 - accuracy: 0.9511 - val_loss: 2.9042 - val_accuracy: 0.5938\n",
            "Epoch 95/100\n",
            "8/8 [==============================] - 25s 3s/step - loss: 0.1489 - accuracy: 0.9355 - val_loss: 3.6361 - val_accuracy: 0.5664\n",
            "Epoch 96/100\n",
            "8/8 [==============================] - 22s 3s/step - loss: 0.1828 - accuracy: 0.9266 - val_loss: 2.6195 - val_accuracy: 0.5938\n",
            "Epoch 97/100\n",
            "8/8 [==============================] - 25s 3s/step - loss: 0.1057 - accuracy: 0.9588 - val_loss: 3.4386 - val_accuracy: 0.5820\n",
            "Epoch 98/100\n",
            "8/8 [==============================] - 22s 3s/step - loss: 0.0998 - accuracy: 0.9622 - val_loss: 2.9674 - val_accuracy: 0.5977\n",
            "Epoch 99/100\n",
            "8/8 [==============================] - 22s 3s/step - loss: 0.1897 - accuracy: 0.9210 - val_loss: 3.0865 - val_accuracy: 0.5898\n",
            "Epoch 100/100\n",
            "8/8 [==============================] - 22s 3s/step - loss: 0.0915 - accuracy: 0.9700 - val_loss: 3.1629 - val_accuracy: 0.5898\n"
          ],
          "name": "stdout"
        }
      ]
    },
    {
      "cell_type": "code",
      "metadata": {
        "colab_type": "code",
        "id": "7zNPRWOVJdOH",
        "colab": {
          "base_uri": "https://localhost:8080/",
          "height": 545
        },
        "outputId": "019fb9d1-96ae-42c6-e91b-6c7508ac072c"
      },
      "source": [
        "import matplotlib.pyplot as plt\n",
        "acc = history.history['accuracy']\n",
        "val_acc = history.history['val_accuracy']\n",
        "loss = history.history['loss']\n",
        "val_loss = history.history['val_loss']\n",
        "\n",
        "epochs = range(len(acc))\n",
        "\n",
        "plt.plot(epochs, acc, 'r', label='Training accuracy')\n",
        "plt.plot(epochs, val_acc, 'b', label='Validation accuracy')\n",
        "plt.title('Training and validation accuracy')\n",
        "\n",
        "plt.figure()\n",
        "\n",
        "plt.plot(epochs, loss, 'r', label='Training Loss')\n",
        "plt.plot(epochs, val_loss, 'b', label='Validation Loss')\n",
        "plt.title('Training and validation loss')\n",
        "plt.legend()\n",
        "\n",
        "plt.show()"
      ],
      "execution_count": 10,
      "outputs": [
        {
          "output_type": "display_data",
          "data": {
            "image/png": "[encoded data removed]",
            "text/plain": [
              "<Figure size 432x288 with 1 Axes>"
            ]
          },
          "metadata": {
            "tags": [],
            "needs_background": "light"
          }
        },
        {
          "output_type": "display_data",
          "data": {
            "image/png": "[encoded data removed]",
            "text/plain": [
              "<Figure size 432x288 with 1 Axes>"
            ]
          },
          "metadata": {
            "tags": [],
            "needs_background": "light"
          }
        }
      ]
    }
  ]
}