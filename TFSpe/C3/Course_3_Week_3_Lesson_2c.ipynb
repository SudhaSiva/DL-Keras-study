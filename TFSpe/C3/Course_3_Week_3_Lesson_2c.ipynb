{
  "nbformat": 4,
  "nbformat_minor": 0,
  "metadata": {
    "accelerator": "GPU",
    "colab": {
      "name": "Course 3 - Week 3 - Lesson 2c.ipynb",
      "provenance": [],
      "collapsed_sections": [],
      "toc_visible": true
    },
    "kernelspec": {
      "display_name": "Python 3",
      "language": "python",
      "name": "python3"
    },
    "language_info": {
      "codemirror_mode": {
        "name": "ipython",
        "version": 3
      },
      "file_extension": ".py",
      "mimetype": "text/x-python",
      "name": "python",
      "nbconvert_exporter": "python",
      "pygments_lexer": "ipython3",
      "version": "3.7.6"
    }
  },
  "cells": [
    {
      "cell_type": "code",
      "metadata": {
        "colab_type": "code",
        "id": "zX4Kg8DUTKWO",
        "colab": {}
      },
      "source": [
        "#@title Licensed under the Apache License, Version 2.0 (the \"License\");\n",
        "# you may not use this file except in compliance with the License.\n",
        "# You may obtain a copy of the License at\n",
        "#\n",
        "# https://www.apache.org/licenses/LICENSE-2.0\n",
        "#\n",
        "# Unless required by applicable law or agreed to in writing, software\n",
        "# distributed under the License is distributed on an \"AS IS\" BASIS,\n",
        "# WITHOUT WARRANTIES OR CONDITIONS OF ANY KIND, either express or implied.\n",
        "# See the License for the specific language governing permissions and\n",
        "# limitations under the License."
      ],
      "execution_count": null,
      "outputs": []
    },
    {
      "cell_type": "markdown",
      "metadata": {
        "id": "0JTf73h3lStq",
        "colab_type": "text"
      },
      "source": [
        "<a href=\"https://colab.research.google.com/github/lmoroney/dlaicourse/blob/master/TensorFlow%20In%20Practice/Course%203%20-%20NLP/Course%203%20-%20Week%203%20-%20Lesson%202c.ipynb\" target=\"_parent\"><img src=\"https://colab.research.google.com/assets/colab-badge.svg\" alt=\"Open In Colab\"/></a>"
      ]
    },
    {
      "cell_type": "code",
      "metadata": {
        "colab_type": "code",
        "id": "jGwXGIXvFhXW",
        "colab": {
          "base_uri": "https://localhost:8080/",
          "height": 1000
        },
        "outputId": "b96c4fae-8e44-4f74-d7be-5fe66fdf6487"
      },
      "source": [
        "import numpy as np\n",
        "\n",
        "import json\n",
        "import tensorflow as tf\n",
        "\n",
        "from tensorflow.keras.preprocessing.text import Tokenizer\n",
        "from tensorflow.keras.preprocessing.sequence import pad_sequences\n",
        "\n",
        "!wget --no-check-certificate \\\n",
        "    https://storage.googleapis.com/laurencemoroney-blog.appspot.com/sarcasm.json \\\n",
        "    -O /tmp/sarcasm.json\n",
        "\n",
        "vocab_size = 1000\n",
        "embedding_dim = 16\n",
        "max_length = 120\n",
        "trunc_type='post'\n",
        "padding_type='post'\n",
        "oov_tok = \"<OOV>\"\n",
        "training_size = 20000\n",
        "\n",
        "\n",
        "with open(\"/tmp/sarcasm.json\", 'r') as f:\n",
        "    datastore = json.load(f)\n",
        "\n",
        "\n",
        "sentences = []\n",
        "labels = []\n",
        "urls = []\n",
        "for item in datastore:\n",
        "    sentences.append(item['headline'])\n",
        "    labels.append(item['is_sarcastic'])\n",
        "\n",
        "training_sentences = sentences[0:training_size]\n",
        "testing_sentences = sentences[training_size:]\n",
        "training_labels = labels[0:training_size]\n",
        "testing_labels = labels[training_size:]\n",
        "\n",
        "tokenizer = Tokenizer(num_words=vocab_size, oov_token=oov_tok)\n",
        "tokenizer.fit_on_texts(training_sentences)\n",
        "\n",
        "word_index = tokenizer.word_index\n",
        "\n",
        "training_sequences = tokenizer.texts_to_sequences(training_sentences)\n",
        "training_padded = pad_sequences(training_sequences, maxlen=max_length, padding=padding_type, truncating=trunc_type)\n",
        "\n",
        "testing_sequences = tokenizer.texts_to_sequences(testing_sentences)\n",
        "testing_padded = pad_sequences(testing_sequences, maxlen=max_length, padding=padding_type, truncating=trunc_type)\n",
        "\n",
        "model = tf.keras.Sequential([\n",
        "    tf.keras.layers.Embedding(vocab_size, embedding_dim, input_length=max_length),\n",
        "    tf.keras.layers.Conv1D(128, 5, activation='relu'),\n",
        "    tf.keras.layers.GlobalMaxPooling1D(),\n",
        "    tf.keras.layers.Dense(24, activation='relu'),\n",
        "    tf.keras.layers.Dense(1, activation='sigmoid')\n",
        "])\n",
        "model.compile(loss='binary_crossentropy',optimizer='adam',metrics=['accuracy'])\n",
        "model.summary()\n",
        "\n",
        "num_epochs = 50\n",
        "\n",
        "training_padded = np.array(training_padded)\n",
        "training_labels = np.array(training_labels)\n",
        "testing_padded = np.array(testing_padded)\n",
        "testing_labels = np.array(testing_labels)\n",
        "\n",
        "history = model.fit(training_padded, training_labels, epochs=num_epochs, validation_data=(testing_padded, testing_labels), verbose=1)\n"
      ],
      "execution_count": 1,
      "outputs": [
        {
          "output_type": "stream",
          "text": [
            "--2020-09-04 06:11:50--  https://storage.googleapis.com/laurencemoroney-blog.appspot.com/sarcasm.json\n",
            "Resolving storage.googleapis.com (storage.googleapis.com)... 74.125.142.128, 74.125.195.128, 2607:f8b0:400e:c03::80, ...\n",
            "Connecting to storage.googleapis.com (storage.googleapis.com)|74.125.142.128|:443... connected.\n",
            "HTTP request sent, awaiting response... 200 OK\n",
            "Length: 5643545 (5.4M) [application/json]\n",
            "Saving to: ‘/tmp/sarcasm.json’\n",
            "\n",
            "\r/tmp/sarcasm.json     0%[                    ]       0  --.-KB/s               \r/tmp/sarcasm.json   100%[===================>]   5.38M  --.-KB/s    in 0.02s   \n",
            "\n",
            "2020-09-04 06:11:50 (238 MB/s) - ‘/tmp/sarcasm.json’ saved [5643545/5643545]\n",
            "\n",
            "Model: \"sequential\"\n",
            "_________________________________________________________________\n",
            "Layer (type)                 Output Shape              Param #   \n",
            "=================================================================\n",
            "embedding (Embedding)        (None, 120, 16)           16000     \n",
            "_________________________________________________________________\n",
            "conv1d (Conv1D)              (None, 116, 128)          10368     \n",
            "_________________________________________________________________\n",
            "global_max_pooling1d (Global (None, 128)               0         \n",
            "_________________________________________________________________\n",
            "dense (Dense)                (None, 24)                3096      \n",
            "_________________________________________________________________\n",
            "dense_1 (Dense)              (None, 1)                 25        \n",
            "=================================================================\n",
            "Total params: 29,489\n",
            "Trainable params: 29,489\n",
            "Non-trainable params: 0\n",
            "_________________________________________________________________\n",
            "Epoch 1/50\n",
            "625/625 [==============================] - 2s 4ms/step - loss: 0.4667 - accuracy: 0.7635 - val_loss: 0.4201 - val_accuracy: 0.8038\n",
            "Epoch 2/50\n",
            "625/625 [==============================] - 2s 3ms/step - loss: 0.3595 - accuracy: 0.8406 - val_loss: 0.3939 - val_accuracy: 0.8204\n",
            "Epoch 3/50\n",
            "625/625 [==============================] - 2s 3ms/step - loss: 0.3205 - accuracy: 0.8596 - val_loss: 0.3879 - val_accuracy: 0.8240\n",
            "Epoch 4/50\n",
            "625/625 [==============================] - 2s 4ms/step - loss: 0.2861 - accuracy: 0.8766 - val_loss: 0.4016 - val_accuracy: 0.8193\n",
            "Epoch 5/50\n",
            "625/625 [==============================] - 2s 4ms/step - loss: 0.2547 - accuracy: 0.8914 - val_loss: 0.4287 - val_accuracy: 0.8134\n",
            "Epoch 6/50\n",
            "625/625 [==============================] - 2s 3ms/step - loss: 0.2207 - accuracy: 0.9083 - val_loss: 0.4798 - val_accuracy: 0.8079\n",
            "Epoch 7/50\n",
            "625/625 [==============================] - 2s 3ms/step - loss: 0.1873 - accuracy: 0.9248 - val_loss: 0.5127 - val_accuracy: 0.8031\n",
            "Epoch 8/50\n",
            "625/625 [==============================] - 2s 4ms/step - loss: 0.1607 - accuracy: 0.9364 - val_loss: 0.5742 - val_accuracy: 0.8010\n",
            "Epoch 9/50\n",
            "625/625 [==============================] - 2s 4ms/step - loss: 0.1336 - accuracy: 0.9505 - val_loss: 0.6776 - val_accuracy: 0.7970\n",
            "Epoch 10/50\n",
            "625/625 [==============================] - 2s 4ms/step - loss: 0.1120 - accuracy: 0.9580 - val_loss: 0.7060 - val_accuracy: 0.7968\n",
            "Epoch 11/50\n",
            "625/625 [==============================] - 2s 3ms/step - loss: 0.0918 - accuracy: 0.9657 - val_loss: 0.7938 - val_accuracy: 0.7928\n",
            "Epoch 12/50\n",
            "625/625 [==============================] - 2s 4ms/step - loss: 0.0780 - accuracy: 0.9725 - val_loss: 0.8889 - val_accuracy: 0.7940\n",
            "Epoch 13/50\n",
            "625/625 [==============================] - 2s 4ms/step - loss: 0.0664 - accuracy: 0.9767 - val_loss: 0.9705 - val_accuracy: 0.7919\n",
            "Epoch 14/50\n",
            "625/625 [==============================] - 2s 4ms/step - loss: 0.0584 - accuracy: 0.9787 - val_loss: 1.0174 - val_accuracy: 0.7922\n",
            "Epoch 15/50\n",
            "625/625 [==============================] - 2s 4ms/step - loss: 0.0523 - accuracy: 0.9811 - val_loss: 1.1573 - val_accuracy: 0.7877\n",
            "Epoch 16/50\n",
            "625/625 [==============================] - 2s 3ms/step - loss: 0.0477 - accuracy: 0.9822 - val_loss: 1.1823 - val_accuracy: 0.7913\n",
            "Epoch 17/50\n",
            "625/625 [==============================] - 2s 4ms/step - loss: 0.0428 - accuracy: 0.9838 - val_loss: 1.2764 - val_accuracy: 0.7873\n",
            "Epoch 18/50\n",
            "625/625 [==============================] - 2s 3ms/step - loss: 0.0406 - accuracy: 0.9846 - val_loss: 1.3763 - val_accuracy: 0.7781\n",
            "Epoch 19/50\n",
            "625/625 [==============================] - 2s 3ms/step - loss: 0.0402 - accuracy: 0.9854 - val_loss: 1.4393 - val_accuracy: 0.7857\n",
            "Epoch 20/50\n",
            "625/625 [==============================] - 2s 4ms/step - loss: 0.0367 - accuracy: 0.9858 - val_loss: 1.5990 - val_accuracy: 0.7834\n",
            "Epoch 21/50\n",
            "625/625 [==============================] - 2s 4ms/step - loss: 0.0381 - accuracy: 0.9857 - val_loss: 1.5441 - val_accuracy: 0.7861\n",
            "Epoch 22/50\n",
            "625/625 [==============================] - 2s 4ms/step - loss: 0.0360 - accuracy: 0.9855 - val_loss: 1.6139 - val_accuracy: 0.7879\n",
            "Epoch 23/50\n",
            "625/625 [==============================] - 2s 4ms/step - loss: 0.0327 - accuracy: 0.9866 - val_loss: 1.6301 - val_accuracy: 0.7831\n",
            "Epoch 24/50\n",
            "625/625 [==============================] - 2s 4ms/step - loss: 0.0286 - accuracy: 0.9887 - val_loss: 1.7564 - val_accuracy: 0.7854\n",
            "Epoch 25/50\n",
            "625/625 [==============================] - 2s 4ms/step - loss: 0.0273 - accuracy: 0.9888 - val_loss: 1.8205 - val_accuracy: 0.7769\n",
            "Epoch 26/50\n",
            "625/625 [==============================] - 2s 4ms/step - loss: 0.0319 - accuracy: 0.9869 - val_loss: 1.7975 - val_accuracy: 0.7860\n",
            "Epoch 27/50\n",
            "625/625 [==============================] - 2s 4ms/step - loss: 0.0298 - accuracy: 0.9872 - val_loss: 1.7801 - val_accuracy: 0.7815\n",
            "Epoch 28/50\n",
            "625/625 [==============================] - 2s 4ms/step - loss: 0.0281 - accuracy: 0.9886 - val_loss: 1.9712 - val_accuracy: 0.7888\n",
            "Epoch 29/50\n",
            "625/625 [==============================] - 2s 4ms/step - loss: 0.0281 - accuracy: 0.9884 - val_loss: 1.9702 - val_accuracy: 0.7819\n",
            "Epoch 30/50\n",
            "625/625 [==============================] - 2s 4ms/step - loss: 0.0262 - accuracy: 0.9891 - val_loss: 2.0154 - val_accuracy: 0.7784\n",
            "Epoch 31/50\n",
            "625/625 [==============================] - 2s 4ms/step - loss: 0.0259 - accuracy: 0.9900 - val_loss: 2.0389 - val_accuracy: 0.7877\n",
            "Epoch 32/50\n",
            "625/625 [==============================] - 2s 4ms/step - loss: 0.0249 - accuracy: 0.9894 - val_loss: 2.1359 - val_accuracy: 0.7925\n",
            "Epoch 33/50\n",
            "625/625 [==============================] - 2s 4ms/step - loss: 0.0260 - accuracy: 0.9894 - val_loss: 2.2115 - val_accuracy: 0.7839\n",
            "Epoch 34/50\n",
            "625/625 [==============================] - 2s 4ms/step - loss: 0.0269 - accuracy: 0.9886 - val_loss: 2.0668 - val_accuracy: 0.7839\n",
            "Epoch 35/50\n",
            "625/625 [==============================] - 2s 4ms/step - loss: 0.0232 - accuracy: 0.9901 - val_loss: 2.1457 - val_accuracy: 0.7895\n",
            "Epoch 36/50\n",
            "625/625 [==============================] - 2s 4ms/step - loss: 0.0212 - accuracy: 0.9905 - val_loss: 2.0715 - val_accuracy: 0.7813\n",
            "Epoch 37/50\n",
            "625/625 [==============================] - 2s 4ms/step - loss: 0.0229 - accuracy: 0.9902 - val_loss: 2.2724 - val_accuracy: 0.7842\n",
            "Epoch 38/50\n",
            "625/625 [==============================] - 2s 4ms/step - loss: 0.0267 - accuracy: 0.9892 - val_loss: 2.2039 - val_accuracy: 0.7918\n",
            "Epoch 39/50\n",
            "625/625 [==============================] - 2s 4ms/step - loss: 0.0257 - accuracy: 0.9889 - val_loss: 2.3418 - val_accuracy: 0.7828\n",
            "Epoch 40/50\n",
            "625/625 [==============================] - 2s 4ms/step - loss: 0.0250 - accuracy: 0.9897 - val_loss: 2.2408 - val_accuracy: 0.7867\n",
            "Epoch 41/50\n",
            "625/625 [==============================] - 2s 4ms/step - loss: 0.0202 - accuracy: 0.9912 - val_loss: 2.2979 - val_accuracy: 0.7910\n",
            "Epoch 42/50\n",
            "625/625 [==============================] - 2s 4ms/step - loss: 0.0202 - accuracy: 0.9916 - val_loss: 2.2942 - val_accuracy: 0.7912\n",
            "Epoch 43/50\n",
            "625/625 [==============================] - 2s 4ms/step - loss: 0.0256 - accuracy: 0.9887 - val_loss: 2.2508 - val_accuracy: 0.7877\n",
            "Epoch 44/50\n",
            "625/625 [==============================] - 2s 4ms/step - loss: 0.0262 - accuracy: 0.9893 - val_loss: 2.4297 - val_accuracy: 0.7831\n",
            "Epoch 45/50\n",
            "625/625 [==============================] - 2s 4ms/step - loss: 0.0192 - accuracy: 0.9916 - val_loss: 2.4181 - val_accuracy: 0.7852\n",
            "Epoch 46/50\n",
            "625/625 [==============================] - 2s 4ms/step - loss: 0.0169 - accuracy: 0.9923 - val_loss: 2.3881 - val_accuracy: 0.7824\n",
            "Epoch 47/50\n",
            "625/625 [==============================] - 2s 4ms/step - loss: 0.0165 - accuracy: 0.9930 - val_loss: 2.6400 - val_accuracy: 0.7833\n",
            "Epoch 48/50\n",
            "625/625 [==============================] - 2s 4ms/step - loss: 0.0193 - accuracy: 0.9915 - val_loss: 2.4563 - val_accuracy: 0.7846\n",
            "Epoch 49/50\n",
            "625/625 [==============================] - 2s 4ms/step - loss: 0.0261 - accuracy: 0.9890 - val_loss: 2.6378 - val_accuracy: 0.7876\n",
            "Epoch 50/50\n",
            "625/625 [==============================] - 2s 4ms/step - loss: 0.0267 - accuracy: 0.9891 - val_loss: 2.4617 - val_accuracy: 0.7769\n"
          ],
          "name": "stdout"
        }
      ]
    },
    {
      "cell_type": "code",
      "metadata": {
        "colab_type": "code",
        "id": "g9DC6dmLF8DC",
        "colab": {
          "base_uri": "https://localhost:8080/",
          "height": 542
        },
        "outputId": "1cd4a102-f6fb-4c1a-c28e-78a8f0581ef2"
      },
      "source": [
        "import matplotlib.pyplot as plt\n",
        "\n",
        "\n",
        "def plot_graphs(history, string):\n",
        "  plt.plot(history.history[string])\n",
        "  plt.plot(history.history['val_'+string])\n",
        "  plt.xlabel(\"Epochs\")\n",
        "  plt.ylabel(string)\n",
        "  plt.legend([string, 'val_'+string])\n",
        "  plt.show()\n",
        "\n",
        "plot_graphs(history, 'accuracy')\n",
        "plot_graphs(history, 'loss')"
      ],
      "execution_count": 2,
      "outputs": [
        {
          "output_type": "display_data",
          "data": {
            "image/png": "[encoded data removed]",
            "text/plain": [
              "<Figure size 432x288 with 1 Axes>"
            ]
          },
          "metadata": {
            "tags": [],
            "needs_background": "light"
          }
        },
        {
          "output_type": "display_data",
          "data": {
            "image/png": "[encoded data removed]",
            "text/plain": [
              "<Figure size 432x288 with 1 Axes>"
            ]
          },
          "metadata": {
            "tags": [],
            "needs_background": "light"
          }
        }
      ]
    },
    {
      "cell_type": "code",
      "metadata": {
        "colab_type": "code",
        "id": "7ZEZIUppGhdi",
        "colab": {}
      },
      "source": [
        "model.save(\"test.h5\")"
      ],
      "execution_count": null,
      "outputs": []
    }
  ]
}