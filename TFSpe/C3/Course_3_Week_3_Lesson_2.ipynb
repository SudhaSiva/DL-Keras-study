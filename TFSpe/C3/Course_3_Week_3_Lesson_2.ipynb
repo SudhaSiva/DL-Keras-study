{
  "nbformat": 4,
  "nbformat_minor": 0,
  "metadata": {
    "accelerator": "GPU",
    "colab": {
      "name": "Course 3 - Week 3 - Lesson 2.ipynb",
      "provenance": [],
      "collapsed_sections": [],
      "toc_visible": true
    },
    "kernelspec": {
      "display_name": "Python 3",
      "language": "python",
      "name": "python3"
    },
    "language_info": {
      "codemirror_mode": {
        "name": "ipython",
        "version": 3
      },
      "file_extension": ".py",
      "mimetype": "text/x-python",
      "name": "python",
      "nbconvert_exporter": "python",
      "pygments_lexer": "ipython3",
      "version": "3.7.6"
    }
  },
  "cells": [
    {
      "cell_type": "code",
      "metadata": {
        "colab_type": "code",
        "id": "zX4Kg8DUTKWO",
        "colab": {}
      },
      "source": [
        "#@title Licensed under the Apache License, Version 2.0 (the \"License\");\n",
        "# you may not use this file except in compliance with the License.\n",
        "# You may obtain a copy of the License at\n",
        "#\n",
        "# https://www.apache.org/licenses/LICENSE-2.0\n",
        "#\n",
        "# Unless required by applicable law or agreed to in writing, software\n",
        "# distributed under the License is distributed on an \"AS IS\" BASIS,\n",
        "# WITHOUT WARRANTIES OR CONDITIONS OF ANY KIND, either express or implied.\n",
        "# See the License for the specific language governing permissions and\n",
        "# limitations under the License."
      ],
      "execution_count": null,
      "outputs": []
    },
    {
      "cell_type": "markdown",
      "metadata": {
        "id": "V7Kym0-olSCd",
        "colab_type": "text"
      },
      "source": [
        "<a href=\"https://colab.research.google.com/github/lmoroney/dlaicourse/blob/master/TensorFlow%20In%20Practice/Course%203%20-%20NLP/Course%203%20-%20Week%203%20-%20Lesson%202.ipynb\" target=\"_parent\"><img src=\"https://colab.research.google.com/assets/colab-badge.svg\" alt=\"Open In Colab\"/></a>"
      ]
    },
    {
      "cell_type": "code",
      "metadata": {
        "colab_type": "code",
        "id": "jGwXGIXvFhXW",
        "colab": {
          "base_uri": "https://localhost:8080/",
          "height": 1000
        },
        "outputId": "47277789-650c-4b20-ec97-54a8e18ccbbe"
      },
      "source": [
        "import numpy as np\n",
        "\n",
        "import json\n",
        "import tensorflow as tf\n",
        "\n",
        "from tensorflow.keras.preprocessing.text import Tokenizer\n",
        "from tensorflow.keras.preprocessing.sequence import pad_sequences\n",
        "\n",
        "!wget --no-check-certificate \\\n",
        "    https://storage.googleapis.com/laurencemoroney-blog.appspot.com/sarcasm.json \\\n",
        "    -O /tmp/sarcasm.json\n",
        "\n",
        "vocab_size = 1000\n",
        "embedding_dim = 16\n",
        "max_length = 120\n",
        "trunc_type='post'\n",
        "padding_type='post'\n",
        "oov_tok = \"<OOV>\"\n",
        "training_size = 20000\n",
        "\n",
        "\n",
        "with open(\"/tmp/sarcasm.json\", 'r') as f:\n",
        "    datastore = json.load(f)\n",
        "\n",
        "\n",
        "sentences = []\n",
        "labels = []\n",
        "urls = []\n",
        "for item in datastore:\n",
        "    sentences.append(item['headline'])\n",
        "    labels.append(item['is_sarcastic'])\n",
        "\n",
        "training_sentences = sentences[0:training_size]\n",
        "testing_sentences = sentences[training_size:]\n",
        "training_labels = labels[0:training_size]\n",
        "testing_labels = labels[training_size:]\n",
        "\n",
        "tokenizer = Tokenizer(num_words=vocab_size, oov_token=oov_tok)\n",
        "tokenizer.fit_on_texts(training_sentences)\n",
        "\n",
        "word_index = tokenizer.word_index\n",
        "\n",
        "training_sequences = tokenizer.texts_to_sequences(training_sentences)\n",
        "training_padded = pad_sequences(training_sequences, maxlen=max_length, padding=padding_type, truncating=trunc_type)\n",
        "\n",
        "testing_sequences = tokenizer.texts_to_sequences(testing_sentences)\n",
        "testing_padded = pad_sequences(testing_sequences, maxlen=max_length, padding=padding_type, truncating=trunc_type)\n",
        "\n",
        "model = tf.keras.Sequential([\n",
        "    tf.keras.layers.Embedding(vocab_size, embedding_dim, input_length=max_length),\n",
        "    tf.keras.layers.Bidirectional(tf.keras.layers.LSTM(32)),\n",
        "    tf.keras.layers.Dense(24, activation='relu'),\n",
        "    tf.keras.layers.Dense(1, activation='sigmoid')\n",
        "])\n",
        "model.compile(loss='binary_crossentropy',optimizer='adam',metrics=['accuracy'])\n",
        "model.summary()\n",
        "\n",
        "num_epochs = 50\n",
        "training_padded = np.array(training_padded)\n",
        "training_labels = np.array(training_labels)\n",
        "testing_padded = np.array(testing_padded)\n",
        "testing_labels = np.array(testing_labels)\n",
        "history = model.fit(training_padded, training_labels, epochs=num_epochs, validation_data=(testing_padded, testing_labels), verbose=1)\n"
      ],
      "execution_count": 1,
      "outputs": [
        {
          "output_type": "stream",
          "text": [
            "--2020-09-04 05:33:09--  https://storage.googleapis.com/laurencemoroney-blog.appspot.com/sarcasm.json\n",
            "Resolving storage.googleapis.com (storage.googleapis.com)... 108.177.15.128, 173.194.76.128, 172.253.120.128, ...\n",
            "Connecting to storage.googleapis.com (storage.googleapis.com)|108.177.15.128|:443... connected.\n",
            "HTTP request sent, awaiting response... 200 OK\n",
            "Length: 5643545 (5.4M) [application/json]\n",
            "Saving to: ‘/tmp/sarcasm.json’\n",
            "\n",
            "/tmp/sarcasm.json   100%[===================>]   5.38M  17.1MB/s    in 0.3s    \n",
            "\n",
            "2020-09-04 05:33:10 (17.1 MB/s) - ‘/tmp/sarcasm.json’ saved [5643545/5643545]\n",
            "\n",
            "Model: \"sequential\"\n",
            "_________________________________________________________________\n",
            "Layer (type)                 Output Shape              Param #   \n",
            "=================================================================\n",
            "embedding (Embedding)        (None, 120, 16)           16000     \n",
            "_________________________________________________________________\n",
            "bidirectional (Bidirectional (None, 64)                12544     \n",
            "_________________________________________________________________\n",
            "dense (Dense)                (None, 24)                1560      \n",
            "_________________________________________________________________\n",
            "dense_1 (Dense)              (None, 1)                 25        \n",
            "=================================================================\n",
            "Total params: 30,129\n",
            "Trainable params: 30,129\n",
            "Non-trainable params: 0\n",
            "_________________________________________________________________\n",
            "Epoch 1/50\n",
            "625/625 [==============================] - 37s 59ms/step - loss: 0.4575 - accuracy: 0.7690 - val_loss: 0.3894 - val_accuracy: 0.8237\n",
            "Epoch 2/50\n",
            "625/625 [==============================] - 36s 58ms/step - loss: 0.3608 - accuracy: 0.8348 - val_loss: 0.3840 - val_accuracy: 0.8252\n",
            "Epoch 3/50\n",
            "625/625 [==============================] - 36s 58ms/step - loss: 0.3433 - accuracy: 0.8408 - val_loss: 0.3870 - val_accuracy: 0.8235\n",
            "Epoch 4/50\n",
            "625/625 [==============================] - 36s 58ms/step - loss: 0.3210 - accuracy: 0.8541 - val_loss: 0.3694 - val_accuracy: 0.8323\n",
            "Epoch 5/50\n",
            "625/625 [==============================] - 36s 58ms/step - loss: 0.3042 - accuracy: 0.8638 - val_loss: 0.3730 - val_accuracy: 0.8338\n",
            "Epoch 6/50\n",
            "625/625 [==============================] - 36s 58ms/step - loss: 0.2908 - accuracy: 0.8723 - val_loss: 0.3816 - val_accuracy: 0.8319\n",
            "Epoch 7/50\n",
            "625/625 [==============================] - 36s 58ms/step - loss: 0.2812 - accuracy: 0.8759 - val_loss: 0.3896 - val_accuracy: 0.8289\n",
            "Epoch 8/50\n",
            "625/625 [==============================] - 36s 58ms/step - loss: 0.2740 - accuracy: 0.8791 - val_loss: 0.3919 - val_accuracy: 0.8292\n",
            "Epoch 9/50\n",
            "625/625 [==============================] - 36s 58ms/step - loss: 0.2672 - accuracy: 0.8837 - val_loss: 0.3997 - val_accuracy: 0.8256\n",
            "Epoch 10/50\n",
            "625/625 [==============================] - 36s 58ms/step - loss: 0.2608 - accuracy: 0.8860 - val_loss: 0.4139 - val_accuracy: 0.8292\n",
            "Epoch 11/50\n",
            "625/625 [==============================] - 36s 58ms/step - loss: 0.2541 - accuracy: 0.8895 - val_loss: 0.4122 - val_accuracy: 0.8229\n",
            "Epoch 12/50\n",
            "625/625 [==============================] - 36s 58ms/step - loss: 0.2459 - accuracy: 0.8939 - val_loss: 0.4086 - val_accuracy: 0.8278\n",
            "Epoch 13/50\n",
            "625/625 [==============================] - 36s 57ms/step - loss: 0.2388 - accuracy: 0.8974 - val_loss: 0.4312 - val_accuracy: 0.8265\n",
            "Epoch 14/50\n",
            "625/625 [==============================] - 35s 57ms/step - loss: 0.2300 - accuracy: 0.9010 - val_loss: 0.4248 - val_accuracy: 0.8258\n",
            "Epoch 15/50\n",
            "625/625 [==============================] - 36s 57ms/step - loss: 0.2228 - accuracy: 0.9042 - val_loss: 0.4452 - val_accuracy: 0.8235\n",
            "Epoch 16/50\n",
            "625/625 [==============================] - 35s 57ms/step - loss: 0.2128 - accuracy: 0.9104 - val_loss: 0.4882 - val_accuracy: 0.8198\n",
            "Epoch 17/50\n",
            "625/625 [==============================] - 35s 57ms/step - loss: 0.2056 - accuracy: 0.9134 - val_loss: 0.5074 - val_accuracy: 0.8167\n",
            "Epoch 18/50\n",
            "625/625 [==============================] - 35s 56ms/step - loss: 0.1996 - accuracy: 0.9171 - val_loss: 0.5280 - val_accuracy: 0.8185\n",
            "Epoch 19/50\n",
            "625/625 [==============================] - 35s 56ms/step - loss: 0.1902 - accuracy: 0.9202 - val_loss: 0.5478 - val_accuracy: 0.8164\n",
            "Epoch 20/50\n",
            "625/625 [==============================] - 35s 56ms/step - loss: 0.1848 - accuracy: 0.9230 - val_loss: 0.5478 - val_accuracy: 0.8138\n",
            "Epoch 21/50\n",
            "625/625 [==============================] - 35s 56ms/step - loss: 0.1780 - accuracy: 0.9269 - val_loss: 0.5750 - val_accuracy: 0.8109\n",
            "Epoch 22/50\n",
            "625/625 [==============================] - 35s 56ms/step - loss: 0.1706 - accuracy: 0.9284 - val_loss: 0.6178 - val_accuracy: 0.8111\n",
            "Epoch 23/50\n",
            "625/625 [==============================] - 35s 56ms/step - loss: 0.1652 - accuracy: 0.9319 - val_loss: 0.6577 - val_accuracy: 0.8109\n",
            "Epoch 24/50\n",
            "625/625 [==============================] - 36s 57ms/step - loss: 0.1575 - accuracy: 0.9352 - val_loss: 0.6688 - val_accuracy: 0.8138\n",
            "Epoch 25/50\n",
            "625/625 [==============================] - 36s 57ms/step - loss: 0.1531 - accuracy: 0.9380 - val_loss: 0.6486 - val_accuracy: 0.8080\n",
            "Epoch 26/50\n",
            "625/625 [==============================] - 35s 57ms/step - loss: 0.1453 - accuracy: 0.9409 - val_loss: 0.7307 - val_accuracy: 0.8059\n",
            "Epoch 27/50\n",
            "625/625 [==============================] - 35s 57ms/step - loss: 0.1390 - accuracy: 0.9444 - val_loss: 0.7234 - val_accuracy: 0.8110\n",
            "Epoch 28/50\n",
            "625/625 [==============================] - 35s 56ms/step - loss: 0.1328 - accuracy: 0.9466 - val_loss: 0.7725 - val_accuracy: 0.8050\n",
            "Epoch 29/50\n",
            "625/625 [==============================] - 35s 56ms/step - loss: 0.1262 - accuracy: 0.9492 - val_loss: 0.8004 - val_accuracy: 0.8061\n",
            "Epoch 30/50\n",
            "625/625 [==============================] - 35s 57ms/step - loss: 0.1227 - accuracy: 0.9504 - val_loss: 0.8096 - val_accuracy: 0.8035\n",
            "Epoch 31/50\n",
            "625/625 [==============================] - 35s 56ms/step - loss: 0.1122 - accuracy: 0.9543 - val_loss: 0.8823 - val_accuracy: 0.8050\n",
            "Epoch 32/50\n",
            "625/625 [==============================] - 35s 56ms/step - loss: 0.1125 - accuracy: 0.9542 - val_loss: 0.9146 - val_accuracy: 0.8058\n",
            "Epoch 33/50\n",
            "625/625 [==============================] - 36s 57ms/step - loss: 0.1042 - accuracy: 0.9589 - val_loss: 0.9522 - val_accuracy: 0.8043\n",
            "Epoch 34/50\n",
            "625/625 [==============================] - 36s 57ms/step - loss: 0.1019 - accuracy: 0.9582 - val_loss: 0.9511 - val_accuracy: 0.8032\n",
            "Epoch 35/50\n",
            "625/625 [==============================] - 36s 57ms/step - loss: 0.0969 - accuracy: 0.9623 - val_loss: 0.9720 - val_accuracy: 0.8003\n",
            "Epoch 36/50\n",
            "625/625 [==============================] - 36s 57ms/step - loss: 0.0943 - accuracy: 0.9618 - val_loss: 1.0663 - val_accuracy: 0.7968\n",
            "Epoch 37/50\n",
            "625/625 [==============================] - 36s 57ms/step - loss: 0.0943 - accuracy: 0.9627 - val_loss: 1.0282 - val_accuracy: 0.8035\n",
            "Epoch 38/50\n",
            "625/625 [==============================] - 36s 57ms/step - loss: 0.0851 - accuracy: 0.9664 - val_loss: 1.1365 - val_accuracy: 0.8021\n",
            "Epoch 39/50\n",
            "625/625 [==============================] - 35s 57ms/step - loss: 0.0773 - accuracy: 0.9701 - val_loss: 1.1422 - val_accuracy: 0.8000\n",
            "Epoch 40/50\n",
            "625/625 [==============================] - 35s 57ms/step - loss: 0.0791 - accuracy: 0.9692 - val_loss: 1.2485 - val_accuracy: 0.7998\n",
            "Epoch 41/50\n",
            "625/625 [==============================] - 36s 57ms/step - loss: 0.0786 - accuracy: 0.9696 - val_loss: 1.2031 - val_accuracy: 0.8001\n",
            "Epoch 42/50\n",
            "625/625 [==============================] - 36s 57ms/step - loss: 0.0757 - accuracy: 0.9710 - val_loss: 1.2812 - val_accuracy: 0.7974\n",
            "Epoch 43/50\n",
            "625/625 [==============================] - 36s 57ms/step - loss: 0.0704 - accuracy: 0.9721 - val_loss: 1.3504 - val_accuracy: 0.7913\n",
            "Epoch 44/50\n",
            "625/625 [==============================] - 35s 57ms/step - loss: 0.0736 - accuracy: 0.9720 - val_loss: 1.3033 - val_accuracy: 0.8032\n",
            "Epoch 45/50\n",
            "625/625 [==============================] - 35s 57ms/step - loss: 0.0678 - accuracy: 0.9733 - val_loss: 1.3748 - val_accuracy: 0.7959\n",
            "Epoch 46/50\n",
            "625/625 [==============================] - 35s 57ms/step - loss: 0.0648 - accuracy: 0.9745 - val_loss: 1.4068 - val_accuracy: 0.8000\n",
            "Epoch 47/50\n",
            "625/625 [==============================] - 35s 57ms/step - loss: 0.0594 - accuracy: 0.9776 - val_loss: 1.4049 - val_accuracy: 0.7948\n",
            "Epoch 48/50\n",
            "625/625 [==============================] - 35s 56ms/step - loss: 0.0578 - accuracy: 0.9776 - val_loss: 1.4693 - val_accuracy: 0.7995\n",
            "Epoch 49/50\n",
            "625/625 [==============================] - 35s 56ms/step - loss: 0.0625 - accuracy: 0.9757 - val_loss: 1.3903 - val_accuracy: 0.7889\n",
            "Epoch 50/50\n",
            "625/625 [==============================] - 35s 57ms/step - loss: 0.0621 - accuracy: 0.9769 - val_loss: 1.4501 - val_accuracy: 0.7961\n"
          ],
          "name": "stdout"
        }
      ]
    },
    {
      "cell_type": "code",
      "metadata": {
        "colab_type": "code",
        "id": "g9DC6dmLF8DC",
        "colab": {
          "base_uri": "https://localhost:8080/",
          "height": 541
        },
        "outputId": "f167e9bf-9409-436e-db2f-680f99404c61"
      },
      "source": [
        "import matplotlib.pyplot as plt\n",
        "\n",
        "\n",
        "def plot_graphs(history, string):\n",
        "  plt.plot(history.history[string])\n",
        "  plt.plot(history.history['val_'+string])\n",
        "  plt.xlabel(\"Epochs\")\n",
        "  plt.ylabel(string)\n",
        "  plt.legend([string, 'val_'+string])\n",
        "  plt.show()\n",
        "\n",
        "plot_graphs(history, 'accuracy')\n",
        "plot_graphs(history, 'loss')"
      ],
      "execution_count": 2,
      "outputs": [
        {
          "output_type": "display_data",
          "data": {
            "image/png": "[encoded data removed]",
            "text/plain": [
              "<Figure size 432x288 with 1 Axes>"
            ]
          },
          "metadata": {
            "tags": [],
            "needs_background": "light"
          }
        },
        {
          "output_type": "display_data",
          "data": {
            "image/png": "[encoded data removed]",
            "text/plain": [
              "<Figure size 432x288 with 1 Axes>"
            ]
          },
          "metadata": {
            "tags": [],
            "needs_background": "light"
          }
        }
      ]
    },
    {
      "cell_type": "code",
      "metadata": {
        "colab_type": "code",
        "id": "7ZEZIUppGhdi",
        "colab": {}
      },
      "source": [
        "model.save(\"test.h5\")"
      ],
      "execution_count": 3,
      "outputs": []
    }
  ]
}