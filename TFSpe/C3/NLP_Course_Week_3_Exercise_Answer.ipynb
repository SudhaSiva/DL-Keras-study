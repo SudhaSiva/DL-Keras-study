{
  "nbformat": 4,
  "nbformat_minor": 0,
  "metadata": {
    "accelerator": "GPU",
    "colab": {
      "name": "NLP Course - Week 3 Exercise Answer.ipynb",
      "provenance": [],
      "toc_visible": true
    },
    "kernelspec": {
      "display_name": "Python 3",
      "language": "python",
      "name": "python3"
    },
    "language_info": {
      "codemirror_mode": {
        "name": "ipython",
        "version": 3
      },
      "file_extension": ".py",
      "mimetype": "text/x-python",
      "name": "python",
      "nbconvert_exporter": "python",
      "pygments_lexer": "ipython3",
      "version": "3.7.6"
    }
  },
  "cells": [
    {
      "cell_type": "code",
      "metadata": {
        "colab_type": "code",
        "id": "zX4Kg8DUTKWO",
        "colab": {}
      },
      "source": [
        "#@title Licensed under the Apache License, Version 2.0 (the \"License\");\n",
        "# you may not use this file except in compliance with the License.\n",
        "# You may obtain a copy of the License at\n",
        "#\n",
        "# https://www.apache.org/licenses/LICENSE-2.0\n",
        "#\n",
        "# Unless required by applicable law or agreed to in writing, software\n",
        "# distributed under the License is distributed on an \"AS IS\" BASIS,\n",
        "# WITHOUT WARRANTIES OR CONDITIONS OF ANY KIND, either express or implied.\n",
        "# See the License for the specific language governing permissions and\n",
        "# limitations under the License."
      ],
      "execution_count": null,
      "outputs": []
    },
    {
      "cell_type": "markdown",
      "metadata": {
        "id": "ENPIGGZ0w4xx",
        "colab_type": "text"
      },
      "source": [
        "<a href=\"https://colab.research.google.com/github/lmoroney/dlaicourse/blob/master/TensorFlow%20In%20Practice/Course%203%20-%20NLP/NLP%20Course%20-%20Week%203%20Exercise%20Answer.ipynb\" target=\"_parent\"><img src=\"https://colab.research.google.com/assets/colab-badge.svg\" alt=\"Open In Colab\"/></a>"
      ]
    },
    {
      "cell_type": "code",
      "metadata": {
        "colab_type": "code",
        "id": "hmA6EzkQJ5jt",
        "colab": {}
      },
      "source": [
        "import json\n",
        "import tensorflow as tf\n",
        "import csv\n",
        "import random\n",
        "import numpy as np\n",
        "\n",
        "from tensorflow.keras.preprocessing.text import Tokenizer\n",
        "from tensorflow.keras.preprocessing.sequence import pad_sequences\n",
        "from tensorflow.keras.utils import to_categorical\n",
        "from tensorflow.keras import regularizers\n",
        "\n",
        "\n",
        "embedding_dim = 100\n",
        "max_length = 16\n",
        "trunc_type='post'\n",
        "padding_type='post'\n",
        "oov_tok = \"<OOV>\"\n",
        "training_size=160000\n",
        "test_portion=.1\n",
        "\n",
        "corpus = []\n"
      ],
      "execution_count": 1,
      "outputs": []
    },
    {
      "cell_type": "code",
      "metadata": {
        "colab_type": "code",
        "id": "bM0l_dORKqE0",
        "colab": {
          "base_uri": "https://localhost:8080/",
          "height": 204
        },
        "outputId": "ff62e0bf-171c-4e40-fa9e-bab300a39470"
      },
      "source": [
        "# Note that I cleaned the Stanford dataset to remove LATIN1 encoding to make it easier for Python CSV reader\n",
        "# You can do that yourself with:\n",
        "# iconv -f LATIN1 -t UTF8 training.1600000.processed.noemoticon.csv -o training_cleaned.csv\n",
        "# I then hosted it on my site to make it easier to use in this notebook\n",
        "\n",
        "!wget --no-check-certificate \\\n",
        "    https://storage.googleapis.com/laurencemoroney-blog.appspot.com/training_cleaned.csv \\\n",
        "    -O /tmp/training_cleaned.csv\n",
        "\n",
        "num_sentences = 0\n",
        "\n",
        "with open(\"/tmp/training_cleaned.csv\") as csvfile:\n",
        "    reader = csv.reader(csvfile, delimiter=',')\n",
        "    for row in reader:\n",
        "        list_item=[]\n",
        "        list_item.append(row[5])\n",
        "        this_label=row[0]\n",
        "        if this_label=='0':\n",
        "            list_item.append(0)\n",
        "        else:\n",
        "            list_item.append(1)\n",
        "        num_sentences = num_sentences + 1\n",
        "        corpus.append(list_item)\n"
      ],
      "execution_count": 2,
      "outputs": [
        {
          "output_type": "stream",
          "text": [
            "--2020-09-04 06:22:29--  https://storage.googleapis.com/laurencemoroney-blog.appspot.com/training_cleaned.csv\n",
            "Resolving storage.googleapis.com (storage.googleapis.com)... 74.125.142.128, 74.125.195.128, 74.125.20.128, ...\n",
            "Connecting to storage.googleapis.com (storage.googleapis.com)|74.125.142.128|:443... connected.\n",
            "HTTP request sent, awaiting response... 200 OK\n",
            "Length: 238942690 (228M) [application/octet-stream]\n",
            "Saving to: ‘/tmp/training_cleaned.csv’\n",
            "\n",
            "/tmp/training_clean 100%[===================>] 227.87M  98.4MB/s    in 2.3s    \n",
            "\n",
            "2020-09-04 06:22:32 (98.4 MB/s) - ‘/tmp/training_cleaned.csv’ saved [238942690/238942690]\n",
            "\n"
          ],
          "name": "stdout"
        }
      ]
    },
    {
      "cell_type": "code",
      "metadata": {
        "colab_type": "code",
        "id": "3kxblBUjEUX-",
        "colab": {
          "base_uri": "https://localhost:8080/",
          "height": 68
        },
        "outputId": "17105514-e6c0-4d04-9002-c1f9f2ea1af7"
      },
      "source": [
        "print(num_sentences)\n",
        "print(len(corpus))\n",
        "print(corpus[1])\n",
        "\n",
        "# Expected Output:\n",
        "# 1600000\n",
        "# 1600000\n",
        "# [\"is upset that he can't update his Facebook by texting it... and might cry as a result  School today also. Blah!\", 0]"
      ],
      "execution_count": 3,
      "outputs": [
        {
          "output_type": "stream",
          "text": [
            "1600000\n",
            "1600000\n",
            "[\"is upset that he can't update his Facebook by texting it... and might cry as a result  School today also. Blah!\", 0]\n"
          ],
          "name": "stdout"
        }
      ]
    },
    {
      "cell_type": "code",
      "metadata": {
        "colab_type": "code",
        "id": "ohOGz24lsNAD",
        "colab": {}
      },
      "source": [
        "sentences=[]\n",
        "labels=[]\n",
        "random.shuffle(corpus)\n",
        "for x in range(training_size):\n",
        "    sentences.append(corpus[x][0])\n",
        "    labels.append(corpus[x][1])\n",
        "\n",
        "\n",
        "tokenizer = Tokenizer()\n",
        "tokenizer.fit_on_texts(sentences)\n",
        "\n",
        "word_index = tokenizer.word_index\n",
        "vocab_size=len(word_index)\n",
        "\n",
        "sequences = tokenizer.texts_to_sequences(sentences)\n",
        "padded = pad_sequences(sequences, maxlen=max_length, padding=padding_type, truncating=trunc_type)\n",
        "\n",
        "split = int(test_portion * training_size)\n",
        "\n",
        "test_sequences = padded[0:split]\n",
        "training_sequences = padded[split:training_size]\n",
        "test_labels = labels[0:split]\n",
        "training_labels = labels[split:training_size]"
      ],
      "execution_count": 4,
      "outputs": []
    },
    {
      "cell_type": "code",
      "metadata": {
        "colab_type": "code",
        "id": "gIrtRem1En3N",
        "colab": {
          "base_uri": "https://localhost:8080/",
          "height": 51
        },
        "outputId": "faca76bc-8953-4f01-aecb-1e80dcaf3aec"
      },
      "source": [
        "print(vocab_size)\n",
        "print(word_index['i'])\n",
        "# Expected Output\n",
        "# 138858\n",
        "# 1"
      ],
      "execution_count": 5,
      "outputs": [
        {
          "output_type": "stream",
          "text": [
            "137862\n",
            "1\n"
          ],
          "name": "stdout"
        }
      ]
    },
    {
      "cell_type": "code",
      "metadata": {
        "colab_type": "code",
        "id": "C1zdgJkusRh0",
        "colab": {
          "base_uri": "https://localhost:8080/",
          "height": 204
        },
        "outputId": "1f220431-fe41-46f1-9879-a216a8dd672b"
      },
      "source": [
        "# Note this is the 100 dimension version of GloVe from Stanford\n",
        "# I unzipped and hosted it on my site to make this notebook easier\n",
        "!wget --no-check-certificate \\\n",
        "    https://storage.googleapis.com/laurencemoroney-blog.appspot.com/glove.6B.100d.txt \\\n",
        "    -O /tmp/glove.6B.100d.txt\n",
        "embeddings_index = {};\n",
        "with open('/tmp/glove.6B.100d.txt') as f:\n",
        "    for line in f:\n",
        "        values = line.split();\n",
        "        word = values[0];\n",
        "        coefs = np.asarray(values[1:], dtype='float32');\n",
        "        embeddings_index[word] = coefs;\n",
        "\n",
        "embeddings_matrix = np.zeros((vocab_size+1, embedding_dim));\n",
        "for word, i in word_index.items():\n",
        "    embedding_vector = embeddings_index.get(word);\n",
        "    if embedding_vector is not None:\n",
        "        embeddings_matrix[i] = embedding_vector;"
      ],
      "execution_count": 6,
      "outputs": [
        {
          "output_type": "stream",
          "text": [
            "--2020-09-04 06:23:07--  https://storage.googleapis.com/laurencemoroney-blog.appspot.com/glove.6B.100d.txt\n",
            "Resolving storage.googleapis.com (storage.googleapis.com)... 74.125.142.128, 74.125.195.128, 2607:f8b0:400e:c08::80, ...\n",
            "Connecting to storage.googleapis.com (storage.googleapis.com)|74.125.142.128|:443... connected.\n",
            "HTTP request sent, awaiting response... 200 OK\n",
            "Length: 347116733 (331M) [text/plain]\n",
            "Saving to: ‘/tmp/glove.6B.100d.txt’\n",
            "\n",
            "/tmp/glove.6B.100d. 100%[===================>] 331.04M   109MB/s    in 3.0s    \n",
            "\n",
            "2020-09-04 06:23:10 (109 MB/s) - ‘/tmp/glove.6B.100d.txt’ saved [347116733/347116733]\n",
            "\n"
          ],
          "name": "stdout"
        }
      ]
    },
    {
      "cell_type": "code",
      "metadata": {
        "colab_type": "code",
        "id": "71NLk_lpFLNt",
        "colab": {
          "base_uri": "https://localhost:8080/",
          "height": 34
        },
        "outputId": "97cb88db-754f-4375-fdc3-876cd6b4fdce"
      },
      "source": [
        "print(len(embeddings_matrix))\n",
        "# Expected Output\n",
        "# 138859"
      ],
      "execution_count": null,
      "outputs": [
        {
          "output_type": "stream",
          "text": [
            "138859\n"
          ],
          "name": "stdout"
        }
      ]
    },
    {
      "cell_type": "code",
      "metadata": {
        "colab_type": "code",
        "id": "iKKvbuEBOGFz",
        "colab": {
          "base_uri": "https://localhost:8080/",
          "height": 1000
        },
        "outputId": "661a5bb0-78e5-4f99-a037-483e389df9bf"
      },
      "source": [
        "model = tf.keras.Sequential([\n",
        "    tf.keras.layers.Embedding(vocab_size+1, embedding_dim, input_length=max_length, weights=[embeddings_matrix], trainable=False),\n",
        "    tf.keras.layers.Dropout(0.2),\n",
        "    tf.keras.layers.Conv1D(64, 5, activation='relu'),\n",
        "    tf.keras.layers.MaxPooling1D(pool_size=4),\n",
        "    tf.keras.layers.LSTM(64),\n",
        "    tf.keras.layers.Dense(1, activation='sigmoid')\n",
        "])\n",
        "model.compile(loss='binary_crossentropy',optimizer='adam',metrics=['accuracy'])\n",
        "model.summary()\n",
        "\n",
        "num_epochs = 50\n",
        "\n",
        "training_padded = np.array(training_sequences)\n",
        "training_labels = np.array(training_labels)\n",
        "testing_padded = np.array(test_sequences)\n",
        "testing_labels = np.array(test_labels)\n",
        "\n",
        "history = model.fit(training_padded, training_labels, epochs=num_epochs, validation_data=(testing_padded, testing_labels), verbose=2)\n",
        "\n",
        "print(\"Training Complete\")"
      ],
      "execution_count": 7,
      "outputs": [
        {
          "output_type": "stream",
          "text": [
            "Model: \"sequential\"\n",
            "_________________________________________________________________\n",
            "Layer (type)                 Output Shape              Param #   \n",
            "=================================================================\n",
            "embedding (Embedding)        (None, 16, 100)           13786300  \n",
            "_________________________________________________________________\n",
            "dropout (Dropout)            (None, 16, 100)           0         \n",
            "_________________________________________________________________\n",
            "conv1d (Conv1D)              (None, 12, 64)            32064     \n",
            "_________________________________________________________________\n",
            "max_pooling1d (MaxPooling1D) (None, 3, 64)             0         \n",
            "_________________________________________________________________\n",
            "lstm (LSTM)                  (None, 64)                33024     \n",
            "_________________________________________________________________\n",
            "dense (Dense)                (None, 1)                 65        \n",
            "=================================================================\n",
            "Total params: 13,851,453\n",
            "Trainable params: 65,153\n",
            "Non-trainable params: 13,786,300\n",
            "_________________________________________________________________\n",
            "Epoch 1/50\n",
            "4500/4500 - 15s - loss: 0.5660 - accuracy: 0.7008 - val_loss: 0.5253 - val_accuracy: 0.7357\n",
            "Epoch 2/50\n",
            "4500/4500 - 15s - loss: 0.5268 - accuracy: 0.7324 - val_loss: 0.5098 - val_accuracy: 0.7466\n",
            "Epoch 3/50\n",
            "4500/4500 - 15s - loss: 0.5098 - accuracy: 0.7459 - val_loss: 0.5013 - val_accuracy: 0.7504\n",
            "Epoch 4/50\n",
            "4500/4500 - 15s - loss: 0.4995 - accuracy: 0.7519 - val_loss: 0.4985 - val_accuracy: 0.7512\n",
            "Epoch 5/50\n",
            "4500/4500 - 15s - loss: 0.4911 - accuracy: 0.7568 - val_loss: 0.5008 - val_accuracy: 0.7550\n",
            "Epoch 6/50\n",
            "4500/4500 - 15s - loss: 0.4850 - accuracy: 0.7608 - val_loss: 0.4977 - val_accuracy: 0.7552\n",
            "Epoch 7/50\n",
            "4500/4500 - 15s - loss: 0.4780 - accuracy: 0.7654 - val_loss: 0.5080 - val_accuracy: 0.7500\n",
            "Epoch 8/50\n",
            "4500/4500 - 15s - loss: 0.4743 - accuracy: 0.7681 - val_loss: 0.4964 - val_accuracy: 0.7549\n",
            "Epoch 9/50\n",
            "4500/4500 - 15s - loss: 0.4691 - accuracy: 0.7712 - val_loss: 0.4988 - val_accuracy: 0.7533\n",
            "Epoch 10/50\n",
            "4500/4500 - 15s - loss: 0.4652 - accuracy: 0.7732 - val_loss: 0.5100 - val_accuracy: 0.7437\n",
            "Epoch 11/50\n",
            "4500/4500 - 14s - loss: 0.4622 - accuracy: 0.7756 - val_loss: 0.5002 - val_accuracy: 0.7582\n",
            "Epoch 12/50\n",
            "4500/4500 - 14s - loss: 0.4596 - accuracy: 0.7762 - val_loss: 0.5042 - val_accuracy: 0.7474\n",
            "Epoch 13/50\n",
            "4500/4500 - 14s - loss: 0.4563 - accuracy: 0.7787 - val_loss: 0.5081 - val_accuracy: 0.7505\n",
            "Epoch 14/50\n",
            "4500/4500 - 14s - loss: 0.4539 - accuracy: 0.7806 - val_loss: 0.5004 - val_accuracy: 0.7534\n",
            "Epoch 15/50\n",
            "4500/4500 - 15s - loss: 0.4524 - accuracy: 0.7808 - val_loss: 0.5049 - val_accuracy: 0.7538\n",
            "Epoch 16/50\n",
            "4500/4500 - 14s - loss: 0.4509 - accuracy: 0.7821 - val_loss: 0.5097 - val_accuracy: 0.7517\n",
            "Epoch 17/50\n",
            "4500/4500 - 14s - loss: 0.4497 - accuracy: 0.7825 - val_loss: 0.5021 - val_accuracy: 0.7556\n",
            "Epoch 18/50\n",
            "4500/4500 - 14s - loss: 0.4478 - accuracy: 0.7840 - val_loss: 0.5110 - val_accuracy: 0.7522\n",
            "Epoch 19/50\n",
            "4500/4500 - 14s - loss: 0.4456 - accuracy: 0.7848 - val_loss: 0.5030 - val_accuracy: 0.7554\n",
            "Epoch 20/50\n",
            "4500/4500 - 14s - loss: 0.4449 - accuracy: 0.7848 - val_loss: 0.5059 - val_accuracy: 0.7536\n",
            "Epoch 21/50\n",
            "4500/4500 - 14s - loss: 0.4430 - accuracy: 0.7876 - val_loss: 0.5112 - val_accuracy: 0.7549\n",
            "Epoch 22/50\n",
            "4500/4500 - 14s - loss: 0.4424 - accuracy: 0.7889 - val_loss: 0.5085 - val_accuracy: 0.7518\n",
            "Epoch 23/50\n",
            "4500/4500 - 14s - loss: 0.4417 - accuracy: 0.7879 - val_loss: 0.5124 - val_accuracy: 0.7546\n",
            "Epoch 24/50\n",
            "4500/4500 - 14s - loss: 0.4389 - accuracy: 0.7900 - val_loss: 0.5111 - val_accuracy: 0.7517\n",
            "Epoch 25/50\n",
            "4500/4500 - 14s - loss: 0.4395 - accuracy: 0.7899 - val_loss: 0.5110 - val_accuracy: 0.7499\n",
            "Epoch 26/50\n",
            "4500/4500 - 14s - loss: 0.4385 - accuracy: 0.7897 - val_loss: 0.5167 - val_accuracy: 0.7531\n",
            "Epoch 27/50\n",
            "4500/4500 - 14s - loss: 0.4374 - accuracy: 0.7918 - val_loss: 0.5093 - val_accuracy: 0.7511\n",
            "Epoch 28/50\n",
            "4500/4500 - 14s - loss: 0.4358 - accuracy: 0.7917 - val_loss: 0.5146 - val_accuracy: 0.7538\n",
            "Epoch 29/50\n",
            "4500/4500 - 14s - loss: 0.4361 - accuracy: 0.7914 - val_loss: 0.5178 - val_accuracy: 0.7523\n",
            "Epoch 30/50\n",
            "4500/4500 - 14s - loss: 0.4372 - accuracy: 0.7914 - val_loss: 0.5171 - val_accuracy: 0.7505\n",
            "Epoch 31/50\n",
            "4500/4500 - 14s - loss: 0.4360 - accuracy: 0.7927 - val_loss: 0.5106 - val_accuracy: 0.7533\n",
            "Epoch 32/50\n",
            "4500/4500 - 14s - loss: 0.4340 - accuracy: 0.7921 - val_loss: 0.5108 - val_accuracy: 0.7527\n",
            "Epoch 33/50\n",
            "4500/4500 - 14s - loss: 0.4339 - accuracy: 0.7931 - val_loss: 0.5135 - val_accuracy: 0.7517\n",
            "Epoch 34/50\n",
            "4500/4500 - 14s - loss: 0.4328 - accuracy: 0.7924 - val_loss: 0.5135 - val_accuracy: 0.7545\n",
            "Epoch 35/50\n",
            "4500/4500 - 14s - loss: 0.4334 - accuracy: 0.7929 - val_loss: 0.5147 - val_accuracy: 0.7507\n",
            "Epoch 36/50\n",
            "4500/4500 - 14s - loss: 0.4331 - accuracy: 0.7930 - val_loss: 0.5130 - val_accuracy: 0.7509\n",
            "Epoch 37/50\n",
            "4500/4500 - 15s - loss: 0.4313 - accuracy: 0.7933 - val_loss: 0.5145 - val_accuracy: 0.7547\n",
            "Epoch 38/50\n",
            "4500/4500 - 14s - loss: 0.4299 - accuracy: 0.7959 - val_loss: 0.5122 - val_accuracy: 0.7483\n",
            "Epoch 39/50\n",
            "4500/4500 - 14s - loss: 0.4305 - accuracy: 0.7949 - val_loss: 0.5193 - val_accuracy: 0.7530\n",
            "Epoch 40/50\n",
            "4500/4500 - 14s - loss: 0.4300 - accuracy: 0.7949 - val_loss: 0.5162 - val_accuracy: 0.7512\n",
            "Epoch 41/50\n",
            "4500/4500 - 14s - loss: 0.4311 - accuracy: 0.7944 - val_loss: 0.5240 - val_accuracy: 0.7508\n",
            "Epoch 42/50\n",
            "4500/4500 - 14s - loss: 0.4312 - accuracy: 0.7945 - val_loss: 0.5165 - val_accuracy: 0.7523\n",
            "Epoch 43/50\n",
            "4500/4500 - 14s - loss: 0.4294 - accuracy: 0.7961 - val_loss: 0.5204 - val_accuracy: 0.7521\n",
            "Epoch 44/50\n",
            "4500/4500 - 14s - loss: 0.4289 - accuracy: 0.7948 - val_loss: 0.5161 - val_accuracy: 0.7477\n",
            "Epoch 45/50\n",
            "4500/4500 - 14s - loss: 0.4292 - accuracy: 0.7952 - val_loss: 0.5191 - val_accuracy: 0.7484\n",
            "Epoch 46/50\n",
            "4500/4500 - 14s - loss: 0.4283 - accuracy: 0.7961 - val_loss: 0.5217 - val_accuracy: 0.7477\n",
            "Epoch 47/50\n",
            "4500/4500 - 14s - loss: 0.4298 - accuracy: 0.7951 - val_loss: 0.5175 - val_accuracy: 0.7480\n",
            "Epoch 48/50\n",
            "4500/4500 - 13s - loss: 0.4279 - accuracy: 0.7963 - val_loss: 0.5164 - val_accuracy: 0.7491\n",
            "Epoch 49/50\n",
            "4500/4500 - 14s - loss: 0.4266 - accuracy: 0.7964 - val_loss: 0.5234 - val_accuracy: 0.7469\n",
            "Epoch 50/50\n",
            "4500/4500 - 14s - loss: 0.4285 - accuracy: 0.7961 - val_loss: 0.5240 - val_accuracy: 0.7504\n",
            "Training Complete\n"
          ],
          "name": "stdout"
        }
      ]
    },
    {
      "cell_type": "code",
      "metadata": {
        "colab_type": "code",
        "id": "qxju4ItJKO8F",
        "colab": {
          "base_uri": "https://localhost:8080/",
          "height": 607
        },
        "outputId": "fc2ae891-3041-40a2-a188-73e9a08a89fd"
      },
      "source": [
        "import matplotlib.image  as mpimg\n",
        "import matplotlib.pyplot as plt\n",
        "\n",
        "#-----------------------------------------------------------\n",
        "# Retrieve a list of list results on training and test data\n",
        "# sets for each training epoch\n",
        "#-----------------------------------------------------------\n",
        "acc=history.history['accuracy']\n",
        "val_acc=history.history['val_accuracy']\n",
        "loss=history.history['loss']\n",
        "val_loss=history.history['val_loss']\n",
        "\n",
        "epochs=range(len(acc)) # Get number of epochs\n",
        "\n",
        "#------------------------------------------------\n",
        "# Plot training and validation accuracy per epoch\n",
        "#------------------------------------------------\n",
        "plt.plot(epochs, acc, 'r')\n",
        "plt.plot(epochs, val_acc, 'b')\n",
        "plt.title('Training and validation accuracy')\n",
        "plt.xlabel(\"Epochs\")\n",
        "plt.ylabel(\"Accuracy\")\n",
        "plt.legend([\"Accuracy\", \"Validation Accuracy\"])\n",
        "\n",
        "plt.figure()\n",
        "\n",
        "#------------------------------------------------\n",
        "# Plot training and validation loss per epoch\n",
        "#------------------------------------------------\n",
        "plt.plot(epochs, loss, 'r')\n",
        "plt.plot(epochs, val_loss, 'b')\n",
        "plt.title('Training and validation loss')\n",
        "plt.xlabel(\"Epochs\")\n",
        "plt.ylabel(\"Loss\")\n",
        "plt.legend([\"Loss\", \"Validation Loss\"])\n",
        "\n",
        "plt.figure()\n",
        "\n",
        "\n",
        "# Expected Output\n",
        "# A chart where the validation loss does not increase sharply!"
      ],
      "execution_count": 8,
      "outputs": [
        {
          "output_type": "execute_result",
          "data": {
            "text/plain": [
              "<Figure size 432x288 with 0 Axes>"
            ]
          },
          "metadata": {
            "tags": []
          },
          "execution_count": 8
        },
        {
          "output_type": "display_data",
          "data": {
            "image/png": "[encoded data removed]",
            "text/plain": [
              "<Figure size 432x288 with 1 Axes>"
            ]
          },
          "metadata": {
            "tags": [],
            "needs_background": "light"
          }
        },
        {
          "output_type": "display_data",
          "data": {
            "image/png": "[encoded data removed]",
            "text/plain": [
              "<Figure size 432x288 with 1 Axes>"
            ]
          },
          "metadata": {
            "tags": [],
            "needs_background": "light"
          }
        },
        {
          "output_type": "display_data",
          "data": {
            "text/plain": [
              "<Figure size 432x288 with 0 Axes>"
            ]
          },
          "metadata": {
            "tags": []
          }
        }
      ]
    }
  ]
}