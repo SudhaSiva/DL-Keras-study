{
 "cells": [
  {
   "cell_type": "code",
   "execution_count": 1,
   "metadata": {},
   "outputs": [],
   "source": [
    "import os\n",
    "os.environ[\"CUDA_VISIBLE_DEVICES\"] = \"0\""
   ]
  },
  {
   "cell_type": "code",
   "execution_count": 2,
   "metadata": {},
   "outputs": [],
   "source": [
    "import shutil\n",
    "## original data directory and making training,validation and testing directory\n",
    "\n",
    "original_dataset_dir='/home/ai-ee/Downloads/kaggle_original_data/train'\n",
    "base_dir='/home/ai-ee/Downloads/cats_and_dogs_small'\n",
    "\n",
    "os.mkdir(base_dir)\n"
   ]
  },
  {
   "cell_type": "code",
   "execution_count": 3,
   "metadata": {},
   "outputs": [],
   "source": [
    "train_dir=os.path.join(base_dir,'train')\n",
    "os.mkdir(train_dir)"
   ]
  },
  {
   "cell_type": "code",
   "execution_count": 4,
   "metadata": {},
   "outputs": [],
   "source": [
    "validation_dir=os.path.join(base_dir,'validation')"
   ]
  },
  {
   "cell_type": "code",
   "execution_count": 5,
   "metadata": {},
   "outputs": [],
   "source": [
    "os.mkdir(validation_dir)"
   ]
  },
  {
   "cell_type": "code",
   "execution_count": 6,
   "metadata": {},
   "outputs": [],
   "source": [
    "test_dir=os.path.join(base_dir,'test')\n",
    "os.mkdir(test_dir)"
   ]
  },
  {
   "cell_type": "code",
   "execution_count": 7,
   "metadata": {},
   "outputs": [],
   "source": [
    "train_cats_dir=os.path.join(train_dir,'cats')\n",
    "train_dogs_dir=os.path.join(train_dir,'dogs')\n",
    "\n",
    "os.mkdir(train_cats_dir)\n",
    "os.mkdir(train_dogs_dir)"
   ]
  },
  {
   "cell_type": "code",
   "execution_count": 8,
   "metadata": {},
   "outputs": [],
   "source": [
    "validation_cats_dir=os.path.join(validation_dir,'cats')\n",
    "validation_dogs_dir=os.path.join(validation_dir,'dogs')\n",
    "\n",
    "os.mkdir(validation_cats_dir)\n",
    "os.mkdir(validation_dogs_dir)"
   ]
  },
  {
   "cell_type": "code",
   "execution_count": 9,
   "metadata": {},
   "outputs": [],
   "source": [
    "test_cats_dir=os.path.join(test_dir,'cats')\n",
    "test_dogs_dir=os.path.join(test_dir,'dogs')\n",
    "\n",
    "os.mkdir(test_cats_dir)\n",
    "os.mkdir(test_dogs_dir)"
   ]
  },
  {
   "cell_type": "code",
   "execution_count": 10,
   "metadata": {},
   "outputs": [],
   "source": [
    "###  copying the first 1000 cat images in train_cats_dir\n",
    "fnames=['cat.{}.jpg'.format(i) for i in range(1000)]\n",
    "for fname in fnames:\n",
    "    src=os.path.join(original_dataset_dir,fname)\n",
    "    dst=os.path.join(train_cats_dir,fname)\n",
    "    shutil.copy(src,dst)"
   ]
  },
  {
   "cell_type": "code",
   "execution_count": 11,
   "metadata": {},
   "outputs": [],
   "source": [
    "### Copying the next 500 cat images to validation_cats_dir \n",
    "fnames=['cat.{}.jpg'.format(i) for i in range(1000,1500)]\n",
    "for fname in fnames:\n",
    "    src=os.path.join(original_dataset_dir,fname)\n",
    "    dst=os.path.join(validation_cats_dir,fname)\n",
    "    shutil.copy(src,dst)"
   ]
  },
  {
   "cell_type": "code",
   "execution_count": 12,
   "metadata": {},
   "outputs": [],
   "source": [
    "### Copying the next 500 cat images to test_cats_dir\n",
    "fnames=['cat.{}.jpg'.format(i) for i in range(1500,2000)]\n",
    "for fname in fnames:\n",
    "    src=os.path.join(original_dataset_dir,fname)\n",
    "    dst=os.path.join(test_cats_dir,fname)\n",
    "    shutil.copy(src,dst)"
   ]
  },
  {
   "cell_type": "code",
   "execution_count": 13,
   "metadata": {},
   "outputs": [],
   "source": [
    "### similary do it for dog images (1000 for training ,500 for validation and 500 for testing)\n",
    "fnames=['dog.{}.jpg'.format(i) for i in range(1000)]\n",
    "for fname in fnames:\n",
    "    src=os.path.join(original_dataset_dir,fname)\n",
    "    dst=os.path.join(train_dogs_dir,fname)\n",
    "    shutil.copy(src,dst)\n",
    "    \n",
    "fnames=['dog.{}.jpg'.format(i) for i in range(1000,1500)]\n",
    "for fname in fnames:\n",
    "    src=os.path.join(original_dataset_dir,fname)\n",
    "    dst=os.path.join(validation_dogs_dir,fname)\n",
    "    shutil.copy(src,dst)\n",
    "    \n",
    "fnames=['dog.{}.jpg'.format(i) for i in range(1500,2000)]\n",
    "for fname in fnames:\n",
    "    src=os.path.join(original_dataset_dir,fname)\n",
    "    dst=os.path.join(test_dogs_dir,fname)\n",
    "    shutil.copy(src,dst)\n"
   ]
  },
  {
   "cell_type": "code",
   "execution_count": 14,
   "metadata": {},
   "outputs": [
    {
     "name": "stdout",
     "output_type": "stream",
     "text": [
      "total training cat images: 1000\n",
      "total training dog images: 1000\n",
      "total validation cat images: 500\n",
      "total validation dog images: 500\n",
      "total test cat images: 500\n",
      "total test dog images: 500\n"
     ]
    }
   ],
   "source": [
    "# sanity check\n",
    "\n",
    "print('total training cat images:',len(os.listdir(train_cats_dir)))\n",
    "print('total training dog images:',len(os.listdir(train_dogs_dir)))\n",
    "print('total validation cat images:',len(os.listdir(validation_cats_dir)))\n",
    "print('total validation dog images:',len(os.listdir(validation_dogs_dir)))\n",
    "print('total test cat images:',len(os.listdir(test_cats_dir)))\n",
    "print('total test dog images:',len(os.listdir(test_dogs_dir)))"
   ]
  },
  {
   "cell_type": "code",
   "execution_count": 17,
   "metadata": {},
   "outputs": [],
   "source": [
    "# CNN network\n",
    "\n",
    "from keras import models\n",
    "from keras import layers\n"
   ]
  },
  {
   "cell_type": "code",
   "execution_count": 18,
   "metadata": {},
   "outputs": [],
   "source": [
    "model=models.Sequential()\n",
    "model.add(layers.Conv2D(32,(3,3),activation='relu',input_shape=(150,150,3)))\n",
    "model.add(layers.MaxPooling2D((2,2)))\n",
    "model.add(layers.Conv2D(64,(3,3),activation='relu'))\n",
    "model.add(layers.MaxPooling2D(2,2))\n",
    "model.add(layers.Conv2D(128,(3,3),activation='relu'))\n",
    "model.add(layers.MaxPooling2D(2,2))\n",
    "model.add(layers.Conv2D(128,(3,3),activation='relu'))\n",
    "model.add(layers.MaxPooling2D(2,2))\n",
    "model.add(layers.Flatten())\n",
    "model.add(layers.Dense(512,activation='relu'))\n",
    "model.add(layers.Dense(1,activation='sigmoid'))"
   ]
  },
  {
   "cell_type": "code",
   "execution_count": 19,
   "metadata": {},
   "outputs": [
    {
     "name": "stdout",
     "output_type": "stream",
     "text": [
      "_________________________________________________________________\n",
      "Layer (type)                 Output Shape              Param #   \n",
      "=================================================================\n",
      "conv2d_5 (Conv2D)            (None, 148, 148, 32)      896       \n",
      "_________________________________________________________________\n",
      "max_pooling2d_5 (MaxPooling2 (None, 74, 74, 32)        0         \n",
      "_________________________________________________________________\n",
      "conv2d_6 (Conv2D)            (None, 72, 72, 64)        18496     \n",
      "_________________________________________________________________\n",
      "max_pooling2d_6 (MaxPooling2 (None, 36, 36, 64)        0         \n",
      "_________________________________________________________________\n",
      "conv2d_7 (Conv2D)            (None, 34, 34, 128)       73856     \n",
      "_________________________________________________________________\n",
      "max_pooling2d_7 (MaxPooling2 (None, 17, 17, 128)       0         \n",
      "_________________________________________________________________\n",
      "conv2d_8 (Conv2D)            (None, 15, 15, 128)       147584    \n",
      "_________________________________________________________________\n",
      "max_pooling2d_8 (MaxPooling2 (None, 7, 7, 128)         0         \n",
      "_________________________________________________________________\n",
      "flatten_2 (Flatten)          (None, 6272)              0         \n",
      "_________________________________________________________________\n",
      "dense_3 (Dense)              (None, 512)               3211776   \n",
      "_________________________________________________________________\n",
      "dense_4 (Dense)              (None, 1)                 513       \n",
      "=================================================================\n",
      "Total params: 3,453,121\n",
      "Trainable params: 3,453,121\n",
      "Non-trainable params: 0\n",
      "_________________________________________________________________\n"
     ]
    }
   ],
   "source": [
    "model.summary()\n",
    "          "
   ]
  },
  {
   "cell_type": "code",
   "execution_count": 20,
   "metadata": {},
   "outputs": [],
   "source": [
    "from keras import optimizers"
   ]
  },
  {
   "cell_type": "code",
   "execution_count": 21,
   "metadata": {},
   "outputs": [],
   "source": [
    "model.compile(loss='binary_crossentropy',optimizer=optimizers.RMSprop(lr=1e-4),metrics=['acc'])"
   ]
  },
  {
   "cell_type": "code",
   "execution_count": 22,
   "metadata": {},
   "outputs": [],
   "source": [
    "# preprocessing images of dogs and cats\n",
    "from keras.preprocessing.image import ImageDataGenerator"
   ]
  },
  {
   "cell_type": "code",
   "execution_count": 23,
   "metadata": {},
   "outputs": [],
   "source": [
    "train_datagen=ImageDataGenerator(rescale=1./255)\n",
    "test_datagen=ImageDataGenerator(rescale=1./255)"
   ]
  },
  {
   "cell_type": "code",
   "execution_count": 24,
   "metadata": {},
   "outputs": [
    {
     "name": "stdout",
     "output_type": "stream",
     "text": [
      "Found 2000 images belonging to 2 classes.\n"
     ]
    }
   ],
   "source": [
    "train_generator=train_datagen.flow_from_directory(train_dir,target_size=(150,150),batch_size=20,class_mode='binary')"
   ]
  },
  {
   "cell_type": "code",
   "execution_count": 25,
   "metadata": {},
   "outputs": [
    {
     "name": "stdout",
     "output_type": "stream",
     "text": [
      "Found 1000 images belonging to 2 classes.\n"
     ]
    }
   ],
   "source": [
    "validation_generator=test_datagen.flow_from_directory(validation_dir,target_size=(150,150),batch_size=20,class_mode='binary')"
   ]
  },
  {
   "cell_type": "code",
   "execution_count": 26,
   "metadata": {},
   "outputs": [
    {
     "name": "stdout",
     "output_type": "stream",
     "text": [
      "data batch shape: (20, 150, 150, 3)\n",
      "labels batch shape: (20,)\n"
     ]
    }
   ],
   "source": [
    "## looking at the output of of one of these generators: yields batches of 150*150 RGB images of shape (20,150,150,3) \n",
    "#  and binary labels (shape(20,))\n",
    "for data_batch,labels_batch in train_generator:\n",
    "    print('data batch shape:',data_batch.shape)\n",
    "    print('labels batch shape:',labels_batch.shape)\n",
    "    break"
   ]
  },
  {
   "cell_type": "code",
   "execution_count": 27,
   "metadata": {},
   "outputs": [
    {
     "name": "stdout",
     "output_type": "stream",
     "text": [
      "Epoch 1/30\n",
      "100/100 [==============================] - 11s 106ms/step - loss: 0.6946 - acc: 0.5090 - val_loss: 0.7070 - val_acc: 0.5000\n",
      "Epoch 2/30\n",
      "100/100 [==============================] - 6s 63ms/step - loss: 0.6575 - acc: 0.5995 - val_loss: 0.6440 - val_acc: 0.5890\n",
      "Epoch 3/30\n",
      "100/100 [==============================] - 7s 67ms/step - loss: 0.6033 - acc: 0.6710 - val_loss: 0.6486 - val_acc: 0.6240\n",
      "Epoch 4/30\n",
      "100/100 [==============================] - 6s 65ms/step - loss: 0.5669 - acc: 0.7010 - val_loss: 0.6047 - val_acc: 0.6650\n",
      "Epoch 5/30\n",
      "100/100 [==============================] - 7s 65ms/step - loss: 0.5419 - acc: 0.7205 - val_loss: 0.6000 - val_acc: 0.6760\n",
      "Epoch 6/30\n",
      "100/100 [==============================] - 6s 65ms/step - loss: 0.5125 - acc: 0.7360 - val_loss: 0.5916 - val_acc: 0.6770\n",
      "Epoch 7/30\n",
      "100/100 [==============================] - 6s 64ms/step - loss: 0.4897 - acc: 0.7630 - val_loss: 0.6041 - val_acc: 0.6890\n",
      "Epoch 8/30\n",
      "100/100 [==============================] - 6s 64ms/step - loss: 0.4550 - acc: 0.7835 - val_loss: 0.5501 - val_acc: 0.7160\n",
      "Epoch 9/30\n",
      "100/100 [==============================] - 7s 65ms/step - loss: 0.4353 - acc: 0.7955 - val_loss: 0.5530 - val_acc: 0.7040\n",
      "Epoch 10/30\n",
      "100/100 [==============================] - 6s 63ms/step - loss: 0.4076 - acc: 0.8135 - val_loss: 0.5545 - val_acc: 0.7170\n",
      "Epoch 11/30\n",
      "100/100 [==============================] - 6s 64ms/step - loss: 0.3905 - acc: 0.8265 - val_loss: 0.5604 - val_acc: 0.7160\n",
      "Epoch 12/30\n",
      "100/100 [==============================] - 7s 66ms/step - loss: 0.3680 - acc: 0.8380 - val_loss: 0.5411 - val_acc: 0.7330\n",
      "Epoch 13/30\n",
      "100/100 [==============================] - 6s 64ms/step - loss: 0.3417 - acc: 0.8460 - val_loss: 0.5852 - val_acc: 0.7210\n",
      "Epoch 14/30\n",
      "100/100 [==============================] - 7s 66ms/step - loss: 0.3234 - acc: 0.8610 - val_loss: 0.5827 - val_acc: 0.7330\n",
      "Epoch 15/30\n",
      "100/100 [==============================] - 7s 66ms/step - loss: 0.2975 - acc: 0.8800 - val_loss: 0.5702 - val_acc: 0.7280\n",
      "Epoch 16/30\n",
      "100/100 [==============================] - 6s 63ms/step - loss: 0.2857 - acc: 0.8825 - val_loss: 0.6100 - val_acc: 0.7220\n",
      "Epoch 17/30\n",
      "100/100 [==============================] - 7s 65ms/step - loss: 0.2625 - acc: 0.8920 - val_loss: 0.6401 - val_acc: 0.7330\n",
      "Epoch 18/30\n",
      "100/100 [==============================] - 6s 63ms/step - loss: 0.2383 - acc: 0.9045 - val_loss: 0.6223 - val_acc: 0.7310\n",
      "Epoch 19/30\n",
      "100/100 [==============================] - 6s 64ms/step - loss: 0.2196 - acc: 0.9180 - val_loss: 0.6178 - val_acc: 0.7370\n",
      "Epoch 20/30\n",
      "100/100 [==============================] - 6s 64ms/step - loss: 0.2022 - acc: 0.9230 - val_loss: 0.6929 - val_acc: 0.7070\n",
      "Epoch 21/30\n",
      "100/100 [==============================] - 6s 63ms/step - loss: 0.1826 - acc: 0.9310 - val_loss: 0.6468 - val_acc: 0.7290\n",
      "Epoch 22/30\n",
      "100/100 [==============================] - 7s 67ms/step - loss: 0.1658 - acc: 0.9385 - val_loss: 0.6963 - val_acc: 0.7200\n",
      "Epoch 23/30\n",
      "100/100 [==============================] - 6s 65ms/step - loss: 0.1432 - acc: 0.9505 - val_loss: 0.7279 - val_acc: 0.7370\n",
      "Epoch 24/30\n",
      "100/100 [==============================] - 6s 62ms/step - loss: 0.1357 - acc: 0.9545 - val_loss: 0.7439 - val_acc: 0.7240\n",
      "Epoch 25/30\n",
      "100/100 [==============================] - 6s 64ms/step - loss: 0.1260 - acc: 0.9575 - val_loss: 0.8135 - val_acc: 0.7090\n",
      "Epoch 26/30\n",
      "100/100 [==============================] - 6s 63ms/step - loss: 0.1039 - acc: 0.9660 - val_loss: 0.7724 - val_acc: 0.7410\n",
      "Epoch 27/30\n",
      "100/100 [==============================] - 7s 66ms/step - loss: 0.0927 - acc: 0.9660 - val_loss: 0.7981 - val_acc: 0.7410\n",
      "Epoch 28/30\n",
      "100/100 [==============================] - 6s 64ms/step - loss: 0.0817 - acc: 0.9730 - val_loss: 0.8540 - val_acc: 0.7160\n",
      "Epoch 29/30\n",
      "100/100 [==============================] - 6s 64ms/step - loss: 0.0682 - acc: 0.9830 - val_loss: 1.0282 - val_acc: 0.7230\n",
      "Epoch 30/30\n",
      "100/100 [==============================] - 7s 66ms/step - loss: 0.0667 - acc: 0.9795 - val_loss: 0.9049 - val_acc: 0.7200\n"
     ]
    }
   ],
   "source": [
    "history=model.fit_generator(train_generator,steps_per_epoch=100,epochs=30,validation_data=validation_generator,validation_steps=50)"
   ]
  },
  {
   "cell_type": "code",
   "execution_count": 28,
   "metadata": {},
   "outputs": [],
   "source": [
    "model.save('cats_and_dogs_small_1.h5')"
   ]
  },
  {
   "cell_type": "code",
   "execution_count": 29,
   "metadata": {},
   "outputs": [],
   "source": [
    "import matplotlib.pyplot as plt"
   ]
  },
  {
   "cell_type": "code",
   "execution_count": 35,
   "metadata": {},
   "outputs": [],
   "source": [
    "#print(history.history.keys())\n",
    "acc=history.history['acc']\n",
    "val_acc=history.history['val_acc']\n",
    "val_loss=history.history['val_loss']\n",
    "loss=history.history['loss']\n",
    "\n",
    "epochs=range(1,len(acc)+1)"
   ]
  },
  {
   "cell_type": "code",
   "execution_count": 37,
   "metadata": {},
   "outputs": [
    {
     "data": {
      "image/png": "[encoded data removed]",
      "text/plain": [
       "<Figure size 432x288 with 1 Axes>"
      ]
     },
     "metadata": {},
     "output_type": "display_data"
    },
    {
     "data": {
      "image/png": "[encoded data removed]",
      "text/plain": [
       "<Figure size 432x288 with 1 Axes>"
      ]
     },
     "metadata": {},
     "output_type": "display_data"
    }
   ],
   "source": [
    "plt.plot(epochs,acc,'bo',label='Training acc')\n",
    "plt.plot(epochs,val_acc,'b',label='Validation acc')\n",
    "plt.title('Training and Validation accuracy')\n",
    "plt.legend()\n",
    "\n",
    "plt.figure()\n",
    "\n",
    "\n",
    "plt.plot(epochs,loss,'bo',label='Training loss')\n",
    "plt.plot(epochs,val_loss,'b',label='Validation loss')\n",
    "plt.title('Training and Validation loss')\n",
    "plt.legend()\n",
    "\n",
    "plt.show()"
   ]
  },
  {
   "cell_type": "code",
   "execution_count": 38,
   "metadata": {},
   "outputs": [],
   "source": [
    "# data augmentation to reduce overfitting\n",
    "\n",
    "datagen=ImageDataGenerator(rotation_range=40,width_shift_range=0.2,height_shift_range=0.2,shear_range=0.2,zoom_range=0.2,horizontal_flip=True,fill_mode='nearest')"
   ]
  },
  {
   "cell_type": "code",
   "execution_count": 47,
   "metadata": {},
   "outputs": [],
   "source": [
    "from keras.preprocessing import image"
   ]
  },
  {
   "cell_type": "code",
   "execution_count": 52,
   "metadata": {},
   "outputs": [],
   "source": [
    "#print(len(os.listdir(train_cats_dir)))\n",
    "fnames=[os.path.join(train_cats_dir,fname) for fname in os.listdir(train_cats_dir)]"
   ]
  },
  {
   "cell_type": "code",
   "execution_count": 54,
   "metadata": {},
   "outputs": [],
   "source": [
    "img_path=fnames[3]\n",
    "\n",
    "img=image.load_img(img_path,target_size=(150,150))"
   ]
  },
  {
   "cell_type": "code",
   "execution_count": 58,
   "metadata": {},
   "outputs": [
    {
     "name": "stdout",
     "output_type": "stream",
     "text": [
      "(150, 150, 3)\n"
     ]
    }
   ],
   "source": [
    "x=image.img_to_array(img)\n",
    "print(x.shape)"
   ]
  },
  {
   "cell_type": "code",
   "execution_count": 59,
   "metadata": {},
   "outputs": [
    {
     "name": "stdout",
     "output_type": "stream",
     "text": [
      "(1, 150, 150, 3)\n"
     ]
    }
   ],
   "source": [
    "x=x.reshape((1,)+x.shape)\n",
    "print(x.shape)"
   ]
  },
  {
   "cell_type": "code",
   "execution_count": 65,
   "metadata": {},
   "outputs": [],
   "source": [
    "#i=0\n",
    "\n",
    "#for batch in datagen.flow(x,batch_size=1):\n",
    "#    plt.figure(i)\n",
    "#    imgplot=plt.imshow(image.array_to_img(batch[0]))\n",
    "#    i+=1\n",
    "#    if i%4==0:\n",
    "#        break\n",
    "#plt.show()\n"
   ]
  },
  {
   "cell_type": "code",
   "execution_count": 67,
   "metadata": {},
   "outputs": [],
   "source": [
    "# Adding the dropout layer to convnet defined above\n",
    "\n",
    "model=models.Sequential()\n",
    "model.add(layers.Conv2D(32,(3,3),activation='relu',input_shape=(150,150,3)))\n",
    "model.add(layers.MaxPooling2D((2,2)))\n",
    "model.add(layers.Conv2D(64,(3,3),activation='relu'))\n",
    "model.add(layers.MaxPooling2D(2,2))\n",
    "model.add(layers.Conv2D(128,(3,3),activation='relu'))\n",
    "model.add(layers.MaxPooling2D(2,2))\n",
    "model.add(layers.Conv2D(128,(3,3),activation='relu'))\n",
    "model.add(layers.MaxPooling2D(2,2))\n",
    "model.add(layers.Flatten())\n",
    "model.add(layers.Dropout(0.5))\n",
    "model.add(layers.Dense(512,activation='relu'))\n",
    "model.add(layers.Dense(1,activation='sigmoid'))\n",
    "\n",
    "\n",
    "model.compile(loss='binary_crossentropy',optimizer=optimizers.RMSprop(lr=1e-4),metrics=['acc'])"
   ]
  },
  {
   "cell_type": "code",
   "execution_count": 68,
   "metadata": {},
   "outputs": [],
   "source": [
    "train_datagen=ImageDataGenerator(rescale=1./255,rotation_range=40,width_shift_range=0.2,height_shift_range=0.2,zoom_range=0.2,horizontal_flip=True)"
   ]
  },
  {
   "cell_type": "code",
   "execution_count": 69,
   "metadata": {},
   "outputs": [],
   "source": [
    "test_datagen=ImageDataGenerator(rescale=1./255)"
   ]
  },
  {
   "cell_type": "code",
   "execution_count": 70,
   "metadata": {},
   "outputs": [
    {
     "name": "stdout",
     "output_type": "stream",
     "text": [
      "Found 2000 images belonging to 2 classes.\n"
     ]
    }
   ],
   "source": [
    "train_generator=train_datagen.flow_from_directory(train_dir,target_size=(150,150),batch_size=32,class_mode='binary')"
   ]
  },
  {
   "cell_type": "code",
   "execution_count": 71,
   "metadata": {},
   "outputs": [
    {
     "name": "stdout",
     "output_type": "stream",
     "text": [
      "Found 1000 images belonging to 2 classes.\n"
     ]
    }
   ],
   "source": [
    "validation_generator=test_datagen.flow_from_directory(validation_dir,target_size=(150,150),batch_size=32,class_mode='binary')"
   ]
  },
  {
   "cell_type": "code",
   "execution_count": 72,
   "metadata": {
    "collapsed": true
   },
   "outputs": [
    {
     "name": "stdout",
     "output_type": "stream",
     "text": [
      "Epoch 1/100\n",
      "100/100 [==============================] - 21s 208ms/step - loss: 0.6889 - acc: 0.5413 - val_loss: 0.6783 - val_acc: 0.5654\n",
      "Epoch 2/100\n",
      "100/100 [==============================] - 19s 189ms/step - loss: 0.6743 - acc: 0.5822 - val_loss: 0.6816 - val_acc: 0.5406\n",
      "Epoch 3/100\n",
      "100/100 [==============================] - 19s 187ms/step - loss: 0.6620 - acc: 0.5878 - val_loss: 0.6376 - val_acc: 0.6079\n",
      "Epoch 4/100\n",
      "100/100 [==============================] - 19s 192ms/step - loss: 0.6479 - acc: 0.6094 - val_loss: 0.6375 - val_acc: 0.6263\n",
      "Epoch 5/100\n",
      "100/100 [==============================] - 19s 186ms/step - loss: 0.6252 - acc: 0.6409 - val_loss: 0.6018 - val_acc: 0.6548\n",
      "Epoch 6/100\n",
      "100/100 [==============================] - 20s 203ms/step - loss: 0.6149 - acc: 0.6581 - val_loss: 0.6028 - val_acc: 0.6599\n",
      "Epoch 7/100\n",
      "100/100 [==============================] - 19s 190ms/step - loss: 0.6075 - acc: 0.6687 - val_loss: 0.5918 - val_acc: 0.6669\n",
      "Epoch 8/100\n",
      "100/100 [==============================] - 19s 187ms/step - loss: 0.5945 - acc: 0.6744 - val_loss: 0.6178 - val_acc: 0.6396\n",
      "Epoch 9/100\n",
      "100/100 [==============================] - 19s 187ms/step - loss: 0.5907 - acc: 0.6753 - val_loss: 0.6035 - val_acc: 0.6815\n",
      "Epoch 10/100\n",
      "100/100 [==============================] - 18s 182ms/step - loss: 0.5860 - acc: 0.6925 - val_loss: 0.5594 - val_acc: 0.7037\n",
      "Epoch 11/100\n",
      "100/100 [==============================] - 19s 194ms/step - loss: 0.5725 - acc: 0.6925 - val_loss: 0.5974 - val_acc: 0.6662\n",
      "Epoch 12/100\n",
      "100/100 [==============================] - 19s 191ms/step - loss: 0.5618 - acc: 0.7100 - val_loss: 0.5632 - val_acc: 0.6980\n",
      "Epoch 13/100\n",
      "100/100 [==============================] - 19s 188ms/step - loss: 0.5587 - acc: 0.7103 - val_loss: 0.5399 - val_acc: 0.7272\n",
      "Epoch 14/100\n",
      "100/100 [==============================] - 19s 188ms/step - loss: 0.5517 - acc: 0.7234 - val_loss: 0.5280 - val_acc: 0.7297\n",
      "Epoch 15/100\n",
      "100/100 [==============================] - 19s 187ms/step - loss: 0.5562 - acc: 0.7153 - val_loss: 0.5660 - val_acc: 0.7081\n",
      "Epoch 16/100\n",
      "100/100 [==============================] - 19s 189ms/step - loss: 0.5488 - acc: 0.7147 - val_loss: 0.5181 - val_acc: 0.7310\n",
      "Epoch 17/100\n",
      "100/100 [==============================] - 19s 187ms/step - loss: 0.5453 - acc: 0.7222 - val_loss: 0.5346 - val_acc: 0.7272\n",
      "Epoch 18/100\n",
      "100/100 [==============================] - 21s 206ms/step - loss: 0.5301 - acc: 0.7285 - val_loss: 0.5153 - val_acc: 0.7443\n",
      "Epoch 19/100\n",
      "100/100 [==============================] - 19s 187ms/step - loss: 0.5429 - acc: 0.7241 - val_loss: 0.5182 - val_acc: 0.7437\n",
      "Epoch 20/100\n",
      "100/100 [==============================] - 19s 187ms/step - loss: 0.5224 - acc: 0.7450 - val_loss: 0.5803 - val_acc: 0.7100\n",
      "Epoch 21/100\n",
      "100/100 [==============================] - 19s 190ms/step - loss: 0.5240 - acc: 0.7363 - val_loss: 0.5425 - val_acc: 0.7284\n",
      "Epoch 22/100\n",
      "100/100 [==============================] - 19s 188ms/step - loss: 0.5348 - acc: 0.7262 - val_loss: 0.4998 - val_acc: 0.7582\n",
      "Epoch 23/100\n",
      "100/100 [==============================] - 20s 197ms/step - loss: 0.5174 - acc: 0.7375 - val_loss: 0.4978 - val_acc: 0.7392\n",
      "Epoch 24/100\n",
      "100/100 [==============================] - 19s 189ms/step - loss: 0.5123 - acc: 0.7400 - val_loss: 0.5700 - val_acc: 0.6929\n",
      "Epoch 25/100\n",
      "100/100 [==============================] - 19s 190ms/step - loss: 0.5156 - acc: 0.7419 - val_loss: 0.4986 - val_acc: 0.7582\n",
      "Epoch 26/100\n",
      "100/100 [==============================] - 19s 190ms/step - loss: 0.5064 - acc: 0.7547 - val_loss: 0.5081 - val_acc: 0.7418\n",
      "Epoch 27/100\n",
      "100/100 [==============================] - 19s 188ms/step - loss: 0.5007 - acc: 0.7497 - val_loss: 0.5362 - val_acc: 0.7544\n",
      "Epoch 28/100\n",
      "100/100 [==============================] - 19s 195ms/step - loss: 0.4932 - acc: 0.7497 - val_loss: 0.5992 - val_acc: 0.7214\n",
      "Epoch 29/100\n",
      "100/100 [==============================] - 19s 187ms/step - loss: 0.4992 - acc: 0.7547 - val_loss: 0.4967 - val_acc: 0.7703\n",
      "Epoch 30/100\n",
      "100/100 [==============================] - 19s 190ms/step - loss: 0.4900 - acc: 0.7644 - val_loss: 0.5572 - val_acc: 0.7164\n",
      "Epoch 31/100\n",
      "100/100 [==============================] - 19s 186ms/step - loss: 0.4812 - acc: 0.7616 - val_loss: 0.4623 - val_acc: 0.7798\n",
      "Epoch 32/100\n",
      "100/100 [==============================] - 19s 189ms/step - loss: 0.4935 - acc: 0.7625 - val_loss: 0.4985 - val_acc: 0.7405\n",
      "Epoch 33/100\n",
      "100/100 [==============================] - 19s 188ms/step - loss: 0.4659 - acc: 0.7803 - val_loss: 0.5013 - val_acc: 0.7614\n",
      "Epoch 34/100\n",
      "100/100 [==============================] - 19s 187ms/step - loss: 0.4880 - acc: 0.7650 - val_loss: 0.4783 - val_acc: 0.7722\n",
      "Epoch 35/100\n",
      "100/100 [==============================] - 20s 199ms/step - loss: 0.4713 - acc: 0.7722 - val_loss: 0.4783 - val_acc: 0.7544\n",
      "Epoch 36/100\n",
      "100/100 [==============================] - 19s 190ms/step - loss: 0.4628 - acc: 0.7784 - val_loss: 0.4911 - val_acc: 0.7716\n",
      "Epoch 37/100\n",
      "100/100 [==============================] - 19s 190ms/step - loss: 0.4658 - acc: 0.7728 - val_loss: 0.5009 - val_acc: 0.7665\n",
      "Epoch 38/100\n",
      "100/100 [==============================] - 19s 192ms/step - loss: 0.4647 - acc: 0.7772 - val_loss: 0.5292 - val_acc: 0.7506\n",
      "Epoch 39/100\n",
      "100/100 [==============================] - 19s 187ms/step - loss: 0.4583 - acc: 0.7781 - val_loss: 0.4977 - val_acc: 0.7728\n",
      "Epoch 40/100\n",
      "100/100 [==============================] - 20s 198ms/step - loss: 0.4628 - acc: 0.7888 - val_loss: 0.4616 - val_acc: 0.7741\n",
      "Epoch 41/100\n",
      "100/100 [==============================] - 19s 189ms/step - loss: 0.4766 - acc: 0.7691 - val_loss: 0.4764 - val_acc: 0.7849\n",
      "Epoch 42/100\n",
      "100/100 [==============================] - 19s 191ms/step - loss: 0.4538 - acc: 0.7794 - val_loss: 0.4538 - val_acc: 0.7957\n",
      "Epoch 43/100\n",
      "100/100 [==============================] - 19s 190ms/step - loss: 0.4498 - acc: 0.7825 - val_loss: 0.4582 - val_acc: 0.7957\n",
      "Epoch 44/100\n",
      "100/100 [==============================] - 19s 190ms/step - loss: 0.4597 - acc: 0.7844 - val_loss: 0.4458 - val_acc: 0.7722\n",
      "Epoch 45/100\n",
      "100/100 [==============================] - 19s 194ms/step - loss: 0.4497 - acc: 0.7928 - val_loss: 0.5437 - val_acc: 0.7475\n",
      "Epoch 46/100\n",
      "100/100 [==============================] - 19s 189ms/step - loss: 0.4531 - acc: 0.7775 - val_loss: 0.4479 - val_acc: 0.7779\n",
      "Epoch 47/100\n",
      "100/100 [==============================] - 19s 188ms/step - loss: 0.4524 - acc: 0.7912 - val_loss: 0.4603 - val_acc: 0.8058\n",
      "Epoch 48/100\n",
      "100/100 [==============================] - 19s 188ms/step - loss: 0.4337 - acc: 0.7978 - val_loss: 0.5143 - val_acc: 0.7697\n",
      "Epoch 49/100\n",
      "100/100 [==============================] - 19s 188ms/step - loss: 0.4318 - acc: 0.7997 - val_loss: 0.4341 - val_acc: 0.7995\n",
      "Epoch 50/100\n",
      "100/100 [==============================] - 19s 189ms/step - loss: 0.4324 - acc: 0.7994 - val_loss: 0.4460 - val_acc: 0.7900\n",
      "Epoch 51/100\n",
      "100/100 [==============================] - 19s 187ms/step - loss: 0.4458 - acc: 0.7838 - val_loss: 0.4720 - val_acc: 0.7697\n",
      "Epoch 52/100\n",
      "100/100 [==============================] - 20s 198ms/step - loss: 0.4282 - acc: 0.7919 - val_loss: 0.4959 - val_acc: 0.7817\n",
      "Epoch 53/100\n",
      "100/100 [==============================] - 19s 188ms/step - loss: 0.4289 - acc: 0.8019 - val_loss: 0.4538 - val_acc: 0.7824\n",
      "Epoch 54/100\n",
      "100/100 [==============================] - 19s 189ms/step - loss: 0.4324 - acc: 0.7981 - val_loss: 0.5754 - val_acc: 0.7310\n",
      "Epoch 55/100\n",
      "100/100 [==============================] - 19s 187ms/step - loss: 0.4194 - acc: 0.8025 - val_loss: 0.4649 - val_acc: 0.7970\n",
      "Epoch 56/100\n",
      "100/100 [==============================] - 19s 191ms/step - loss: 0.4280 - acc: 0.7944 - val_loss: 0.4712 - val_acc: 0.7690\n",
      "Epoch 57/100\n",
      "100/100 [==============================] - 20s 196ms/step - loss: 0.4162 - acc: 0.8075 - val_loss: 0.4584 - val_acc: 0.8001\n",
      "Epoch 58/100\n",
      "100/100 [==============================] - 19s 186ms/step - loss: 0.4235 - acc: 0.8081 - val_loss: 0.4258 - val_acc: 0.8065\n",
      "Epoch 59/100\n",
      "100/100 [==============================] - 19s 187ms/step - loss: 0.4198 - acc: 0.8097 - val_loss: 0.4376 - val_acc: 0.7938\n",
      "Epoch 60/100\n",
      "100/100 [==============================] - 19s 190ms/step - loss: 0.4196 - acc: 0.8013 - val_loss: 0.4635 - val_acc: 0.7843\n"
     ]
    },
    {
     "name": "stdout",
     "output_type": "stream",
     "text": [
      "Epoch 61/100\n",
      "100/100 [==============================] - 19s 191ms/step - loss: 0.4093 - acc: 0.8156 - val_loss: 0.4559 - val_acc: 0.8014\n",
      "Epoch 62/100\n",
      "100/100 [==============================] - 19s 189ms/step - loss: 0.4246 - acc: 0.8100 - val_loss: 0.4184 - val_acc: 0.8135\n",
      "Epoch 63/100\n",
      "100/100 [==============================] - 19s 188ms/step - loss: 0.3953 - acc: 0.8181 - val_loss: 0.4625 - val_acc: 0.8008\n",
      "Epoch 64/100\n",
      "100/100 [==============================] - 19s 191ms/step - loss: 0.4075 - acc: 0.8122 - val_loss: 0.4438 - val_acc: 0.8071\n",
      "Epoch 65/100\n",
      "100/100 [==============================] - 19s 189ms/step - loss: 0.4103 - acc: 0.8081 - val_loss: 0.4547 - val_acc: 0.8033\n",
      "Epoch 66/100\n",
      "100/100 [==============================] - 19s 190ms/step - loss: 0.4058 - acc: 0.8200 - val_loss: 0.4493 - val_acc: 0.8077\n",
      "Epoch 67/100\n",
      "100/100 [==============================] - 18s 184ms/step - loss: 0.3961 - acc: 0.8228 - val_loss: 0.4049 - val_acc: 0.8223\n",
      "Epoch 68/100\n",
      "100/100 [==============================] - 19s 190ms/step - loss: 0.3970 - acc: 0.8153 - val_loss: 0.4243 - val_acc: 0.8141\n",
      "Epoch 69/100\n",
      "100/100 [==============================] - 20s 200ms/step - loss: 0.3902 - acc: 0.8231 - val_loss: 0.4557 - val_acc: 0.8046\n",
      "Epoch 70/100\n",
      "100/100 [==============================] - 19s 191ms/step - loss: 0.4004 - acc: 0.8213 - val_loss: 0.4606 - val_acc: 0.7881\n",
      "Epoch 71/100\n",
      "100/100 [==============================] - 18s 185ms/step - loss: 0.3921 - acc: 0.8206 - val_loss: 0.4957 - val_acc: 0.7798\n",
      "Epoch 72/100\n",
      "100/100 [==============================] - 19s 190ms/step - loss: 0.4010 - acc: 0.8156 - val_loss: 0.4251 - val_acc: 0.8109\n",
      "Epoch 73/100\n",
      "100/100 [==============================] - 19s 186ms/step - loss: 0.3804 - acc: 0.8303 - val_loss: 0.4798 - val_acc: 0.7963\n",
      "Epoch 74/100\n",
      "100/100 [==============================] - 19s 193ms/step - loss: 0.3716 - acc: 0.8356 - val_loss: 0.4218 - val_acc: 0.8141\n",
      "Epoch 75/100\n",
      "100/100 [==============================] - 19s 185ms/step - loss: 0.3834 - acc: 0.8288 - val_loss: 0.4844 - val_acc: 0.7963\n",
      "Epoch 76/100\n",
      "100/100 [==============================] - 19s 188ms/step - loss: 0.3929 - acc: 0.8231 - val_loss: 0.4257 - val_acc: 0.8122\n",
      "Epoch 77/100\n",
      "100/100 [==============================] - 19s 188ms/step - loss: 0.3756 - acc: 0.8294 - val_loss: 0.4770 - val_acc: 0.7938\n",
      "Epoch 78/100\n",
      "100/100 [==============================] - 19s 190ms/step - loss: 0.3746 - acc: 0.8325 - val_loss: 0.4482 - val_acc: 0.7976\n",
      "Epoch 79/100\n",
      "100/100 [==============================] - 19s 187ms/step - loss: 0.3650 - acc: 0.8378 - val_loss: 0.5516 - val_acc: 0.7602\n",
      "Epoch 80/100\n",
      "100/100 [==============================] - 19s 186ms/step - loss: 0.3801 - acc: 0.8359 - val_loss: 0.4616 - val_acc: 0.8001\n",
      "Epoch 81/100\n",
      "100/100 [==============================] - 20s 203ms/step - loss: 0.3698 - acc: 0.8400 - val_loss: 0.5283 - val_acc: 0.7868\n",
      "Epoch 82/100\n",
      "100/100 [==============================] - 19s 190ms/step - loss: 0.3605 - acc: 0.8425 - val_loss: 0.4444 - val_acc: 0.8084\n",
      "Epoch 83/100\n",
      "100/100 [==============================] - 19s 189ms/step - loss: 0.3657 - acc: 0.8366 - val_loss: 0.4721 - val_acc: 0.8128\n",
      "Epoch 84/100\n",
      "100/100 [==============================] - 18s 185ms/step - loss: 0.3614 - acc: 0.8362 - val_loss: 0.4638 - val_acc: 0.8103\n",
      "Epoch 85/100\n",
      "100/100 [==============================] - 19s 188ms/step - loss: 0.3710 - acc: 0.8384 - val_loss: 0.4615 - val_acc: 0.8115\n",
      "Epoch 86/100\n",
      "100/100 [==============================] - 20s 197ms/step - loss: 0.3716 - acc: 0.8366 - val_loss: 0.4044 - val_acc: 0.8242\n",
      "Epoch 87/100\n",
      "100/100 [==============================] - 19s 190ms/step - loss: 0.3599 - acc: 0.8416 - val_loss: 0.4414 - val_acc: 0.8052\n",
      "Epoch 88/100\n",
      "100/100 [==============================] - 18s 185ms/step - loss: 0.3540 - acc: 0.8475 - val_loss: 0.5418 - val_acc: 0.7874\n",
      "Epoch 89/100\n",
      "100/100 [==============================] - 19s 187ms/step - loss: 0.3711 - acc: 0.8300 - val_loss: 0.4533 - val_acc: 0.8160\n",
      "Epoch 90/100\n",
      "100/100 [==============================] - 19s 190ms/step - loss: 0.3579 - acc: 0.8387 - val_loss: 0.4457 - val_acc: 0.8198\n",
      "Epoch 91/100\n",
      "100/100 [==============================] - 20s 195ms/step - loss: 0.3453 - acc: 0.8466 - val_loss: 0.4224 - val_acc: 0.8230\n",
      "Epoch 92/100\n",
      "100/100 [==============================] - 19s 188ms/step - loss: 0.3401 - acc: 0.8509 - val_loss: 0.6190 - val_acc: 0.7906\n",
      "Epoch 93/100\n",
      "100/100 [==============================] - 19s 187ms/step - loss: 0.3421 - acc: 0.8575 - val_loss: 0.4668 - val_acc: 0.8128\n",
      "Epoch 94/100\n",
      "100/100 [==============================] - 19s 186ms/step - loss: 0.3503 - acc: 0.8475 - val_loss: 0.4726 - val_acc: 0.8141\n",
      "Epoch 95/100\n",
      "100/100 [==============================] - 19s 188ms/step - loss: 0.3512 - acc: 0.8428 - val_loss: 0.4098 - val_acc: 0.8249\n",
      "Epoch 96/100\n",
      "100/100 [==============================] - 19s 187ms/step - loss: 0.3393 - acc: 0.8559 - val_loss: 0.4719 - val_acc: 0.7963\n",
      "Epoch 97/100\n",
      "100/100 [==============================] - 19s 190ms/step - loss: 0.3433 - acc: 0.8431 - val_loss: 0.3997 - val_acc: 0.8363\n",
      "Epoch 98/100\n",
      "100/100 [==============================] - 20s 203ms/step - loss: 0.3332 - acc: 0.8591 - val_loss: 0.4227 - val_acc: 0.8223\n",
      "Epoch 99/100\n",
      "100/100 [==============================] - 18s 185ms/step - loss: 0.3363 - acc: 0.8531 - val_loss: 0.4552 - val_acc: 0.8166\n",
      "Epoch 100/100\n",
      "100/100 [==============================] - 19s 189ms/step - loss: 0.3301 - acc: 0.8569 - val_loss: 0.4685 - val_acc: 0.8115\n"
     ]
    }
   ],
   "source": [
    "history=model.fit_generator(train_generator,steps_per_epoch=100,epochs=100,validation_data=validation_generator,validation_steps=50)"
   ]
  },
  {
   "cell_type": "code",
   "execution_count": 73,
   "metadata": {},
   "outputs": [],
   "source": [
    "model.save('cats_and_dogs_small_2.h5')"
   ]
  },
  {
   "cell_type": "code",
   "execution_count": 74,
   "metadata": {},
   "outputs": [
    {
     "data": {
      "image/png": "[encoded data removed]",
      "text/plain": [
       "<Figure size 432x288 with 1 Axes>"
      ]
     },
     "metadata": {},
     "output_type": "display_data"
    },
    {
     "data": {
      "image/png": "[encoded data removed]",
      "text/plain": [
       "<Figure size 432x288 with 1 Axes>"
      ]
     },
     "metadata": {},
     "output_type": "display_data"
    }
   ],
   "source": [
    "acc=history.history['acc']\n",
    "val_acc=history.history['val_acc']\n",
    "val_loss=history.history['val_loss']\n",
    "loss=history.history['loss']\n",
    "\n",
    "epochs=range(1,len(acc)+1)\n",
    "plt.plot(epochs,acc,'bo',label='Training acc')\n",
    "plt.plot(epochs,val_acc,'b',label='Validation acc')\n",
    "plt.title('Training and Validation accuracy')\n",
    "plt.legend()\n",
    "\n",
    "plt.figure()\n",
    "\n",
    "\n",
    "plt.plot(epochs,loss,'bo',label='Training loss')\n",
    "plt.plot(epochs,val_loss,'b',label='Validation loss')\n",
    "plt.title('Training and Validation loss')\n",
    "plt.legend()\n",
    "\n",
    "plt.show()\n",
    "\n"
   ]
  },
  {
   "cell_type": "code",
   "execution_count": 75,
   "metadata": {},
   "outputs": [],
   "source": [
    "## using pre-trained convnet to imporve further the accuracy ( using vgg16 model)\n",
    "from keras.applications import VGG16"
   ]
  },
  {
   "cell_type": "code",
   "execution_count": 76,
   "metadata": {},
   "outputs": [
    {
     "name": "stdout",
     "output_type": "stream",
     "text": [
      "Downloading data from https://github.com/fchollet/deep-learning-models/releases/download/v0.1/vgg16_weights_tf_dim_ordering_tf_kernels_notop.h5\n",
      "58892288/58889256 [==============================] - 600s 10us/step\n"
     ]
    }
   ],
   "source": [
    "conv_base=VGG16(weights='imagenet',include_top=False,input_shape=(150,150,3))"
   ]
  },
  {
   "cell_type": "code",
   "execution_count": 77,
   "metadata": {},
   "outputs": [
    {
     "name": "stdout",
     "output_type": "stream",
     "text": [
      "_________________________________________________________________\n",
      "Layer (type)                 Output Shape              Param #   \n",
      "=================================================================\n",
      "input_1 (InputLayer)         (None, 150, 150, 3)       0         \n",
      "_________________________________________________________________\n",
      "block1_conv1 (Conv2D)        (None, 150, 150, 64)      1792      \n",
      "_________________________________________________________________\n",
      "block1_conv2 (Conv2D)        (None, 150, 150, 64)      36928     \n",
      "_________________________________________________________________\n",
      "block1_pool (MaxPooling2D)   (None, 75, 75, 64)        0         \n",
      "_________________________________________________________________\n",
      "block2_conv1 (Conv2D)        (None, 75, 75, 128)       73856     \n",
      "_________________________________________________________________\n",
      "block2_conv2 (Conv2D)        (None, 75, 75, 128)       147584    \n",
      "_________________________________________________________________\n",
      "block2_pool (MaxPooling2D)   (None, 37, 37, 128)       0         \n",
      "_________________________________________________________________\n",
      "block3_conv1 (Conv2D)        (None, 37, 37, 256)       295168    \n",
      "_________________________________________________________________\n",
      "block3_conv2 (Conv2D)        (None, 37, 37, 256)       590080    \n",
      "_________________________________________________________________\n",
      "block3_conv3 (Conv2D)        (None, 37, 37, 256)       590080    \n",
      "_________________________________________________________________\n",
      "block3_pool (MaxPooling2D)   (None, 18, 18, 256)       0         \n",
      "_________________________________________________________________\n",
      "block4_conv1 (Conv2D)        (None, 18, 18, 512)       1180160   \n",
      "_________________________________________________________________\n",
      "block4_conv2 (Conv2D)        (None, 18, 18, 512)       2359808   \n",
      "_________________________________________________________________\n",
      "block4_conv3 (Conv2D)        (None, 18, 18, 512)       2359808   \n",
      "_________________________________________________________________\n",
      "block4_pool (MaxPooling2D)   (None, 9, 9, 512)         0         \n",
      "_________________________________________________________________\n",
      "block5_conv1 (Conv2D)        (None, 9, 9, 512)         2359808   \n",
      "_________________________________________________________________\n",
      "block5_conv2 (Conv2D)        (None, 9, 9, 512)         2359808   \n",
      "_________________________________________________________________\n",
      "block5_conv3 (Conv2D)        (None, 9, 9, 512)         2359808   \n",
      "_________________________________________________________________\n",
      "block5_pool (MaxPooling2D)   (None, 4, 4, 512)         0         \n",
      "=================================================================\n",
      "Total params: 14,714,688\n",
      "Trainable params: 14,714,688\n",
      "Non-trainable params: 0\n",
      "_________________________________________________________________\n"
     ]
    }
   ],
   "source": [
    "conv_base.summary()"
   ]
  },
  {
   "cell_type": "code",
   "execution_count": 79,
   "metadata": {},
   "outputs": [],
   "source": [
    "## extracting features using pre-trained convolutional base , compiling and fitting\n",
    "import numpy as np\n",
    "datagen=ImageDataGenerator(rescale=1./255)\n",
    "batch_size=20"
   ]
  },
  {
   "cell_type": "code",
   "execution_count": 85,
   "metadata": {},
   "outputs": [
    {
     "name": "stdout",
     "output_type": "stream",
     "text": [
      "Found 2000 images belonging to 2 classes.\n",
      "Found 1000 images belonging to 2 classes.\n",
      "Found 1000 images belonging to 2 classes.\n"
     ]
    }
   ],
   "source": [
    "def extract_features(directory,sample_count):\n",
    "    features=np.zeros(shape=(sample_count,4,4,512))\n",
    "    labels=np.zeros(shape=(sample_count))\n",
    "    generator=datagen.flow_from_directory(directory,target_size=(150,150),batch_size=batch_size,class_mode='binary')\n",
    "    \n",
    "    i=0\n",
    "    for inputs_batch,labels_batch in generator:\n",
    "        features_batch=conv_base.predict(inputs_batch)\n",
    "        features[i*batch_size:(i+1)*batch_size]=features_batch\n",
    "        labels[i*batch_size:(i+1)*batch_size]=labels_batch\n",
    "        i+=1\n",
    "        if i* batch_size>=sample_count:\n",
    "            break\n",
    "    return features,labels\n",
    "\n",
    "train_features,train_labels=extract_features(train_dir,2000)\n",
    "validation_features,validation_labels=extract_features(validation_dir,1000)\n",
    "test_features,test_labels=extract_features(test_dir,1000)"
   ]
  },
  {
   "cell_type": "code",
   "execution_count": 86,
   "metadata": {},
   "outputs": [],
   "source": [
    "train_features=np.reshape(train_features,(2000,4*4*512))\n",
    "validation_features=np.reshape(validation_features,(1000,4*4*512))\n",
    "test_features=np.reshape(test_features,(1000,4*4*512))"
   ]
  },
  {
   "cell_type": "code",
   "execution_count": 87,
   "metadata": {},
   "outputs": [],
   "source": [
    "model=models.Sequential()\n",
    "model.add(layers.Dense(256,activation='relu',input_dim=4*4*512))\n",
    "model.add(layers.Dropout(0.5))\n",
    "model.add(layers.Dense(1,activation='sigmoid'))"
   ]
  },
  {
   "cell_type": "code",
   "execution_count": 88,
   "metadata": {},
   "outputs": [],
   "source": [
    "model.compile(optimizer=optimizers.RMSprop(lr=1e-4),loss='binary_crossentropy',metrics=['acc'])"
   ]
  },
  {
   "cell_type": "code",
   "execution_count": 89,
   "metadata": {
    "scrolled": true
   },
   "outputs": [
    {
     "name": "stdout",
     "output_type": "stream",
     "text": [
      "Train on 2000 samples, validate on 1000 samples\n",
      "Epoch 1/30\n",
      "2000/2000 [==============================] - 1s 540us/step - loss: 0.4402 - acc: 0.7890 - val_loss: 0.3322 - val_acc: 0.8510\n",
      "Epoch 2/30\n",
      "2000/2000 [==============================] - 1s 432us/step - loss: 0.2977 - acc: 0.8780 - val_loss: 0.2608 - val_acc: 0.8920\n",
      "Epoch 3/30\n",
      "2000/2000 [==============================] - 1s 442us/step - loss: 0.2269 - acc: 0.9115 - val_loss: 0.2386 - val_acc: 0.9070\n",
      "Epoch 4/30\n",
      "2000/2000 [==============================] - 1s 427us/step - loss: 0.2068 - acc: 0.9170 - val_loss: 0.2366 - val_acc: 0.9100\n",
      "Epoch 5/30\n",
      "2000/2000 [==============================] - 1s 434us/step - loss: 0.1766 - acc: 0.9340 - val_loss: 0.2317 - val_acc: 0.9060\n",
      "Epoch 6/30\n",
      "2000/2000 [==============================] - 1s 425us/step - loss: 0.1605 - acc: 0.9325 - val_loss: 0.2426 - val_acc: 0.9080\n",
      "Epoch 7/30\n",
      "2000/2000 [==============================] - 1s 431us/step - loss: 0.1259 - acc: 0.9475 - val_loss: 0.2569 - val_acc: 0.9020\n",
      "Epoch 8/30\n",
      "2000/2000 [==============================] - 1s 429us/step - loss: 0.1180 - acc: 0.9550 - val_loss: 0.2400 - val_acc: 0.9050\n",
      "Epoch 9/30\n",
      "2000/2000 [==============================] - 1s 437us/step - loss: 0.1013 - acc: 0.9640 - val_loss: 0.2444 - val_acc: 0.9010\n",
      "Epoch 10/30\n",
      "2000/2000 [==============================] - 1s 428us/step - loss: 0.0943 - acc: 0.9680 - val_loss: 0.2485 - val_acc: 0.9060\n",
      "Epoch 11/30\n",
      "2000/2000 [==============================] - 1s 441us/step - loss: 0.0785 - acc: 0.9690 - val_loss: 0.2559 - val_acc: 0.9080\n",
      "Epoch 12/30\n",
      "2000/2000 [==============================] - 1s 428us/step - loss: 0.0735 - acc: 0.9810 - val_loss: 0.2650 - val_acc: 0.9050\n",
      "Epoch 13/30\n",
      "2000/2000 [==============================] - 1s 443us/step - loss: 0.0607 - acc: 0.9815 - val_loss: 0.2842 - val_acc: 0.8970\n",
      "Epoch 14/30\n",
      "2000/2000 [==============================] - 1s 440us/step - loss: 0.0547 - acc: 0.9840 - val_loss: 0.3142 - val_acc: 0.8930\n",
      "Epoch 15/30\n",
      "2000/2000 [==============================] - 1s 431us/step - loss: 0.0470 - acc: 0.9890 - val_loss: 0.2817 - val_acc: 0.9010\n",
      "Epoch 16/30\n",
      "2000/2000 [==============================] - 1s 429us/step - loss: 0.0413 - acc: 0.9910 - val_loss: 0.3064 - val_acc: 0.9010\n",
      "Epoch 17/30\n",
      "2000/2000 [==============================] - 1s 427us/step - loss: 0.0383 - acc: 0.9910 - val_loss: 0.2922 - val_acc: 0.9090\n",
      "Epoch 18/30\n",
      "2000/2000 [==============================] - 1s 421us/step - loss: 0.0306 - acc: 0.9910 - val_loss: 0.3047 - val_acc: 0.9040\n",
      "Epoch 19/30\n",
      "2000/2000 [==============================] - 1s 441us/step - loss: 0.0279 - acc: 0.9945 - val_loss: 0.3138 - val_acc: 0.9020\n",
      "Epoch 20/30\n",
      "2000/2000 [==============================] - 1s 437us/step - loss: 0.0260 - acc: 0.9935 - val_loss: 0.3242 - val_acc: 0.9030\n",
      "Epoch 21/30\n",
      "2000/2000 [==============================] - 1s 429us/step - loss: 0.0214 - acc: 0.9950 - val_loss: 0.3275 - val_acc: 0.9000\n",
      "Epoch 22/30\n",
      "2000/2000 [==============================] - 1s 425us/step - loss: 0.0190 - acc: 0.9955 - val_loss: 0.3254 - val_acc: 0.9030\n",
      "Epoch 23/30\n",
      "2000/2000 [==============================] - 1s 425us/step - loss: 0.0164 - acc: 0.9980 - val_loss: 0.3347 - val_acc: 0.8990\n",
      "Epoch 24/30\n",
      "2000/2000 [==============================] - 1s 433us/step - loss: 0.0137 - acc: 0.9980 - val_loss: 0.3497 - val_acc: 0.8970\n",
      "Epoch 25/30\n",
      "2000/2000 [==============================] - 1s 431us/step - loss: 0.0121 - acc: 0.9990 - val_loss: 0.3882 - val_acc: 0.8970\n",
      "Epoch 26/30\n",
      "2000/2000 [==============================] - 1s 423us/step - loss: 0.0108 - acc: 0.9990 - val_loss: 0.4200 - val_acc: 0.8870\n",
      "Epoch 27/30\n",
      "2000/2000 [==============================] - 1s 423us/step - loss: 0.0090 - acc: 0.9995 - val_loss: 0.3853 - val_acc: 0.9010\n",
      "Epoch 28/30\n",
      "2000/2000 [==============================] - 1s 429us/step - loss: 0.0085 - acc: 0.9985 - val_loss: 0.4891 - val_acc: 0.8830\n",
      "Epoch 29/30\n",
      "2000/2000 [==============================] - 1s 429us/step - loss: 0.0095 - acc: 0.9975 - val_loss: 0.4143 - val_acc: 0.9040\n",
      "Epoch 30/30\n",
      "2000/2000 [==============================] - 1s 433us/step - loss: 0.0062 - acc: 1.0000 - val_loss: 0.4350 - val_acc: 0.8990\n"
     ]
    }
   ],
   "source": [
    "history=model.fit(train_features,train_labels,epochs=30,batch_size=20,validation_data=(validation_features,validation_labels))"
   ]
  },
  {
   "cell_type": "code",
   "execution_count": 90,
   "metadata": {},
   "outputs": [
    {
     "data": {
      "image/png": "[encoded data removed]",
      "text/plain": [
       "<Figure size 432x288 with 1 Axes>"
      ]
     },
     "metadata": {},
     "output_type": "display_data"
    },
    {
     "data": {
      "image/png": "[encoded data removed]",
      "text/plain": [
       "<Figure size 432x288 with 1 Axes>"
      ]
     },
     "metadata": {},
     "output_type": "display_data"
    }
   ],
   "source": [
    "acc=history.history['acc']\n",
    "val_acc=history.history['val_acc']\n",
    "val_loss=history.history['val_loss']\n",
    "loss=history.history['loss']\n",
    "\n",
    "epochs=range(1,len(acc)+1)\n",
    "plt.plot(epochs,acc,'bo',label='Training acc')\n",
    "plt.plot(epochs,val_acc,'b',label='Validation acc')\n",
    "plt.title('Training and Validation accuracy')\n",
    "plt.legend()\n",
    "\n",
    "plt.figure()\n",
    "\n",
    "\n",
    "plt.plot(epochs,loss,'bo',label='Training loss')\n",
    "plt.plot(epochs,val_loss,'b',label='Validation loss')\n",
    "plt.title('Training and Validation loss')\n",
    "plt.legend()\n",
    "\n",
    "plt.show()\n"
   ]
  },
  {
   "cell_type": "code",
   "execution_count": 104,
   "metadata": {},
   "outputs": [],
   "source": [
    "## Extracting fetaures with Data Augmentation\n",
    "### adding a densely connected classifier on top of convolutional base\n",
    "import os\n",
    "os.environ[\"CUDA_VISIBLE_DEVICES\"] = \"0\"\n",
    "\n",
    "from keras import models\n",
    "from keras import layers\n",
    "\n",
    "model=models.Sequential()\n",
    "model.add(conv_base)\n",
    "model.add(layers.Flatten())\n",
    "model.add(layers.Dense(256,activation='relu'))\n",
    "model.add(layers.Dense(1,activation='sigmoid'))"
   ]
  },
  {
   "cell_type": "code",
   "execution_count": 105,
   "metadata": {},
   "outputs": [
    {
     "name": "stdout",
     "output_type": "stream",
     "text": [
      "_________________________________________________________________\n",
      "Layer (type)                 Output Shape              Param #   \n",
      "=================================================================\n",
      "vgg16 (Model)                (None, 4, 4, 512)         14714688  \n",
      "_________________________________________________________________\n",
      "flatten_6 (Flatten)          (None, 8192)              0         \n",
      "_________________________________________________________________\n",
      "dense_13 (Dense)             (None, 256)               2097408   \n",
      "_________________________________________________________________\n",
      "dense_14 (Dense)             (None, 1)                 257       \n",
      "=================================================================\n",
      "Total params: 16,812,353\n",
      "Trainable params: 2,097,665\n",
      "Non-trainable params: 14,714,688\n",
      "_________________________________________________________________\n"
     ]
    }
   ],
   "source": [
    "model.summary()"
   ]
  },
  {
   "cell_type": "code",
   "execution_count": 106,
   "metadata": {},
   "outputs": [
    {
     "name": "stdout",
     "output_type": "stream",
     "text": [
      "this is the number of trainable weights before feezing the conv base: 4\n"
     ]
    }
   ],
   "source": [
    "print('this is the number of trainable weights before feezing the conv base:',len(model.trainable_weights))"
   ]
  },
  {
   "cell_type": "code",
   "execution_count": 107,
   "metadata": {},
   "outputs": [],
   "source": [
    "conv_base.trainable=False"
   ]
  },
  {
   "cell_type": "code",
   "execution_count": 108,
   "metadata": {},
   "outputs": [
    {
     "name": "stdout",
     "output_type": "stream",
     "text": [
      "this is the number of trainable weights after feezing the conv base: 4\n"
     ]
    }
   ],
   "source": [
    "print('this is the number of trainable weights after feezing the conv base:',len(model.trainable_weights))"
   ]
  },
  {
   "cell_type": "code",
   "execution_count": 109,
   "metadata": {},
   "outputs": [
    {
     "name": "stdout",
     "output_type": "stream",
     "text": [
      "Found 2000 images belonging to 2 classes.\n",
      "Found 1000 images belonging to 2 classes.\n"
     ]
    }
   ],
   "source": [
    "\n",
    "train_datagen=ImageDataGenerator(rescale=1./255,rotation_range=40,width_shift_range=0.2,height_shift_range=0.2,zoom_range=0.2,horizontal_flip=True,fill_mode='nearest')\n",
    "test_datagen=ImageDataGenerator(rescale=1./255)\n",
    "\n",
    "train_generator=train_datagen.flow_from_directory(train_dir,target_size=(150,150),batch_size=20,class_mode='binary')\n",
    "validation_generator=test_datagen.flow_from_directory(validation_dir,target_size=(150,150),batch_size=20,class_mode='binary')\n"
   ]
  },
  {
   "cell_type": "code",
   "execution_count": 113,
   "metadata": {},
   "outputs": [
    {
     "name": "stdout",
     "output_type": "stream",
     "text": [
      "Epoch 1/30\n",
      "100/100 [==============================] - 13s 132ms/step - loss: 0.2086 - acc: 0.9220 - val_loss: 0.2541 - val_acc: 0.9100\n",
      "Epoch 2/30\n",
      "100/100 [==============================] - 12s 117ms/step - loss: 0.2337 - acc: 0.9030 - val_loss: 0.2602 - val_acc: 0.9050\n",
      "Epoch 3/30\n",
      "100/100 [==============================] - 12s 121ms/step - loss: 0.2089 - acc: 0.9100 - val_loss: 0.2544 - val_acc: 0.9080\n",
      "Epoch 4/30\n",
      "100/100 [==============================] - 12s 123ms/step - loss: 0.2277 - acc: 0.9035 - val_loss: 0.2507 - val_acc: 0.9120\n",
      "Epoch 5/30\n",
      "100/100 [==============================] - 12s 118ms/step - loss: 0.2342 - acc: 0.9010 - val_loss: 0.2506 - val_acc: 0.9080\n",
      "Epoch 6/30\n",
      "100/100 [==============================] - 12s 122ms/step - loss: 0.2197 - acc: 0.9060 - val_loss: 0.2514 - val_acc: 0.9090\n",
      "Epoch 7/30\n",
      "100/100 [==============================] - 12s 121ms/step - loss: 0.2164 - acc: 0.9125 - val_loss: 0.2500 - val_acc: 0.9110\n",
      "Epoch 8/30\n",
      "100/100 [==============================] - 12s 121ms/step - loss: 0.2193 - acc: 0.9050 - val_loss: 0.2524 - val_acc: 0.9110\n",
      "Epoch 9/30\n",
      "100/100 [==============================] - 12s 120ms/step - loss: 0.2284 - acc: 0.9080 - val_loss: 0.2504 - val_acc: 0.9130\n",
      "Epoch 10/30\n",
      "100/100 [==============================] - 12s 121ms/step - loss: 0.2229 - acc: 0.8990 - val_loss: 0.2503 - val_acc: 0.9120\n",
      "Epoch 11/30\n",
      "100/100 [==============================] - 12s 119ms/step - loss: 0.2168 - acc: 0.9095 - val_loss: 0.2546 - val_acc: 0.9050\n",
      "Epoch 12/30\n",
      "100/100 [==============================] - 12s 120ms/step - loss: 0.2178 - acc: 0.9115 - val_loss: 0.2514 - val_acc: 0.9120\n",
      "Epoch 13/30\n",
      "100/100 [==============================] - 12s 120ms/step - loss: 0.2174 - acc: 0.9040 - val_loss: 0.2555 - val_acc: 0.9120\n",
      "Epoch 14/30\n",
      "100/100 [==============================] - 12s 118ms/step - loss: 0.2137 - acc: 0.9130 - val_loss: 0.2517 - val_acc: 0.9170\n",
      "Epoch 15/30\n",
      "100/100 [==============================] - 12s 120ms/step - loss: 0.2114 - acc: 0.9070 - val_loss: 0.2530 - val_acc: 0.9110\n",
      "Epoch 16/30\n",
      "100/100 [==============================] - 12s 119ms/step - loss: 0.2065 - acc: 0.9110 - val_loss: 0.2547 - val_acc: 0.9110\n",
      "Epoch 17/30\n",
      "100/100 [==============================] - 12s 120ms/step - loss: 0.2195 - acc: 0.9005 - val_loss: 0.2523 - val_acc: 0.9150\n",
      "Epoch 18/30\n",
      "100/100 [==============================] - 12s 121ms/step - loss: 0.2094 - acc: 0.9160 - val_loss: 0.2546 - val_acc: 0.9080\n",
      "Epoch 19/30\n",
      "100/100 [==============================] - 12s 118ms/step - loss: 0.2099 - acc: 0.9150 - val_loss: 0.2577 - val_acc: 0.9110\n",
      "Epoch 20/30\n",
      "100/100 [==============================] - 12s 120ms/step - loss: 0.2103 - acc: 0.9075 - val_loss: 0.2556 - val_acc: 0.9050\n",
      "Epoch 21/30\n",
      "100/100 [==============================] - 12s 121ms/step - loss: 0.2048 - acc: 0.9215 - val_loss: 0.2514 - val_acc: 0.9080\n",
      "Epoch 22/30\n",
      "100/100 [==============================] - 12s 119ms/step - loss: 0.2123 - acc: 0.9100 - val_loss: 0.2507 - val_acc: 0.9130\n",
      "Epoch 23/30\n",
      "100/100 [==============================] - 12s 120ms/step - loss: 0.2044 - acc: 0.9175 - val_loss: 0.2497 - val_acc: 0.9130\n",
      "Epoch 24/30\n",
      "100/100 [==============================] - 12s 119ms/step - loss: 0.2041 - acc: 0.9095 - val_loss: 0.2565 - val_acc: 0.9060\n",
      "Epoch 25/30\n",
      "100/100 [==============================] - 12s 118ms/step - loss: 0.2155 - acc: 0.9115 - val_loss: 0.2530 - val_acc: 0.9090\n",
      "Epoch 26/30\n",
      "100/100 [==============================] - 12s 122ms/step - loss: 0.2020 - acc: 0.9215 - val_loss: 0.2504 - val_acc: 0.9080\n",
      "Epoch 27/30\n",
      "100/100 [==============================] - 12s 121ms/step - loss: 0.2205 - acc: 0.9105 - val_loss: 0.2491 - val_acc: 0.9090\n",
      "Epoch 28/30\n",
      "100/100 [==============================] - 12s 120ms/step - loss: 0.2079 - acc: 0.9160 - val_loss: 0.2574 - val_acc: 0.9050\n",
      "Epoch 29/30\n",
      "100/100 [==============================] - 12s 119ms/step - loss: 0.1968 - acc: 0.9165 - val_loss: 0.2543 - val_acc: 0.9090\n",
      "Epoch 30/30\n",
      "100/100 [==============================] - 12s 118ms/step - loss: 0.2049 - acc: 0.9170 - val_loss: 0.2573 - val_acc: 0.9090\n"
     ]
    }
   ],
   "source": [
    "model.compile(loss='binary_crossentropy',optimizer=optimizers.RMSprop(lr=2e-5),metrics=['acc'])\n",
    "history=model.fit_generator(train_generator,steps_per_epoch=100,epochs=30,validation_data=validation_generator,validation_steps=50)"
   ]
  },
  {
   "cell_type": "code",
   "execution_count": 114,
   "metadata": {},
   "outputs": [
    {
     "data": {
      "image/png": "[encoded data removed]",
      "text/plain": [
       "<Figure size 432x288 with 1 Axes>"
      ]
     },
     "metadata": {},
     "output_type": "display_data"
    },
    {
     "data": {
      "image/png": "[encoded data removed]",
      "text/plain": [
       "<Figure size 432x288 with 1 Axes>"
      ]
     },
     "metadata": {},
     "output_type": "display_data"
    }
   ],
   "source": [
    "acc=history.history['acc']\n",
    "val_acc=history.history['val_acc']\n",
    "val_loss=history.history['val_loss']\n",
    "loss=history.history['loss']\n",
    "\n",
    "epochs=range(1,len(acc)+1)\n",
    "plt.plot(epochs,acc,'bo',label='Training acc')\n",
    "plt.plot(epochs,val_acc,'b',label='Validation acc')\n",
    "plt.title('Training and Validation accuracy')\n",
    "plt.legend()\n",
    "\n",
    "plt.figure()\n",
    "\n",
    "\n",
    "plt.plot(epochs,loss,'bo',label='Training loss')\n",
    "plt.plot(epochs,val_loss,'b',label='Validation loss')\n",
    "plt.title('Training and Validation loss')\n",
    "plt.legend()\n",
    "\n",
    "plt.show()"
   ]
  },
  {
   "cell_type": "code",
   "execution_count": 115,
   "metadata": {},
   "outputs": [
    {
     "name": "stdout",
     "output_type": "stream",
     "text": [
      "_________________________________________________________________\n",
      "Layer (type)                 Output Shape              Param #   \n",
      "=================================================================\n",
      "input_1 (InputLayer)         (None, 150, 150, 3)       0         \n",
      "_________________________________________________________________\n",
      "block1_conv1 (Conv2D)        (None, 150, 150, 64)      1792      \n",
      "_________________________________________________________________\n",
      "block1_conv2 (Conv2D)        (None, 150, 150, 64)      36928     \n",
      "_________________________________________________________________\n",
      "block1_pool (MaxPooling2D)   (None, 75, 75, 64)        0         \n",
      "_________________________________________________________________\n",
      "block2_conv1 (Conv2D)        (None, 75, 75, 128)       73856     \n",
      "_________________________________________________________________\n",
      "block2_conv2 (Conv2D)        (None, 75, 75, 128)       147584    \n",
      "_________________________________________________________________\n",
      "block2_pool (MaxPooling2D)   (None, 37, 37, 128)       0         \n",
      "_________________________________________________________________\n",
      "block3_conv1 (Conv2D)        (None, 37, 37, 256)       295168    \n",
      "_________________________________________________________________\n",
      "block3_conv2 (Conv2D)        (None, 37, 37, 256)       590080    \n",
      "_________________________________________________________________\n",
      "block3_conv3 (Conv2D)        (None, 37, 37, 256)       590080    \n",
      "_________________________________________________________________\n",
      "block3_pool (MaxPooling2D)   (None, 18, 18, 256)       0         \n",
      "_________________________________________________________________\n",
      "block4_conv1 (Conv2D)        (None, 18, 18, 512)       1180160   \n",
      "_________________________________________________________________\n",
      "block4_conv2 (Conv2D)        (None, 18, 18, 512)       2359808   \n",
      "_________________________________________________________________\n",
      "block4_conv3 (Conv2D)        (None, 18, 18, 512)       2359808   \n",
      "_________________________________________________________________\n",
      "block4_pool (MaxPooling2D)   (None, 9, 9, 512)         0         \n",
      "_________________________________________________________________\n",
      "block5_conv1 (Conv2D)        (None, 9, 9, 512)         2359808   \n",
      "_________________________________________________________________\n",
      "block5_conv2 (Conv2D)        (None, 9, 9, 512)         2359808   \n",
      "_________________________________________________________________\n",
      "block5_conv3 (Conv2D)        (None, 9, 9, 512)         2359808   \n",
      "_________________________________________________________________\n",
      "block5_pool (MaxPooling2D)   (None, 4, 4, 512)         0         \n",
      "=================================================================\n",
      "Total params: 14,714,688\n",
      "Trainable params: 0\n",
      "Non-trainable params: 14,714,688\n",
      "_________________________________________________________________\n"
     ]
    }
   ],
   "source": [
    "conv_base.summary()"
   ]
  },
  {
   "cell_type": "code",
   "execution_count": 119,
   "metadata": {},
   "outputs": [],
   "source": [
    "#freezing all layers upto a specific one\n",
    "\n",
    "conv_base.trainable=True\n",
    "set_trainable=False\n",
    "\n",
    "for layer in conv_base.layers:\n",
    "    if layer.name=='block5_conv1':\n",
    "        set_trainable=True\n",
    "    if set_trainable:\n",
    "        layer.trainable=True\n",
    "    else:\n",
    "        layer.trainable=False"
   ]
  },
  {
   "cell_type": "code",
   "execution_count": 120,
   "metadata": {},
   "outputs": [],
   "source": [
    "model.compile(loss='binary_crossentropy',optimizer=optimizers.RMSprop(lr=1e-5),metrics=['acc'])"
   ]
  },
  {
   "cell_type": "code",
   "execution_count": 122,
   "metadata": {},
   "outputs": [
    {
     "name": "stdout",
     "output_type": "stream",
     "text": [
      "Epoch 1/100\n",
      "100/100 [==============================] - 13s 132ms/step - loss: 0.2270 - acc: 0.9070 - val_loss: 0.2838 - val_acc: 0.9030\n",
      "Epoch 2/100\n",
      "100/100 [==============================] - 12s 119ms/step - loss: 0.2215 - acc: 0.9000 - val_loss: 0.2370 - val_acc: 0.9110\n",
      "Epoch 3/100\n",
      "100/100 [==============================] - 12s 120ms/step - loss: 0.1808 - acc: 0.9250 - val_loss: 0.2752 - val_acc: 0.9040\n",
      "Epoch 4/100\n",
      "100/100 [==============================] - 12s 119ms/step - loss: 0.1811 - acc: 0.9265 - val_loss: 0.2403 - val_acc: 0.9170\n",
      "Epoch 5/100\n",
      "100/100 [==============================] - 12s 122ms/step - loss: 0.1864 - acc: 0.9215 - val_loss: 0.2849 - val_acc: 0.9050\n",
      "Epoch 6/100\n",
      "100/100 [==============================] - 12s 121ms/step - loss: 0.1609 - acc: 0.9400 - val_loss: 0.2345 - val_acc: 0.9280\n",
      "Epoch 7/100\n",
      "100/100 [==============================] - 12s 123ms/step - loss: 0.1612 - acc: 0.9395 - val_loss: 0.2345 - val_acc: 0.9130\n",
      "Epoch 8/100\n",
      "100/100 [==============================] - 12s 120ms/step - loss: 0.1409 - acc: 0.9450 - val_loss: 0.3294 - val_acc: 0.9030\n",
      "Epoch 9/100\n",
      "100/100 [==============================] - 12s 121ms/step - loss: 0.1432 - acc: 0.9425 - val_loss: 0.2180 - val_acc: 0.9240\n",
      "Epoch 10/100\n",
      "100/100 [==============================] - 12s 120ms/step - loss: 0.1302 - acc: 0.9535 - val_loss: 0.2373 - val_acc: 0.9280\n",
      "Epoch 11/100\n",
      "100/100 [==============================] - 12s 121ms/step - loss: 0.1430 - acc: 0.9460 - val_loss: 0.2710 - val_acc: 0.9190\n",
      "Epoch 12/100\n",
      "100/100 [==============================] - 12s 122ms/step - loss: 0.1240 - acc: 0.9485 - val_loss: 0.2170 - val_acc: 0.9310\n",
      "Epoch 13/100\n",
      "100/100 [==============================] - 12s 121ms/step - loss: 0.1236 - acc: 0.9515 - val_loss: 0.2503 - val_acc: 0.9210\n",
      "Epoch 14/100\n",
      "100/100 [==============================] - 12s 122ms/step - loss: 0.1077 - acc: 0.9590 - val_loss: 0.2440 - val_acc: 0.9260\n",
      "Epoch 15/100\n",
      "100/100 [==============================] - 12s 123ms/step - loss: 0.1131 - acc: 0.9560 - val_loss: 0.2512 - val_acc: 0.9260\n",
      "Epoch 16/100\n",
      "100/100 [==============================] - 12s 122ms/step - loss: 0.1022 - acc: 0.9635 - val_loss: 0.2971 - val_acc: 0.9180\n",
      "Epoch 17/100\n",
      "100/100 [==============================] - 12s 120ms/step - loss: 0.0958 - acc: 0.9640 - val_loss: 0.2240 - val_acc: 0.9320\n",
      "Epoch 18/100\n",
      "100/100 [==============================] - 12s 122ms/step - loss: 0.1080 - acc: 0.9555 - val_loss: 0.2235 - val_acc: 0.9310\n",
      "Epoch 19/100\n",
      "100/100 [==============================] - 12s 118ms/step - loss: 0.0880 - acc: 0.9650 - val_loss: 0.2194 - val_acc: 0.9420\n",
      "Epoch 20/100\n",
      "100/100 [==============================] - 12s 122ms/step - loss: 0.0838 - acc: 0.9675 - val_loss: 0.2288 - val_acc: 0.9390\n",
      "Epoch 21/100\n",
      "100/100 [==============================] - 12s 120ms/step - loss: 0.1003 - acc: 0.9615 - val_loss: 0.2975 - val_acc: 0.9150\n",
      "Epoch 22/100\n",
      "100/100 [==============================] - 12s 121ms/step - loss: 0.0895 - acc: 0.9685 - val_loss: 0.2486 - val_acc: 0.9330\n",
      "Epoch 23/100\n",
      "100/100 [==============================] - 12s 121ms/step - loss: 0.0811 - acc: 0.9665 - val_loss: 0.2316 - val_acc: 0.9380\n",
      "Epoch 24/100\n",
      "100/100 [==============================] - 12s 121ms/step - loss: 0.0816 - acc: 0.9690 - val_loss: 0.2421 - val_acc: 0.9350\n",
      "Epoch 25/100\n",
      "100/100 [==============================] - 12s 122ms/step - loss: 0.0752 - acc: 0.9705 - val_loss: 0.2867 - val_acc: 0.9230\n",
      "Epoch 26/100\n",
      "100/100 [==============================] - 12s 119ms/step - loss: 0.0771 - acc: 0.9735 - val_loss: 0.2627 - val_acc: 0.9330\n",
      "Epoch 27/100\n",
      "100/100 [==============================] - 12s 120ms/step - loss: 0.0619 - acc: 0.9755 - val_loss: 0.2560 - val_acc: 0.9350\n",
      "Epoch 28/100\n",
      "100/100 [==============================] - 12s 122ms/step - loss: 0.0717 - acc: 0.9740 - val_loss: 0.2940 - val_acc: 0.9260\n",
      "Epoch 29/100\n",
      "100/100 [==============================] - 12s 120ms/step - loss: 0.0779 - acc: 0.9735 - val_loss: 0.4103 - val_acc: 0.9110\n",
      "Epoch 30/100\n",
      "100/100 [==============================] - 12s 120ms/step - loss: 0.0767 - acc: 0.9695 - val_loss: 0.2485 - val_acc: 0.9320\n",
      "Epoch 31/100\n",
      "100/100 [==============================] - 12s 119ms/step - loss: 0.0583 - acc: 0.9815 - val_loss: 0.2638 - val_acc: 0.9300\n",
      "Epoch 32/100\n",
      "100/100 [==============================] - 12s 119ms/step - loss: 0.0663 - acc: 0.9775 - val_loss: 0.3152 - val_acc: 0.9240\n",
      "Epoch 33/100\n",
      "100/100 [==============================] - 12s 120ms/step - loss: 0.0672 - acc: 0.9770 - val_loss: 0.2295 - val_acc: 0.9380\n",
      "Epoch 34/100\n",
      "100/100 [==============================] - 12s 117ms/step - loss: 0.0589 - acc: 0.9785 - val_loss: 0.2506 - val_acc: 0.9320\n",
      "Epoch 35/100\n",
      "100/100 [==============================] - 12s 122ms/step - loss: 0.0576 - acc: 0.9815 - val_loss: 0.2480 - val_acc: 0.9330\n",
      "Epoch 36/100\n",
      "100/100 [==============================] - 12s 121ms/step - loss: 0.0588 - acc: 0.9760 - val_loss: 0.3097 - val_acc: 0.9280\n",
      "Epoch 37/100\n",
      "100/100 [==============================] - 12s 123ms/step - loss: 0.0687 - acc: 0.9740 - val_loss: 0.2921 - val_acc: 0.9270\n",
      "Epoch 38/100\n",
      "100/100 [==============================] - 12s 122ms/step - loss: 0.0464 - acc: 0.9835 - val_loss: 0.2819 - val_acc: 0.9390\n",
      "Epoch 39/100\n",
      "100/100 [==============================] - 12s 122ms/step - loss: 0.0567 - acc: 0.9820 - val_loss: 0.2843 - val_acc: 0.9320\n",
      "Epoch 40/100\n",
      "100/100 [==============================] - 12s 119ms/step - loss: 0.0397 - acc: 0.9855 - val_loss: 0.2840 - val_acc: 0.9340\n",
      "Epoch 41/100\n",
      "100/100 [==============================] - 12s 123ms/step - loss: 0.0593 - acc: 0.9780 - val_loss: 0.2751 - val_acc: 0.9360\n",
      "Epoch 42/100\n",
      "100/100 [==============================] - 12s 122ms/step - loss: 0.0403 - acc: 0.9845 - val_loss: 0.2916 - val_acc: 0.9340\n",
      "Epoch 43/100\n",
      "100/100 [==============================] - 12s 119ms/step - loss: 0.0559 - acc: 0.9800 - val_loss: 0.2982 - val_acc: 0.9250\n",
      "Epoch 44/100\n",
      "100/100 [==============================] - 12s 120ms/step - loss: 0.0511 - acc: 0.9810 - val_loss: 0.2878 - val_acc: 0.9310\n",
      "Epoch 45/100\n",
      "100/100 [==============================] - 12s 119ms/step - loss: 0.0484 - acc: 0.9800 - val_loss: 0.2794 - val_acc: 0.9370\n",
      "Epoch 46/100\n",
      "100/100 [==============================] - 12s 122ms/step - loss: 0.0476 - acc: 0.9835 - val_loss: 0.2576 - val_acc: 0.9350\n",
      "Epoch 47/100\n",
      "100/100 [==============================] - 12s 122ms/step - loss: 0.0355 - acc: 0.9850 - val_loss: 0.2857 - val_acc: 0.9360\n",
      "Epoch 48/100\n",
      "100/100 [==============================] - 12s 119ms/step - loss: 0.0418 - acc: 0.9825 - val_loss: 0.2961 - val_acc: 0.9320\n",
      "Epoch 49/100\n",
      "100/100 [==============================] - 12s 122ms/step - loss: 0.0469 - acc: 0.9830 - val_loss: 0.2971 - val_acc: 0.9330\n",
      "Epoch 50/100\n",
      "100/100 [==============================] - 12s 118ms/step - loss: 0.0376 - acc: 0.9860 - val_loss: 0.2831 - val_acc: 0.9360\n",
      "Epoch 51/100\n",
      "100/100 [==============================] - 12s 121ms/step - loss: 0.0343 - acc: 0.9900 - val_loss: 0.3075 - val_acc: 0.9310\n",
      "Epoch 52/100\n",
      "100/100 [==============================] - 12s 120ms/step - loss: 0.0458 - acc: 0.9870 - val_loss: 0.3430 - val_acc: 0.9270\n",
      "Epoch 53/100\n",
      "100/100 [==============================] - 12s 121ms/step - loss: 0.0333 - acc: 0.9865 - val_loss: 0.3224 - val_acc: 0.9370\n",
      "Epoch 54/100\n",
      "100/100 [==============================] - 12s 118ms/step - loss: 0.0425 - acc: 0.9860 - val_loss: 0.2657 - val_acc: 0.9450\n",
      "Epoch 55/100\n",
      "100/100 [==============================] - 12s 118ms/step - loss: 0.0337 - acc: 0.9895 - val_loss: 0.2862 - val_acc: 0.9400\n",
      "Epoch 56/100\n",
      "100/100 [==============================] - 12s 123ms/step - loss: 0.0375 - acc: 0.9845 - val_loss: 0.3129 - val_acc: 0.9290\n",
      "Epoch 57/100\n",
      "100/100 [==============================] - 12s 119ms/step - loss: 0.0497 - acc: 0.9850 - val_loss: 0.3033 - val_acc: 0.9350\n",
      "Epoch 58/100\n",
      "100/100 [==============================] - 12s 122ms/step - loss: 0.0364 - acc: 0.9865 - val_loss: 0.3219 - val_acc: 0.9300\n",
      "Epoch 59/100\n",
      "100/100 [==============================] - 12s 122ms/step - loss: 0.0384 - acc: 0.9870 - val_loss: 0.2998 - val_acc: 0.9310\n",
      "Epoch 60/100\n",
      "100/100 [==============================] - 12s 121ms/step - loss: 0.0341 - acc: 0.9880 - val_loss: 0.2958 - val_acc: 0.9380\n"
     ]
    },
    {
     "name": "stdout",
     "output_type": "stream",
     "text": [
      "Epoch 61/100\n",
      "100/100 [==============================] - 12s 120ms/step - loss: 0.0330 - acc: 0.9870 - val_loss: 0.3402 - val_acc: 0.9310\n",
      "Epoch 62/100\n",
      "100/100 [==============================] - 12s 122ms/step - loss: 0.0343 - acc: 0.9875 - val_loss: 0.3541 - val_acc: 0.9290\n",
      "Epoch 63/100\n",
      "100/100 [==============================] - 12s 119ms/step - loss: 0.0422 - acc: 0.9850 - val_loss: 0.3306 - val_acc: 0.9350\n",
      "Epoch 64/100\n",
      "100/100 [==============================] - 12s 122ms/step - loss: 0.0317 - acc: 0.9895 - val_loss: 0.3652 - val_acc: 0.9300\n",
      "Epoch 65/100\n",
      "100/100 [==============================] - 12s 123ms/step - loss: 0.0316 - acc: 0.9900 - val_loss: 0.3135 - val_acc: 0.9330\n",
      "Epoch 66/100\n",
      "100/100 [==============================] - 12s 123ms/step - loss: 0.0268 - acc: 0.9895 - val_loss: 0.3227 - val_acc: 0.9320\n",
      "Epoch 67/100\n",
      "100/100 [==============================] - 12s 123ms/step - loss: 0.0430 - acc: 0.9865 - val_loss: 0.2989 - val_acc: 0.9340\n",
      "Epoch 68/100\n",
      "100/100 [==============================] - 12s 122ms/step - loss: 0.0410 - acc: 0.9860 - val_loss: 0.2796 - val_acc: 0.9350\n",
      "Epoch 69/100\n",
      "100/100 [==============================] - 12s 120ms/step - loss: 0.0222 - acc: 0.9930 - val_loss: 0.3230 - val_acc: 0.9320\n",
      "Epoch 70/100\n",
      "100/100 [==============================] - 12s 121ms/step - loss: 0.0323 - acc: 0.9910 - val_loss: 0.2884 - val_acc: 0.9360\n",
      "Epoch 71/100\n",
      "100/100 [==============================] - 12s 121ms/step - loss: 0.0359 - acc: 0.9875 - val_loss: 0.3306 - val_acc: 0.9340\n",
      "Epoch 72/100\n",
      "100/100 [==============================] - 12s 118ms/step - loss: 0.0257 - acc: 0.9890 - val_loss: 0.3103 - val_acc: 0.9360\n",
      "Epoch 73/100\n",
      "100/100 [==============================] - 12s 120ms/step - loss: 0.0312 - acc: 0.9880 - val_loss: 0.4157 - val_acc: 0.9240\n",
      "Epoch 74/100\n",
      "100/100 [==============================] - 12s 122ms/step - loss: 0.0282 - acc: 0.9880 - val_loss: 0.3373 - val_acc: 0.9310\n",
      "Epoch 75/100\n",
      "100/100 [==============================] - 12s 121ms/step - loss: 0.0382 - acc: 0.9915 - val_loss: 0.2743 - val_acc: 0.9350\n",
      "Epoch 76/100\n",
      "100/100 [==============================] - 12s 119ms/step - loss: 0.0210 - acc: 0.9940 - val_loss: 0.3314 - val_acc: 0.9260\n",
      "Epoch 77/100\n",
      "100/100 [==============================] - 12s 121ms/step - loss: 0.0240 - acc: 0.9910 - val_loss: 0.3149 - val_acc: 0.9400\n",
      "Epoch 78/100\n",
      "100/100 [==============================] - 12s 122ms/step - loss: 0.0280 - acc: 0.9910 - val_loss: 0.3723 - val_acc: 0.9320\n",
      "Epoch 79/100\n",
      "100/100 [==============================] - 12s 122ms/step - loss: 0.0233 - acc: 0.9945 - val_loss: 0.3198 - val_acc: 0.9390\n",
      "Epoch 80/100\n",
      "100/100 [==============================] - 12s 120ms/step - loss: 0.0329 - acc: 0.9885 - val_loss: 0.3190 - val_acc: 0.9380\n",
      "Epoch 81/100\n",
      "100/100 [==============================] - 12s 120ms/step - loss: 0.0237 - acc: 0.9930 - val_loss: 0.4038 - val_acc: 0.9300\n",
      "Epoch 82/100\n",
      "100/100 [==============================] - 12s 119ms/step - loss: 0.0274 - acc: 0.9895 - val_loss: 0.5101 - val_acc: 0.9130\n",
      "Epoch 83/100\n",
      "100/100 [==============================] - 12s 123ms/step - loss: 0.0373 - acc: 0.9905 - val_loss: 0.3407 - val_acc: 0.9350\n",
      "Epoch 84/100\n",
      "100/100 [==============================] - 12s 120ms/step - loss: 0.0270 - acc: 0.9910 - val_loss: 0.2882 - val_acc: 0.9380\n",
      "Epoch 85/100\n",
      "100/100 [==============================] - 12s 119ms/step - loss: 0.0139 - acc: 0.9960 - val_loss: 0.3224 - val_acc: 0.9380\n",
      "Epoch 86/100\n",
      "100/100 [==============================] - 12s 122ms/step - loss: 0.0300 - acc: 0.9910 - val_loss: 0.3180 - val_acc: 0.9330\n",
      "Epoch 87/100\n",
      "100/100 [==============================] - 12s 122ms/step - loss: 0.0210 - acc: 0.9935 - val_loss: 0.3632 - val_acc: 0.9330\n",
      "Epoch 88/100\n",
      "100/100 [==============================] - 12s 120ms/step - loss: 0.0292 - acc: 0.9940 - val_loss: 0.3536 - val_acc: 0.9350\n",
      "Epoch 89/100\n",
      "100/100 [==============================] - 12s 122ms/step - loss: 0.0251 - acc: 0.9910 - val_loss: 0.4122 - val_acc: 0.9180\n",
      "Epoch 90/100\n",
      "100/100 [==============================] - 12s 118ms/step - loss: 0.0249 - acc: 0.9925 - val_loss: 0.3626 - val_acc: 0.9300\n",
      "Epoch 91/100\n",
      "100/100 [==============================] - 12s 122ms/step - loss: 0.0165 - acc: 0.9920 - val_loss: 0.4015 - val_acc: 0.9310\n",
      "Epoch 92/100\n",
      "100/100 [==============================] - 12s 123ms/step - loss: 0.0219 - acc: 0.9920 - val_loss: 0.3484 - val_acc: 0.9310\n",
      "Epoch 93/100\n",
      "100/100 [==============================] - 12s 122ms/step - loss: 0.0267 - acc: 0.9925 - val_loss: 0.3116 - val_acc: 0.9340\n",
      "Epoch 94/100\n",
      "100/100 [==============================] - 12s 121ms/step - loss: 0.0243 - acc: 0.9910 - val_loss: 0.4805 - val_acc: 0.9220\n",
      "Epoch 95/100\n",
      "100/100 [==============================] - 12s 121ms/step - loss: 0.0285 - acc: 0.9905 - val_loss: 0.3601 - val_acc: 0.9410\n",
      "Epoch 96/100\n",
      "100/100 [==============================] - 12s 121ms/step - loss: 0.0193 - acc: 0.9935 - val_loss: 0.3381 - val_acc: 0.9430\n",
      "Epoch 97/100\n",
      "100/100 [==============================] - 12s 118ms/step - loss: 0.0240 - acc: 0.9895 - val_loss: 0.3447 - val_acc: 0.9380\n",
      "Epoch 98/100\n",
      "100/100 [==============================] - 12s 121ms/step - loss: 0.0165 - acc: 0.9945 - val_loss: 0.3441 - val_acc: 0.9360\n",
      "Epoch 99/100\n",
      "100/100 [==============================] - 12s 122ms/step - loss: 0.0228 - acc: 0.9915 - val_loss: 0.3164 - val_acc: 0.9430\n",
      "Epoch 100/100\n",
      "100/100 [==============================] - 12s 123ms/step - loss: 0.0212 - acc: 0.9935 - val_loss: 0.3275 - val_acc: 0.9400\n"
     ]
    }
   ],
   "source": [
    "history=model.fit_generator(train_generator,steps_per_epoch=100,epochs=100,validation_data=validation_generator,validation_steps=50)"
   ]
  },
  {
   "cell_type": "code",
   "execution_count": 123,
   "metadata": {},
   "outputs": [
    {
     "data": {
      "image/png": "[encoded data removed]",
      "text/plain": [
       "<Figure size 432x288 with 1 Axes>"
      ]
     },
     "metadata": {},
     "output_type": "display_data"
    },
    {
     "data": {
      "image/png": "[encoded data removed]",
      "text/plain": [
       "<Figure size 432x288 with 1 Axes>"
      ]
     },
     "metadata": {},
     "output_type": "display_data"
    }
   ],
   "source": [
    "acc=history.history['acc']\n",
    "val_acc=history.history['val_acc']\n",
    "val_loss=history.history['val_loss']\n",
    "loss=history.history['loss']\n",
    "\n",
    "epochs=range(1,len(acc)+1)\n",
    "plt.plot(epochs,acc,'bo',label='Training acc')\n",
    "plt.plot(epochs,val_acc,'b',label='Validation acc')\n",
    "plt.title('Training and Validation accuracy')\n",
    "plt.legend()\n",
    "\n",
    "plt.figure()\n",
    "\n",
    "\n",
    "plt.plot(epochs,loss,'bo',label='Training loss')\n",
    "plt.plot(epochs,val_loss,'b',label='Validation loss')\n",
    "plt.title('Training and Validation loss')\n",
    "plt.legend()\n",
    "\n",
    "plt.show()"
   ]
  },
  {
   "cell_type": "code",
   "execution_count": 124,
   "metadata": {},
   "outputs": [],
   "source": [
    "### smooth curves\n",
    "\n",
    "def smooth_curve(points,factor=0.8):\n",
    "    smoothed_points=[]\n",
    "    for point in points:\n",
    "        if smoothed_points:\n",
    "            previous=smoothed_points[-1]\n",
    "            smoothed_points.append(previous*factor+point*(1-factor))\n",
    "        else:\n",
    "            smoothed_points.append(point)\n",
    "    return smoothed_points"
   ]
  },
  {
   "cell_type": "code",
   "execution_count": 125,
   "metadata": {},
   "outputs": [
    {
     "data": {
      "image/png": "[encoded data removed]",
      "text/plain": [
       "<Figure size 432x288 with 1 Axes>"
      ]
     },
     "metadata": {},
     "output_type": "display_data"
    },
    {
     "data": {
      "image/png": "[encoded data removed]",
      "text/plain": [
       "<Figure size 432x288 with 1 Axes>"
      ]
     },
     "metadata": {},
     "output_type": "display_data"
    }
   ],
   "source": [
    "plt.plot(epochs,smooth_curve(acc),'bo',label='Smoothed Training acc')\n",
    "plt.plot(epochs,smooth_curve(val_acc),'b',label='Smoothed Validation acc')\n",
    "plt.title('Training and validation accuracy')\n",
    "plt.legend()\n",
    "\n",
    "plt.figure()\n",
    "\n",
    "plt.plot(epochs,smooth_curve(loss),'bo',label='Smoothed Training loss')\n",
    "plt.plot(epochs,smooth_curve(val_loss),'b',label='Smoothed Validation loss')\n",
    "plt.title('Training and validation loss')\n",
    "plt.legend()\n",
    "\n",
    "plt.show()\n"
   ]
  },
  {
   "cell_type": "code",
   "execution_count": 126,
   "metadata": {},
   "outputs": [
    {
     "name": "stdout",
     "output_type": "stream",
     "text": [
      "Found 1000 images belonging to 2 classes.\n"
     ]
    }
   ],
   "source": [
    "### evaluation on test data\n",
    "test_generator=test_datagen.flow_from_directory(test_dir,target_size=(150,150),batch_size=20,class_mode='binary')"
   ]
  },
  {
   "cell_type": "code",
   "execution_count": 127,
   "metadata": {},
   "outputs": [],
   "source": [
    "test_loss,test_acc=model.evaluate_generator(test_generator,steps=50)"
   ]
  },
  {
   "cell_type": "code",
   "execution_count": 128,
   "metadata": {},
   "outputs": [
    {
     "name": "stdout",
     "output_type": "stream",
     "text": [
      "test acc: 0.9349999940395355\n"
     ]
    }
   ],
   "source": [
    "print('test acc:',test_acc)"
   ]
  },
  {
   "cell_type": "code",
   "execution_count": null,
   "metadata": {},
   "outputs": [],
   "source": []
  }
 ],
 "metadata": {
  "kernelspec": {
   "display_name": "Python 3",
   "language": "python",
   "name": "python3"
  },
  "language_info": {
   "codemirror_mode": {
    "name": "ipython",
    "version": 3
   },
   "file_extension": ".py",
   "mimetype": "text/x-python",
   "name": "python",
   "nbconvert_exporter": "python",
   "pygments_lexer": "ipython3",
   "version": "3.6.5"
  }
 },
 "nbformat": 4,
 "nbformat_minor": 2
}
