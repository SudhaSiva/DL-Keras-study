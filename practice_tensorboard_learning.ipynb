{
 "cells": [
  {
   "cell_type": "code",
   "execution_count": 10,
   "metadata": {},
   "outputs": [],
   "source": [
    "import os\n",
    "os.environ[\"CUDA_VISIBLE_DEVICES\"] = \"0\""
   ]
  },
  {
   "cell_type": "code",
   "execution_count": 11,
   "metadata": {},
   "outputs": [],
   "source": [
    "import keras\n",
    "from keras import layers\n",
    "from keras.datasets import imdb\n",
    "from keras.preprocessing import  sequence"
   ]
  },
  {
   "cell_type": "code",
   "execution_count": 12,
   "metadata": {},
   "outputs": [],
   "source": [
    "max_features=2000\n",
    "max_len=500"
   ]
  },
  {
   "cell_type": "code",
   "execution_count": 13,
   "metadata": {},
   "outputs": [],
   "source": [
    "(x_train,y_train),(x_test,y_test)=imdb.load_data(num_words=max_features)"
   ]
  },
  {
   "cell_type": "code",
   "execution_count": 16,
   "metadata": {},
   "outputs": [],
   "source": [
    "x_train=sequence.pad_sequences(x_train,maxlen=max_len)\n",
    "x_test=sequence.pad_sequences(x_test,maxlen=max_len)"
   ]
  },
  {
   "cell_type": "code",
   "execution_count": 28,
   "metadata": {},
   "outputs": [
    {
     "name": "stdout",
     "output_type": "stream",
     "text": [
      "_________________________________________________________________\n",
      "Layer (type)                 Output Shape              Param #   \n",
      "=================================================================\n",
      "embed (Embedding)            (None, 500, 128)          256000    \n",
      "_________________________________________________________________\n",
      "conv1d_8 (Conv1D)            (None, 494, 32)           28704     \n",
      "_________________________________________________________________\n",
      "max_pooling1d_5 (MaxPooling1 (None, 98, 32)            0         \n",
      "_________________________________________________________________\n",
      "conv1d_9 (Conv1D)            (None, 92, 32)            7200      \n",
      "_________________________________________________________________\n",
      "global_max_pooling1d_2 (Glob (None, 32)                0         \n",
      "_________________________________________________________________\n",
      "dense_2 (Dense)              (None, 1)                 33        \n",
      "=================================================================\n",
      "Total params: 291,937\n",
      "Trainable params: 291,937\n",
      "Non-trainable params: 0\n",
      "_________________________________________________________________\n"
     ]
    }
   ],
   "source": [
    "model=keras.models.Sequential()\n",
    "model.add(layers.Embedding(max_features,128,input_length=max_len,name='embed'))\n",
    "model.add(layers.Conv1D(32,7,activation='relu'))\n",
    "model.add(layers.MaxPooling1D(5))\n",
    "\n",
    "model.add(layers.Conv1D(32,7,activation='relu'))\n",
    "model.add(layers.GlobalMaxPooling1D())\n",
    "model.add(layers.Dense(1))\n",
    "model.summary()"
   ]
  },
  {
   "cell_type": "code",
   "execution_count": 29,
   "metadata": {},
   "outputs": [],
   "source": [
    "model.compile(optimizer='rmsprop',loss='binary_crossentropy',metrics=['acc'])"
   ]
  },
  {
   "cell_type": "code",
   "execution_count": 31,
   "metadata": {},
   "outputs": [],
   "source": [
    "my_log_dir='/home/ai-ee/Downloads/callbgs-example'\n",
    "os.mkdir(my_log_dir)"
   ]
  },
  {
   "cell_type": "code",
   "execution_count": 32,
   "metadata": {},
   "outputs": [],
   "source": [
    "callbacks=[keras.callbacks.TensorBoard(log_dir=my_log_dir,histogram_freq=1,embeddings_freq=1)]"
   ]
  },
  {
   "cell_type": "code",
   "execution_count": 34,
   "metadata": {},
   "outputs": [
    {
     "name": "stdout",
     "output_type": "stream",
     "text": [
      "Train on 20000 samples, validate on 5000 samples\n",
      "Epoch 1/20\n",
      "20000/20000 [==============================] - 3s 133us/step - loss: 0.6277 - acc: 0.6524 - val_loss: 0.4215 - val_acc: 0.8368\n",
      "Epoch 2/20\n",
      "20000/20000 [==============================] - 2s 89us/step - loss: 0.4808 - acc: 0.7984 - val_loss: 0.4664 - val_acc: 0.7912\n",
      "Epoch 3/20\n",
      "20000/20000 [==============================] - 2s 87us/step - loss: 0.4089 - acc: 0.7726 - val_loss: 0.4735 - val_acc: 0.7840\n",
      "Epoch 4/20\n",
      "20000/20000 [==============================] - 2s 86us/step - loss: 0.3807 - acc: 0.7283 - val_loss: 0.5779 - val_acc: 0.6880\n",
      "Epoch 5/20\n",
      "20000/20000 [==============================] - 2s 87us/step - loss: 0.3242 - acc: 0.7138 - val_loss: 0.7704 - val_acc: 0.6308\n",
      "Epoch 6/20\n",
      "20000/20000 [==============================] - 2s 87us/step - loss: 0.2847 - acc: 0.6864 - val_loss: 0.8175 - val_acc: 0.5552\n",
      "Epoch 7/20\n",
      "20000/20000 [==============================] - 2s 87us/step - loss: 0.2535 - acc: 0.5933 - val_loss: 0.7104 - val_acc: 0.5496\n",
      "Epoch 8/20\n",
      "20000/20000 [==============================] - 2s 89us/step - loss: 0.2147 - acc: 0.5489 - val_loss: 0.8777 - val_acc: 0.4622\n",
      "Epoch 9/20\n",
      "20000/20000 [==============================] - 2s 87us/step - loss: 0.1796 - acc: 0.4966 - val_loss: 0.8955 - val_acc: 0.4200\n",
      "Epoch 10/20\n",
      "20000/20000 [==============================] - 2s 87us/step - loss: 0.1545 - acc: 0.4386 - val_loss: 1.2305 - val_acc: 0.3490\n",
      "Epoch 11/20\n",
      "20000/20000 [==============================] - 2s 87us/step - loss: 0.1427 - acc: 0.3600 - val_loss: 1.2123 - val_acc: 0.3224\n",
      "Epoch 12/20\n",
      "20000/20000 [==============================] - 2s 88us/step - loss: 0.1319 - acc: 0.3116 - val_loss: 1.3570 - val_acc: 0.2910\n",
      "Epoch 13/20\n",
      "20000/20000 [==============================] - 2s 87us/step - loss: 0.1299 - acc: 0.2475 - val_loss: 1.1214 - val_acc: 0.2804\n",
      "Epoch 14/20\n",
      "20000/20000 [==============================] - 2s 87us/step - loss: 0.1279 - acc: 0.2171 - val_loss: 1.1774 - val_acc: 0.2502\n",
      "Epoch 15/20\n",
      "20000/20000 [==============================] - 2s 87us/step - loss: 0.1235 - acc: 0.1911 - val_loss: 1.2191 - val_acc: 0.2530\n",
      "Epoch 16/20\n",
      "20000/20000 [==============================] - 2s 86us/step - loss: 0.1243 - acc: 0.1710 - val_loss: 1.2495 - val_acc: 0.2300\n",
      "Epoch 17/20\n",
      "20000/20000 [==============================] - 2s 86us/step - loss: 0.1264 - acc: 0.1530 - val_loss: 1.2780 - val_acc: 0.2140\n",
      "Epoch 18/20\n",
      "20000/20000 [==============================] - 2s 86us/step - loss: 0.1231 - acc: 0.1339 - val_loss: 1.2739 - val_acc: 0.2136\n",
      "Epoch 19/20\n",
      "20000/20000 [==============================] - 2s 85us/step - loss: 0.1275 - acc: 0.1244 - val_loss: 1.2926 - val_acc: 0.1946\n",
      "Epoch 20/20\n",
      "20000/20000 [==============================] - 2s 89us/step - loss: 0.1210 - acc: 0.1107 - val_loss: 1.3024 - val_acc: 0.2022\n"
     ]
    }
   ],
   "source": [
    "history=model.fit(x_train,y_train,epochs=20,batch_size=128,validation_split=0.2,callbacks=callbacks)"
   ]
  },
  {
   "cell_type": "code",
   "execution_count": 35,
   "metadata": {},
   "outputs": [],
   "source": [
    "from keras.utils import plot_model"
   ]
  },
  {
   "cell_type": "code",
   "execution_count": 36,
   "metadata": {},
   "outputs": [],
   "source": [
    "plot_model(model,to_file='model.png')"
   ]
  },
  {
   "cell_type": "code",
   "execution_count": null,
   "metadata": {},
   "outputs": [],
   "source": []
  }
 ],
 "metadata": {
  "kernelspec": {
   "display_name": "Python 3",
   "language": "python",
   "name": "python3"
  },
  "language_info": {
   "codemirror_mode": {
    "name": "ipython",
    "version": 3
   },
   "file_extension": ".py",
   "mimetype": "text/x-python",
   "name": "python",
   "nbconvert_exporter": "python",
   "pygments_lexer": "ipython3",
   "version": "3.6.5"
  }
 },
 "nbformat": 4,
 "nbformat_minor": 2
}
